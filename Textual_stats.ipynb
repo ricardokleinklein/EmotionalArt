{
 "cells": [
  {
   "cell_type": "markdown",
   "metadata": {
    "collapsed": true,
    "pycharm": {
     "name": "#%% md\n"
    }
   },
   "source": [
    "# Textual Stats\n",
    "\n",
    "## Artemis: Text -- Emotions"
   ]
  },
  {
   "cell_type": "code",
   "execution_count": 13,
   "outputs": [
    {
     "data": {
      "text/plain": "                 art_style                                           painting  \\\n0       Post_Impressionism  vincent-van-gogh_portrait-of-madame-ginoux-l-a...   \n1       Post_Impressionism  vincent-van-gogh_portrait-of-madame-ginoux-l-a...   \n2       Post_Impressionism  vincent-van-gogh_portrait-of-madame-ginoux-l-a...   \n3       Post_Impressionism  vincent-van-gogh_portrait-of-madame-ginoux-l-a...   \n4       Post_Impressionism  vincent-van-gogh_portrait-of-madame-ginoux-l-a...   \n...                    ...                                                ...   \n454679              Cubism                           gino-severini_a-dancer-1   \n454680         Romanticism                  ivan-aivazovsky_sea-at-night-1861   \n454681         Romanticism                  ivan-aivazovsky_sea-at-night-1861   \n454682         Romanticism                  ivan-aivazovsky_sea-at-night-1861   \n454683              Cubism                      joan-miro_not_detected_227963   \n\n               emotion                                          utterance  \\\n0       something else  She seems very happy in the picture, and you w...   \n1              sadness  This woman has really knotty hands which makes...   \n2       something else  When looking at this woman, I am filled with c...   \n3          contentment  A woman looking at ease, peaceful, and satisfi...   \n4                  awe  She looks like a lady from that past that migh...   \n...                ...                                                ...   \n454679             awe  the collection and collage of different colors...   \n454680             awe  The peaceful reflections of the moonlight on t...   \n454681      excitement  I can imagine the sailors resting this peacefu...   \n454682     contentment  The steep mountains and the moonlight provide ...   \n454683            fear  If you look at the colors individually they ar...   \n\n        repetition  \n0               10  \n1               10  \n2               10  \n3               10  \n4               10  \n...            ...  \n454679          48  \n454680           8  \n454681           8  \n454682           8  \n454683          10  \n\n[454684 rows x 5 columns]",
      "text/html": "<div>\n<style scoped>\n    .dataframe tbody tr th:only-of-type {\n        vertical-align: middle;\n    }\n\n    .dataframe tbody tr th {\n        vertical-align: top;\n    }\n\n    .dataframe thead th {\n        text-align: right;\n    }\n</style>\n<table border=\"1\" class=\"dataframe\">\n  <thead>\n    <tr style=\"text-align: right;\">\n      <th></th>\n      <th>art_style</th>\n      <th>painting</th>\n      <th>emotion</th>\n      <th>utterance</th>\n      <th>repetition</th>\n    </tr>\n  </thead>\n  <tbody>\n    <tr>\n      <th>0</th>\n      <td>Post_Impressionism</td>\n      <td>vincent-van-gogh_portrait-of-madame-ginoux-l-a...</td>\n      <td>something else</td>\n      <td>She seems very happy in the picture, and you w...</td>\n      <td>10</td>\n    </tr>\n    <tr>\n      <th>1</th>\n      <td>Post_Impressionism</td>\n      <td>vincent-van-gogh_portrait-of-madame-ginoux-l-a...</td>\n      <td>sadness</td>\n      <td>This woman has really knotty hands which makes...</td>\n      <td>10</td>\n    </tr>\n    <tr>\n      <th>2</th>\n      <td>Post_Impressionism</td>\n      <td>vincent-van-gogh_portrait-of-madame-ginoux-l-a...</td>\n      <td>something else</td>\n      <td>When looking at this woman, I am filled with c...</td>\n      <td>10</td>\n    </tr>\n    <tr>\n      <th>3</th>\n      <td>Post_Impressionism</td>\n      <td>vincent-van-gogh_portrait-of-madame-ginoux-l-a...</td>\n      <td>contentment</td>\n      <td>A woman looking at ease, peaceful, and satisfi...</td>\n      <td>10</td>\n    </tr>\n    <tr>\n      <th>4</th>\n      <td>Post_Impressionism</td>\n      <td>vincent-van-gogh_portrait-of-madame-ginoux-l-a...</td>\n      <td>awe</td>\n      <td>She looks like a lady from that past that migh...</td>\n      <td>10</td>\n    </tr>\n    <tr>\n      <th>...</th>\n      <td>...</td>\n      <td>...</td>\n      <td>...</td>\n      <td>...</td>\n      <td>...</td>\n    </tr>\n    <tr>\n      <th>454679</th>\n      <td>Cubism</td>\n      <td>gino-severini_a-dancer-1</td>\n      <td>awe</td>\n      <td>the collection and collage of different colors...</td>\n      <td>48</td>\n    </tr>\n    <tr>\n      <th>454680</th>\n      <td>Romanticism</td>\n      <td>ivan-aivazovsky_sea-at-night-1861</td>\n      <td>awe</td>\n      <td>The peaceful reflections of the moonlight on t...</td>\n      <td>8</td>\n    </tr>\n    <tr>\n      <th>454681</th>\n      <td>Romanticism</td>\n      <td>ivan-aivazovsky_sea-at-night-1861</td>\n      <td>excitement</td>\n      <td>I can imagine the sailors resting this peacefu...</td>\n      <td>8</td>\n    </tr>\n    <tr>\n      <th>454682</th>\n      <td>Romanticism</td>\n      <td>ivan-aivazovsky_sea-at-night-1861</td>\n      <td>contentment</td>\n      <td>The steep mountains and the moonlight provide ...</td>\n      <td>8</td>\n    </tr>\n    <tr>\n      <th>454683</th>\n      <td>Cubism</td>\n      <td>joan-miro_not_detected_227963</td>\n      <td>fear</td>\n      <td>If you look at the colors individually they ar...</td>\n      <td>10</td>\n    </tr>\n  </tbody>\n</table>\n<p>454684 rows × 5 columns</p>\n</div>"
     },
     "execution_count": 13,
     "metadata": {},
     "output_type": "execute_result"
    }
   ],
   "source": [
    "import nltk\n",
    "import pathlib\n",
    "import pandas\n",
    "import string\n",
    "import seaborn\n",
    "\n",
    "from collections import Counter\n",
    "\n",
    "from typing import Dict, List, Optional, Union\n",
    "\n",
    "ROOT = pathlib.Path.cwd().parent\n",
    "\n",
    "artemis = pandas.read_csv(\n",
    "    ROOT / \"DATA\" / \"artemis\" / \"artemis_dataset_release_v0.csv\"\n",
    ")\n",
    "artemis"
   ],
   "metadata": {
    "collapsed": false,
    "pycharm": {
     "name": "#%%\n"
    }
   }
  },
  {
   "cell_type": "code",
   "execution_count": 10,
   "outputs": [
    {
     "data": {
      "text/plain": "0         she seems very happy in the picture and you wa...\n1         this woman has really knotty hands which makes...\n2         when looking at this woman i am filled with cu...\n3         a woman looking at ease peaceful and satisfied...\n4         she looks like a lady from that past that migh...\n                                ...                        \n454679    the collection and collage of different colors...\n454680    the peaceful reflections of the moonlight on t...\n454681    i can imagine the sailors resting this peacefu...\n454682    the steep mountains and the moonlight provide ...\n454683    if you look at the colors individually they ar...\nName: utterance, Length: 454684, dtype: object"
     },
     "execution_count": 10,
     "metadata": {},
     "output_type": "execute_result"
    }
   ],
   "source": [
    "utterance = artemis['utterance'].apply(str.lower)\n",
    "utterance = utterance.apply(lambda s:\n",
    "    s.translate(str.maketrans('', '', string.punctuation)))\n",
    "utterance"
   ],
   "metadata": {
    "collapsed": false,
    "pycharm": {
     "name": "#%%\n"
    }
   }
  },
  {
   "cell_type": "code",
   "execution_count": null,
   "outputs": [],
   "source": [
    "def compute_BERT(texts, from_file: str = None):\n",
    "    \"\"\" Compute BERT embeddings for a series of samples with +1 text/sample.\n",
    "\n",
    "    Args:\n",
    "        texts:\n",
    "        from_file:\n",
    "\n",
    "    Returns:\n",
    "        Sentence-level BERT embeddings\n",
    "    \"\"\"\n",
    "    if from_file:\n",
    "        x = numpy.load(from_file)\n",
    "        print(x.shape)\n",
    "        return x\n",
    "\n",
    "#    tokenizer = BertTokenizer.from_pretrained(\"bert-base-uncased\")\n",
    "#    model = BertModel.from_pretrained(\"bert-base-uncased\")\n",
    "#    os.makedirs('tmp', exist_ok=True)\n",
    "#    for i in tqdm(range(len(texts)), total=len(texts)):\n",
    "#        inputs = tokenizer(texts['captions-v0'].iloc[i].split('.'),\n",
    "#                           return_tensors=\"pt\",\n",
    "#                           padding=\"max_length\")\n",
    "#        outputs = model(**inputs)\n",
    "#        sentence_pooler = outputs.pooler_output.mean(axis=0).cpu().detach().numpy()\n",
    "#        numpy.save('tmp/' + texts['video'].iloc[i] + '.npy', sentence_pooler)\n",
    "\n",
    "    X = []\n",
    "    for j in range(len(texts['video'])):\n",
    "        X.append(numpy.load('tmp/' + str(texts['video'].iloc[j]) + '.npy'))\n",
    "    return numpy.array(X)\n"
   ],
   "metadata": {
    "collapsed": false,
    "pycharm": {
     "name": "#%%\n"
    }
   }
  },
  {
   "cell_type": "markdown",
   "source": [
    "### Most common words in the dataset?"
   ],
   "metadata": {
    "collapsed": false,
    "pycharm": {
     "name": "#%% md\n"
    }
   }
  },
  {
   "cell_type": "code",
   "execution_count": 14,
   "outputs": [
    {
     "data": {
      "text/plain": "{'the': 660155,\n 'and': 257453,\n 'a': 238508,\n 'of': 210631,\n 'is': 180436,\n 'to': 134277,\n 'in': 126482,\n 'like': 119113,\n 'this': 118255,\n 'i': 97110,\n 'it': 93980,\n 'looks': 91427,\n 'me': 76573,\n 'are': 70959,\n 'on': 63826,\n 'with': 58486,\n 'painting': 49094,\n 'colors': 47898,\n 'look': 47630,\n 'feel': 45939,\n 'makes': 45699,\n 'very': 45596,\n 'that': 41203,\n 'be': 37420,\n 'her': 37366,\n '': 34943,\n 'man': 33792,\n 'at': 33649,\n 'as': 31742,\n 'woman': 31688,\n 'for': 27881,\n 'but': 27809,\n 'its': 25418,\n 'so': 24884,\n 'his': 24741,\n 'an': 24010,\n 'people': 23211,\n 'she': 23155,\n 'has': 22606,\n 'seems': 22397,\n 'make': 22348,\n 'they': 22151,\n 'face': 21749,\n 'dark': 20390,\n 'he': 20245,\n 'not': 19835,\n 'what': 19057,\n 'there': 18812,\n 'or': 18488,\n 'scene': 18248,\n 'out': 17529,\n 'color': 17150,\n 'because': 17073,\n 'looking': 17056,\n 'picture': 17018,\n 'beautiful': 16918,\n 'from': 16818,\n 'all': 16213,\n 'by': 16179,\n 'blue': 15929,\n 'just': 15695,\n 'love': 15478,\n 'sad': 15230,\n 'white': 14810,\n 'bright': 14264,\n 'way': 14111,\n 'red': 14101,\n 'water': 13836,\n 'about': 13714,\n 'something': 13565,\n 'background': 13297,\n 'have': 13241,\n 'sky': 13169,\n 'really': 12989,\n 'reminds': 12560,\n 'black': 12412,\n 'seem': 12318,\n 'how': 12222,\n 'if': 11993,\n 'their': 11918,\n 'image': 11557,\n 'one': 11406,\n 'well': 11392,\n 'happy': 11358,\n 'peaceful': 11294,\n 'you': 11097,\n 'see': 11080,\n 'trees': 10992,\n 'day': 10656,\n 'think': 10586,\n 'nice': 10560,\n 'flowers': 10443,\n 'feeling': 10279,\n 'some': 10055,\n 'expression': 9946,\n 'green': 9944,\n 'person': 9902,\n 'eyes': 9756,\n 'am': 9660,\n 'my': 9622,\n 'detail': 9522,\n 'which': 9518,\n 'up': 9518,\n 'little': 9378,\n 'appears': 9338,\n 'calm': 9321,\n 'can': 9290,\n 'life': 9052,\n 'being': 9003,\n 'these': 8744,\n 'sense': 8476,\n 'going': 8303,\n 'light': 8217,\n 'womans': 8051,\n 'was': 8047,\n 'dont': 8022,\n 'feels': 7897,\n 'mans': 7754,\n 'would': 7691,\n 'time': 7502,\n 'yellow': 7456,\n 'gives': 7371,\n 'good': 7351,\n 'im': 7346,\n 'into': 7342,\n 'almost': 7317,\n 'women': 7306,\n 'over': 7298,\n 'two': 7250,\n 'lines': 7178,\n 'content': 7070,\n 'no': 7055,\n 'quite': 7031,\n 'interesting': 6969,\n 'child': 6861,\n 'contrast': 6794,\n 'figure': 6743,\n 'piece': 6681,\n 'too': 6592,\n 'who': 6587,\n 'more': 6563,\n 'him': 6561,\n 'together': 6535,\n 'down': 6528,\n 'much': 6481,\n 'other': 6476,\n 'old': 6435,\n 'here': 6422,\n 'while': 6390,\n 'around': 6372,\n 'them': 6336,\n 'dress': 6336,\n 'off': 6194,\n 'art': 6027,\n 'place': 5998,\n 'want': 5947,\n 'men': 5886,\n 'simple': 5865,\n 'great': 5839,\n 'shapes': 5717,\n 'also': 5717,\n 'artist': 5674,\n 'someone': 5665,\n 'work': 5592,\n 'though': 5586,\n 'use': 5575,\n 'used': 5461,\n 'different': 5417,\n 'figures': 5384,\n 'do': 5382,\n 'lady': 5318,\n 'when': 5310,\n 'girl': 5233,\n 'could': 5216,\n 'relaxing': 5182,\n 'even': 5177,\n 'nature': 5165,\n 'head': 5156,\n 'portrait': 5132,\n 'lot': 5130,\n 'warm': 5027,\n 'give': 5012,\n 'hair': 5002,\n 'body': 4981,\n 'scary': 4914,\n 'through': 4865,\n 'calming': 4864,\n 'know': 4816,\n 'details': 4810,\n 'young': 4805,\n 'against': 4785,\n 'fun': 4741,\n 'tree': 4704,\n 'awe': 4659,\n 'kind': 4622,\n 'pretty': 4574,\n 'sitting': 4567,\n 'clouds': 4522,\n 'landscape': 4513,\n 'subject': 4464,\n 'bit': 4374,\n 'faces': 4362,\n 'town': 4361,\n 'small': 4327,\n 'many': 4309,\n 'style': 4306,\n 'shows': 4290,\n 'wonder': 4290,\n 'appear': 4285,\n 'orange': 4261,\n 'back': 4256,\n 'since': 4225,\n 'trying': 4216,\n 'hard': 4175,\n 'holding': 4155,\n 'hes': 4134,\n 'funny': 4124,\n 'been': 4092,\n 'sun': 4065,\n 'long': 4038,\n 'right': 4031,\n 'wearing': 4023,\n 'naked': 3990,\n 'lovely': 3989,\n 'such': 3981,\n 'shes': 3967,\n 'still': 3966,\n 'facial': 3952,\n 'relaxed': 3912,\n 'large': 3911,\n 'get': 3855,\n 'drawing': 3837,\n 'each': 3834,\n 'having': 3832,\n 'mountains': 3774,\n 'sadness': 3759,\n 'house': 3750,\n 'baby': 3739,\n 'sure': 3737,\n 'horse': 3702,\n 'remind': 3683,\n 'brown': 3676,\n 'paint': 3640,\n 'city': 3616,\n 'doesnt': 3614,\n 'done': 3559,\n 'behind': 3552,\n 'photo': 3552,\n 'where': 3530,\n 'go': 3485,\n 'soft': 3483,\n 'confused': 3472,\n 'painted': 3465,\n 'amazing': 3456,\n 'nothing': 3456,\n 'made': 3455,\n 'left': 3445,\n 'find': 3432,\n 'abstract': 3430,\n 'view': 3375,\n 'setting': 3374,\n 'top': 3350,\n 'building': 3320,\n 'fear': 3308,\n 'exciting': 3292,\n 'why': 3291,\n 'cant': 3280,\n 'colorful': 3279,\n 'making': 3276,\n 'leaves': 3252,\n 'peace': 3238,\n 'mother': 3212,\n 'enjoying': 3206,\n 'darkness': 3197,\n 'realistic': 3197,\n 'boat': 3192,\n 'buildings': 3162,\n 'does': 3159,\n 'table': 3141,\n 'away': 3135,\n 'pink': 3118,\n 'strokes': 3112,\n 'detailed': 3110,\n 'creepy': 3097,\n 'middle': 3094,\n 'coming': 3072,\n 'excited': 3071,\n 'between': 3068,\n 'big': 2999,\n 'vibrant': 2988,\n 'shadows': 2953,\n 'deep': 2940,\n 'ground': 2936,\n 'eye': 2925,\n 'tones': 2910,\n 'clothing': 2901,\n 'will': 2901,\n 'enjoy': 2899,\n 'tell': 2897,\n 'grass': 2884,\n 'cool': 2884,\n 'side': 2874,\n 'boring': 2862,\n 'theres': 2851,\n 'snow': 2847,\n 'bad': 2842,\n 'serene': 2833,\n 'dressed': 2831,\n 'hand': 2822,\n 'any': 2814,\n 'cold': 2810,\n 'world': 2809,\n 'dead': 2805,\n 'angry': 2787,\n 'family': 2786,\n 'than': 2782,\n 'standing': 2763,\n 'everything': 2760,\n 'another': 2755,\n 'things': 2741,\n 'mountain': 2731,\n 'yet': 2727,\n 'dog': 2721,\n 'guy': 2718,\n 'field': 2717,\n 'gloomy': 2709,\n 'home': 2708,\n 'real': 2699,\n 'theyre': 2698,\n 'beach': 2687,\n 'beauty': 2687,\n 'brings': 2685,\n 'full': 2676,\n 'drawn': 2663,\n 'walking': 2655,\n 'doing': 2651,\n 'lack': 2642,\n 'everyone': 2630,\n 'only': 2621,\n 'playing': 2606,\n 'show': 2596,\n 'sea': 2592,\n 'forest': 2590,\n 'animals': 2582,\n 'seeing': 2574,\n 'those': 2570,\n 'along': 2568,\n 'river': 2567,\n 'smile': 2562,\n 'curious': 2548,\n 'ocean': 2547,\n 'hat': 2535,\n 'amusing': 2529,\n 'pleasant': 2517,\n 'weird': 2488,\n 'jesus': 2485,\n 'ready': 2442,\n 'children': 2440,\n 'blues': 2439,\n 'contentment': 2439,\n 'clothes': 2436,\n 'were': 2429,\n 'fruit': 2428,\n 'bored': 2424,\n 'boats': 2410,\n 'maybe': 2398,\n 'hands': 2358,\n 'angel': 2350,\n 'skin': 2345,\n 'both': 2336,\n 'stand': 2319,\n 'especially': 2319,\n 'rather': 2308,\n 'death': 2305,\n 'lonely': 2299,\n 'front': 2270,\n 'always': 2258,\n 'muted': 2256,\n 'village': 2238,\n 'room': 2234,\n 'shape': 2218,\n 'sort': 2212,\n 'shades': 2199,\n 'strong': 2199,\n 'purple': 2193,\n 'storm': 2190,\n 'night': 2189,\n 'quiet': 2169,\n 'blood': 2162,\n 'anything': 2159,\n 'waves': 2152,\n 'girls': 2152,\n 'brush': 2142,\n 'human': 2140,\n 'religious': 2135,\n 'book': 2131,\n 'under': 2125,\n 'boy': 2119,\n 'bold': 2108,\n 'take': 2089,\n 'nude': 2073,\n 'create': 2069,\n 'same': 2050,\n 'angels': 2048,\n 'expressions': 2039,\n 'getting': 2025,\n 'thought': 2021,\n 'bottom': 1999,\n 'clear': 1988,\n 'we': 1977,\n 'lake': 1976,\n 'had': 1973,\n 'taking': 1972,\n 'odd': 1969,\n 'above': 1964,\n 'wall': 1959,\n 'outside': 1957,\n 'lost': 1947,\n 'come': 1944,\n 'center': 1942,\n 'colored': 1934,\n 'soothing': 1933,\n 'summer': 1928,\n 'next': 1928,\n 'first': 1925,\n 'viewer': 1920,\n 'showing': 1919,\n 'working': 1917,\n 'busy': 1909,\n 'greens': 1905,\n 'flower': 1900,\n 'alone': 1894,\n 'sketch': 1889,\n 'gray': 1885,\n 'sight': 1884,\n 'horses': 1882,\n 'story': 1878,\n 'strange': 1873,\n 'might': 1863,\n 'excitement': 1861,\n 'after': 1854,\n 'stands': 1830,\n 'amused': 1829,\n 'important': 1822,\n 'vase': 1818,\n 'subjects': 1814,\n 'may': 1808,\n 'area': 1807,\n 'bird': 1807,\n 'fall': 1806,\n 'fire': 1805,\n 'dull': 1798,\n 'pose': 1793,\n 'shading': 1787,\n 'attention': 1786,\n 'distance': 1783,\n 'serious': 1775,\n 'colours': 1769,\n 'bring': 1757,\n 'overall': 1748,\n 'before': 1741,\n 'movement': 1741,\n 'foreground': 1741,\n 'seen': 1726,\n 'contrasts': 1698,\n 'grey': 1697,\n 'pleasing': 1680,\n 'open': 1679,\n 'must': 1673,\n 'ominous': 1667,\n 'sunset': 1658,\n 'part': 1655,\n 'battle': 1653,\n 'new': 1652,\n 'natural': 1650,\n 'thing': 1636,\n 'evil': 1634,\n 'rest': 1633,\n 'imagine': 1633,\n 'paintings': 1625,\n 'window': 1614,\n 'empty': 1611,\n 'war': 1611,\n 'depicted': 1610,\n 'walk': 1608,\n 'line': 1608,\n 'put': 1608,\n 'waiting': 1607,\n 'your': 1599,\n 'three': 1596,\n 'couple': 1596,\n 'air': 1589,\n 'without': 1589,\n 'watching': 1588,\n 'tone': 1585,\n 'mind': 1585,\n 'somewhat': 1584,\n 'winter': 1578,\n 'rich': 1578,\n 'features': 1574,\n 'ship': 1574,\n 'happening': 1574,\n 'lots': 1568,\n 'uncomfortable': 1566,\n 'inside': 1565,\n 'sunny': 1565,\n 'land': 1564,\n 'although': 1557,\n 'near': 1546,\n 'street': 1539,\n 'thinking': 1538,\n 'gold': 1536,\n 'whole': 1528,\n 'thats': 1519,\n 'animal': 1518,\n 'design': 1515,\n 'birds': 1514,\n 'perfect': 1509,\n 'dancing': 1507,\n 'then': 1505,\n 'artwork': 1495,\n 'own': 1489,\n 'depiction': 1488,\n 'enough': 1481,\n 'blend': 1480,\n 'help': 1478,\n 'isnt': 1471,\n 'tall': 1470,\n 'confusing': 1469,\n 'rocks': 1468,\n 'garden': 1464,\n 'moment': 1463,\n 'emotion': 1461,\n 'texture': 1456,\n 'road': 1441,\n 'care': 1440,\n 'inviting': 1438,\n 'tired': 1433,\n 'spring': 1433,\n 'golden': 1426,\n 'comfortable': 1426,\n 'chair': 1425,\n 'cute': 1418,\n 'unique': 1416,\n 'perhaps': 1416,\n 'fish': 1414,\n 'impressive': 1414,\n 'pop': 1407,\n 'scenery': 1405,\n 'creates': 1400,\n 'due': 1398,\n 'nicely': 1397,\n 'depth': 1390,\n 'high': 1389,\n 'waters': 1385,\n 'pale': 1384,\n 'reading': 1382,\n 'food': 1382,\n 'reflection': 1380,\n 'cross': 1377,\n 'should': 1377,\n 'adds': 1373,\n 'most': 1372,\n 'others': 1369,\n 'hope': 1368,\n 'depressing': 1361,\n 'confusion': 1357,\n 'vivid': 1349,\n 'pain': 1345,\n 'feelings': 1344,\n 'times': 1344,\n 'giant': 1340,\n 'slightly': 1340,\n 'female': 1339,\n 'lighting': 1329,\n 'posture': 1328,\n 'reds': 1328,\n 'sharp': 1322,\n 'happiness': 1314,\n 'ships': 1307,\n 'form': 1305,\n 'supposed': 1291,\n 'gorgeous': 1289,\n 'giving': 1289,\n 'across': 1288,\n 'powerful': 1277,\n 'wonderful': 1261,\n 'add': 1259,\n 'coloring': 1258,\n 'group': 1258,\n 'else': 1249,\n 'shade': 1244,\n 'understand': 1244,\n 'houses': 1243,\n 'party': 1240,\n 'objects': 1238,\n 'play': 1233,\n 'woods': 1232,\n 'close': 1230,\n 'persons': 1225,\n 'country': 1225,\n 'church': 1224,\n 'probably': 1224,\n 'live': 1222,\n 'shadow': 1222,\n 'either': 1221,\n 'space': 1218,\n 'outfit': 1217,\n 'arms': 1216,\n 'canvas': 1211,\n 'set': 1208,\n 'herself': 1206,\n 'path': 1199,\n 'depicts': 1196,\n 'surrounded': 1195,\n 'surrounding': 1185,\n 'whats': 1185,\n 'scared': 1180,\n 'did': 1174,\n 'poor': 1170,\n 'hills': 1169,\n 'below': 1169,\n 'joy': 1169,\n 'music': 1168,\n 'plain': 1168,\n 'reason': 1166,\n 'evokes': 1166,\n 'characters': 1163,\n 'bodies': 1162,\n 'appealing': 1162,\n 'staring': 1161,\n 'images': 1157,\n 'bed': 1157,\n 'type': 1155,\n 'pattern': 1149,\n 'effect': 1149,\n 'filled': 1141,\n 'focus': 1141,\n 'inspiring': 1140,\n 'days': 1139,\n 'far': 1139,\n 'laugh': 1137,\n 'darker': 1137,\n 'hanging': 1130,\n 'matter': 1129,\n 'ladies': 1126,\n 'half': 1124,\n 'ugly': 1120,\n 'scheme': 1116,\n 'mysterious': 1111,\n 'now': 1111,\n 'happen': 1105,\n 'fearful': 1105,\n 'majestic': 1104,\n 'contrasting': 1104,\n 'suggest': 1104,\n 'bland': 1101,\n 'random': 1093,\n 'heavy': 1091,\n 'hill': 1090,\n 'power': 1087,\n 'anger': 1080,\n 'suggests': 1077,\n 'end': 1076,\n 'simplicity': 1076,\n 'bunch': 1069,\n 'huge': 1068,\n 'character': 1066,\n 'rough': 1065,\n 'energy': 1065,\n 'point': 1063,\n 'towards': 1063,\n 'beautifully': 1062,\n 'moving': 1062,\n 'covered': 1061,\n 'mouth': 1055,\n 'smoke': 1052,\n 'perspective': 1052,\n 'fact': 1051,\n 'older': 1050,\n 'sit': 1045,\n 'bridge': 1044,\n 'never': 1041,\n 'farm': 1039,\n 'playful': 1038,\n 'clearly': 1035,\n 'confident': 1031,\n 'plants': 1029,\n 'wind': 1025,\n 'beard': 1022,\n 'disturbing': 1022,\n 'smiling': 1019,\n 'yellows': 1019,\n 'dying': 1018,\n 'within': 1018,\n 'blurry': 1016,\n 'laying': 1009,\n 'cat': 997,\n 'id': 996,\n 'wish': 989,\n 'floating': 985,\n 'comforting': 984,\n 'floor': 982,\n 'absolutely': 982,\n 'every': 981,\n 'pastel': 980,\n 'amount': 979,\n 'morning': 978,\n 'kid': 977,\n 'hiding': 977,\n 'combination': 975,\n 'crowd': 972,\n 'dreary': 968,\n 'past': 966,\n 'god': 966,\n 'during': 965,\n 'kids': 964,\n 'few': 963,\n 'interested': 961,\n 'somber': 961,\n 'neutral': 961,\n 'alive': 960,\n 'chaotic': 957,\n 'quality': 956,\n 'weather': 952,\n 'idea': 949,\n 'afraid': 948,\n 'appearance': 946,\n 'park': 944,\n 'various': 944,\n 'better': 942,\n 'shining': 942,\n 'themselves': 941,\n 'posing': 938,\n 'upon': 934,\n 'adventure': 934,\n 'us': 933,\n 'say': 933,\n 'got': 929,\n 'fancy': 926,\n 'clean': 923,\n 'flying': 922,\n 'mood': 921,\n 'cheerful': 920,\n 'carrying': 919,\n 'extremely': 919,\n 'interest': 917,\n 'painter': 917,\n 'legs': 914,\n 'meaning': 912,\n 'castle': 910,\n 'shown': 905,\n 'browns': 903,\n 'captured': 898,\n 'needs': 895,\n 'statue': 894,\n 'fighting': 893,\n 'shore': 892,\n 'earth': 890,\n 'gathering': 890,\n 'running': 888,\n 'feet': 888,\n 'movie': 886,\n 'unfinished': 885,\n 'draw': 885,\n 'stern': 884,\n 'dirty': 883,\n 'fresh': 882,\n 'ease': 881,\n 'intense': 881,\n 'need': 881,\n 'position': 880,\n 'glass': 880,\n 'lively': 878,\n 'creature': 876,\n 'rock': 876,\n 'actually': 874,\n 'striking': 873,\n 'tranquil': 872,\n 'patterns': 871,\n 'modern': 870,\n 'lush': 869,\n 'elegant': 866,\n 'living': 864,\n 'himself': 863,\n 'cannot': 862,\n 'upset': 862,\n 'despite': 862,\n 'coat': 859,\n 'gross': 858,\n 'childs': 856,\n 'taken': 855,\n 'comes': 855,\n 'attractive': 854,\n 'object': 853,\n 'blank': 853,\n 'awesome': 853,\n 'appreciate': 852,\n 'mixed': 851,\n 'pictures': 850,\n 'corner': 848,\n 'tiny': 847,\n 'neck': 846,\n 'countryside': 846,\n 'proud': 844,\n 'perfectly': 843,\n 'falling': 841,\n 'represents': 841,\n 'gaze': 838,\n 'hues': 838,\n 'wants': 835,\n 'mean': 834,\n 'skies': 834,\n 'robe': 833,\n 'moon': 833,\n 'stark': 832,\n 'able': 830,\n 'intrigued': 830,\n 'lips': 829,\n 'paper': 828,\n 'sweet': 828,\n 'hot': 825,\n 'holy': 825,\n 'structure': 823,\n 'suit': 822,\n 'dresses': 814,\n 'ancient': 813,\n 'among': 812,\n 'depressed': 811,\n 'stunning': 810,\n 'touch': 809,\n 'shirt': 803,\n 'friends': 802,\n 'artists': 802,\n 'vibe': 800,\n 'represent': 799,\n 'rain': 799,\n 'sand': 798,\n 'nose': 797,\n 'impression': 797,\n 'christ': 797,\n 'glow': 796,\n 'frame': 796,\n 'straight': 795,\n 'praying': 795,\n 'fields': 794,\n 'rainbow': 792,\n 'itself': 791,\n 'heart': 791,\n 'lacks': 788,\n 'sick': 786,\n 'myself': 784,\n 'sunlight': 783,\n 'read': 781,\n 'fine': 778,\n 'evoke': 778,\n 'our': 776,\n 'onto': 775,\n 'possibly': 775,\n 'intriguing': 774,\n 'flowing': 774,\n 'king': 772,\n 'disgusting': 772,\n 'stare': 769,\n 'warmth': 769,\n 'lights': 766,\n 'silly': 764,\n 'wild': 764,\n 'mix': 763,\n 'given': 761,\n 'early': 760,\n 'heaven': 760,\n 'throughout': 757,\n 'environment': 757,\n 'whimsical': 757,\n 'sleeping': 754,\n 'takes': 754,\n 'pond': 753,\n 'distorted': 753,\n 'pieces': 752,\n 'sits': 751,\n 'eat': 750,\n 'size': 749,\n 'palette': 749,\n 'intricate': 748,\n 'atmosphere': 747,\n 'colour': 744,\n 'worried': 743,\n 'oranges': 743,\n 'action': 742,\n 'foreboding': 740,\n 'hurt': 736,\n 'harsh': 735,\n 'calmness': 732,\n 'gathered': 731,\n 'parts': 729,\n 'dogs': 728,\n 'basic': 728,\n 'emotions': 726,\n 'composition': 725,\n 'portrayed': 725,\n 'broken': 723,\n 'presence': 723,\n 'fan': 723,\n 'afternoon': 722,\n 'frightening': 719,\n 'regal': 719,\n 'eerie': 718,\n 'riding': 716,\n 'brushstrokes': 716,\n 'unhappy': 715,\n 'fishing': 712,\n 'draws': 710,\n 'relax': 709,\n 'drab': 709,\n 'comical': 708,\n 'activity': 707,\n 'gentle': 706,\n 'somewhere': 705,\n 'choice': 702,\n 'unsettling': 702,\n 'however': 699,\n 'pencil': 697,\n 'wings': 697,\n 'disgust': 697,\n 'architecture': 695,\n 'cloudy': 694,\n 'uneasy': 693,\n 'lying': 692,\n 'brightness': 692,\n 'convey': 691,\n 'soldiers': 689,\n 'dance': 687,\n 'cheeks': 687,\n 'glowing': 685,\n 'evening': 685,\n 'square': 685,\n 'messy': 685,\n 'imagery': 684,\n 'captures': 683,\n 'easy': 683,\n 'fruits': 682,\n 'similar': 682,\n 'rolling': 681,\n 'wondering': 681,\n 'mess': 680,\n 'best': 680,\n 'history': 680,\n 'quaint': 677,\n 'branches': 676,\n 'amusement': 676,\n 'curiosity': 675,\n 'using': 675,\n 'mirror': 674,\n 'favorite': 674,\n 'dangerous': 673,\n 'visit': 673,\n 'resembles': 671,\n 'guys': 669,\n 'heads': 668,\n 'cloth': 668,\n 'autumn': 667,\n 'boys': 667,\n 'mostly': 666,\n 'cut': 665,\n 'resting': 665,\n 'arm': 664,\n 'event': 664,\n 'keep': 663,\n 'main': 663,\n 'cows': 662,\n 'wide': 661,\n 'compared': 660,\n 'incredible': 660,\n 'level': 659,\n 'lives': 659,\n 'hidden': 656,\n 'depict': 655,\n 'sword': 654,\n 'difficult': 654,\n 'missing': 653,\n 'bowl': 652,\n 'chaos': 651,\n 'holds': 651,\n 'lifelike': 650,\n 'cloud': 649,\n 'plant': 649,\n 'kinda': 649,\n 'ive': 649,\n 'blends': 648,\n 'growing': 648,\n 'innocent': 647,\n 'theme': 646,\n 'fight': 646,\n 'job': 646,\n 'completely': 645,\n 'snowy': 644,\n 'several': 643,\n 'womens': 638,\n 'ones': 636,\n ...}"
     },
     "execution_count": 14,
     "metadata": {},
     "output_type": "execute_result"
    }
   ],
   "source": [
    "def tf(documents: Union[str, List[str], pandas.Series],\n",
    "           top_k: Optional[int] = None) -> Dict[str, str]:\n",
    "        \"\"\" Estimate the frequency of the terms in a set of documents. Words are\n",
    "        obtained splitting sentences by whitespaces-\n",
    "\n",
    "        Args:\n",
    "                documents: Texts to consider.\n",
    "                top_k: Top terms most represented.\n",
    "\n",
    "        Returns:\n",
    "                words and their absolute frequency.\n",
    "        \"\"\"\n",
    "        if not isinstance(documents, str):\n",
    "                documents = ' '.join(documents)\n",
    "        words = documents.split(' ')\n",
    "        return {x[0]: x[1] for x in Counter(words).most_common(top_k)}\n",
    "\n",
    "word_freq = tf(utterance)\n",
    "word_freq"
   ],
   "metadata": {
    "collapsed": false,
    "pycharm": {
     "name": "#%%\n"
    }
   }
  }
 ],
 "metadata": {
  "kernelspec": {
   "display_name": "Python 3",
   "language": "python",
   "name": "python3"
  },
  "language_info": {
   "codemirror_mode": {
    "name": "ipython",
    "version": 2
   },
   "file_extension": ".py",
   "mimetype": "text/x-python",
   "name": "python",
   "nbconvert_exporter": "python",
   "pygments_lexer": "ipython2",
   "version": "2.7.6"
  }
 },
 "nbformat": 4,
 "nbformat_minor": 0
}