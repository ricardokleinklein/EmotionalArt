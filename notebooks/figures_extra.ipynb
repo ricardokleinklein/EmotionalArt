{
 "cells": [
  {
   "cell_type": "markdown",
   "source": [
    "# Figures Extra\n",
    "\n",
    "Compute some of the figures for the paper that are based on the predictions"
   ],
   "metadata": {
    "collapsed": false
   }
  },
  {
   "cell_type": "markdown",
   "source": [
    "## A) Check that order of preds is that of dataset"
   ],
   "metadata": {
    "collapsed": false
   }
  },
  {
   "cell_type": "code",
   "execution_count": 1,
   "outputs": [
    {
     "data": {
      "text/plain": "        index           art_style  \\\n0      103330  Art_Nouveau_Modern   \n7      103393  Art_Nouveau_Modern   \n8      101105  Post_Impressionism   \n9       82295  Art_Nouveau_Modern   \n10     101141  Post_Impressionism   \n...       ...                 ...   \n80005  278738           Symbolism   \n80006  274879  Art_Nouveau_Modern   \n80014  333237       Expressionism   \n80018  278910           Symbolism   \n80025  331975       Expressionism   \n\n                                                painting  \\\n0                   a.y.-jackson_algoma-in-november-1935   \n7             a.y.-jackson_hills-at-great-bear-lake-1953   \n8                     a.y.-jackson_houses-st-urbain-1934   \n9                          a.y.-jackson_indian-home-1927   \n10                  a.y.-jackson_maple-woods-algoma-1920   \n...                                                  ...   \n80005      zinaida-serebriakova_trees-in-the-crimea-1911   \n80006                   zinaida-serebriakova_turkey-1916   \n80014  zinaida-serebriakova_view-of-the-peter-and-pau...   \n80018         zinaida-serebriakova_whitening-canvas-1917   \n80025  zinaida-serebriakova_yevgeny-lanceray-in-a-sha...   \n\n                                              emotion  \\\n0      [0.   0.   0.25 0.   0.   0.   0.75 0.   0.  ]   \n7               [0.  0.  0.2 0.2 0.  0.  0.4 0.2 0. ]   \n8               [0.6 0.  0.2 0.2 0.  0.  0.  0.  0. ]   \n9               [0.  0.  0.2 0.4 0.  0.  0.2 0.2 0. ]   \n10              [0.  0.  0.  0.  0.  0.5 0.5 0.  0. ]   \n...                                               ...   \n80005           [0.  0.  0.2 0.2 0.  0.2 0.4 0.  0. ]   \n80006           [0.  0.  0.6 0.2 0.  0.  0.  0.  0.2]   \n80014           [0.  0.  0.2 0.2 0.2 0.  0.2 0.2 0. ]   \n80018           [0.  0.  0.2 0.6 0.  0.2 0.  0.  0. ]   \n80025           [0.6 0.2 0.  0.2 0.  0.  0.  0.  0. ]   \n\n                                               utterance  repetition split  \\\n0      can not cross the wide river. it looks like a ...           5  test   \n7      the colors and the way the light is depicted s...           5  test   \n8      a heavy snowstorm and warm cabins. it makes me...           5  test   \n9      beautiful country houses and children give me ...           5  test   \n10     the colors here suggest torment to me as do th...           6  test   \n...                                                  ...         ...   ...   \n80005  the tiny people in the foreground make the tre...           5  test   \n80006  this is confusing because i can not figure out...           5  test   \n80014  this reminded me of when i went to college in ...           5  test   \n80018  the presence of the women is amplified by the ...           5  test   \n80025  the man 's hat looks like it is been construct...           5  test   \n\n                                                  tokens  tokens_len  \\\n0        ['can', 'not', 'cross', 'the', 'wide', 'river']           6   \n7      ['the', 'colors', 'and', 'the', 'way', 'the', ...          11   \n8      ['a', 'heavy', 'snowstorm', 'and', 'warm', 'ca...           6   \n9      ['beautiful', 'country', 'houses', 'and', 'chi...           8   \n10     ['the', 'colors', 'here', 'suggest', 'torment'...          14   \n...                                                  ...         ...   \n80005  ['the', 'tiny', 'people', 'in', 'the', 'foregr...          16   \n80006  ['this', 'is', 'confusing', 'because', 'i', 'c...          23   \n80014  ['this', 'reminded', 'me', 'of', 'when', 'i', ...          11   \n80018  ['the', 'presence', 'of', 'the', 'women', 'is'...          13   \n80025  ['the', 'man', \"'s\", 'hat', 'looks', 'like', '...          15   \n\n                                       utterance_spelled  \\\n0                           can not cross the wide river   \n7      the colors and the way the light is depicted s...   \n8                      a heavy snowstorm and warm cabins   \n9      beautiful country houses and children give me ...   \n10     the colors here suggest torment to me as do th...   \n...                                                  ...   \n80005  the tiny people in the foreground make the tre...   \n80006  this is confusing because i can not figure out...   \n80014  this reminded me of when i went to college in ...   \n80018  the presence of the women is amplified by the ...   \n80025  the man 's hat looks like it is been construct...   \n\n                                          tokens_encoded  emotion_label  \\\n0      [1, 90, 301, 735, 9, 815, 413, 2, 0, 0, 0, 0, ...              6   \n7      [1, 9, 56, 11, 9, 265, 9, 428, 17, 1483, 2728,...              6   \n8      [1, 44, 244, 7213, 11, 438, 4281, 2, 0, 0, 0, ...              0   \n9      [1, 164, 473, 69, 11, 907, 1512, 52, 470, 2, 0...              3   \n10     [1, 9, 56, 173, 2728, 7860, 14, 52, 174, 638, ...              5   \n...                                                  ...            ...   \n80005  [1, 9, 1166, 89, 8, 9, 2498, 57, 9, 219, 8, 9,...              6   \n80006  [1, 20, 17, 93, 288, 34, 90, 301, 615, 224, 20...              2   \n80014  [1, 20, 5885, 52, 64, 31, 34, 3441, 14, 2380, ...              2   \n80018  [1, 9, 1429, 64, 9, 327, 17, 14141, 545, 9, 89...              3   \n80025  [1, 9, 104, 118, 135, 120, 30, 196, 17, 138, 1...              0   \n\n                                               localpath  \n0      /mnt/HDD/DATA/ARTEMIS/artemis_official_data/of...  \n7      /mnt/HDD/DATA/ARTEMIS/artemis_official_data/of...  \n8      /mnt/HDD/DATA/ARTEMIS/artemis_official_data/of...  \n9      /mnt/HDD/DATA/ARTEMIS/artemis_official_data/of...  \n10     /mnt/HDD/DATA/ARTEMIS/artemis_official_data/of...  \n...                                                  ...  \n80005  /mnt/HDD/DATA/ARTEMIS/artemis_official_data/of...  \n80006  /mnt/HDD/DATA/ARTEMIS/artemis_official_data/of...  \n80014  /mnt/HDD/DATA/ARTEMIS/artemis_official_data/of...  \n80018  /mnt/HDD/DATA/ARTEMIS/artemis_official_data/of...  \n80025  /mnt/HDD/DATA/ARTEMIS/artemis_official_data/of...  \n\n[20008 rows x 13 columns]",
      "text/html": "<div>\n<style scoped>\n    .dataframe tbody tr th:only-of-type {\n        vertical-align: middle;\n    }\n\n    .dataframe tbody tr th {\n        vertical-align: top;\n    }\n\n    .dataframe thead th {\n        text-align: right;\n    }\n</style>\n<table border=\"1\" class=\"dataframe\">\n  <thead>\n    <tr style=\"text-align: right;\">\n      <th></th>\n      <th>index</th>\n      <th>art_style</th>\n      <th>painting</th>\n      <th>emotion</th>\n      <th>utterance</th>\n      <th>repetition</th>\n      <th>split</th>\n      <th>tokens</th>\n      <th>tokens_len</th>\n      <th>utterance_spelled</th>\n      <th>tokens_encoded</th>\n      <th>emotion_label</th>\n      <th>localpath</th>\n    </tr>\n  </thead>\n  <tbody>\n    <tr>\n      <th>0</th>\n      <td>103330</td>\n      <td>Art_Nouveau_Modern</td>\n      <td>a.y.-jackson_algoma-in-november-1935</td>\n      <td>[0.   0.   0.25 0.   0.   0.   0.75 0.   0.  ]</td>\n      <td>can not cross the wide river. it looks like a ...</td>\n      <td>5</td>\n      <td>test</td>\n      <td>['can', 'not', 'cross', 'the', 'wide', 'river']</td>\n      <td>6</td>\n      <td>can not cross the wide river</td>\n      <td>[1, 90, 301, 735, 9, 815, 413, 2, 0, 0, 0, 0, ...</td>\n      <td>6</td>\n      <td>/mnt/HDD/DATA/ARTEMIS/artemis_official_data/of...</td>\n    </tr>\n    <tr>\n      <th>7</th>\n      <td>103393</td>\n      <td>Art_Nouveau_Modern</td>\n      <td>a.y.-jackson_hills-at-great-bear-lake-1953</td>\n      <td>[0.  0.  0.2 0.2 0.  0.  0.4 0.2 0. ]</td>\n      <td>the colors and the way the light is depicted s...</td>\n      <td>5</td>\n      <td>test</td>\n      <td>['the', 'colors', 'and', 'the', 'way', 'the', ...</td>\n      <td>11</td>\n      <td>the colors and the way the light is depicted s...</td>\n      <td>[1, 9, 56, 11, 9, 265, 9, 428, 17, 1483, 2728,...</td>\n      <td>6</td>\n      <td>/mnt/HDD/DATA/ARTEMIS/artemis_official_data/of...</td>\n    </tr>\n    <tr>\n      <th>8</th>\n      <td>101105</td>\n      <td>Post_Impressionism</td>\n      <td>a.y.-jackson_houses-st-urbain-1934</td>\n      <td>[0.6 0.  0.2 0.2 0.  0.  0.  0.  0. ]</td>\n      <td>a heavy snowstorm and warm cabins. it makes me...</td>\n      <td>5</td>\n      <td>test</td>\n      <td>['a', 'heavy', 'snowstorm', 'and', 'warm', 'ca...</td>\n      <td>6</td>\n      <td>a heavy snowstorm and warm cabins</td>\n      <td>[1, 44, 244, 7213, 11, 438, 4281, 2, 0, 0, 0, ...</td>\n      <td>0</td>\n      <td>/mnt/HDD/DATA/ARTEMIS/artemis_official_data/of...</td>\n    </tr>\n    <tr>\n      <th>9</th>\n      <td>82295</td>\n      <td>Art_Nouveau_Modern</td>\n      <td>a.y.-jackson_indian-home-1927</td>\n      <td>[0.  0.  0.2 0.4 0.  0.  0.2 0.2 0. ]</td>\n      <td>beautiful country houses and children give me ...</td>\n      <td>5</td>\n      <td>test</td>\n      <td>['beautiful', 'country', 'houses', 'and', 'chi...</td>\n      <td>8</td>\n      <td>beautiful country houses and children give me ...</td>\n      <td>[1, 164, 473, 69, 11, 907, 1512, 52, 470, 2, 0...</td>\n      <td>3</td>\n      <td>/mnt/HDD/DATA/ARTEMIS/artemis_official_data/of...</td>\n    </tr>\n    <tr>\n      <th>10</th>\n      <td>101141</td>\n      <td>Post_Impressionism</td>\n      <td>a.y.-jackson_maple-woods-algoma-1920</td>\n      <td>[0.  0.  0.  0.  0.  0.5 0.5 0.  0. ]</td>\n      <td>the colors here suggest torment to me as do th...</td>\n      <td>6</td>\n      <td>test</td>\n      <td>['the', 'colors', 'here', 'suggest', 'torment'...</td>\n      <td>14</td>\n      <td>the colors here suggest torment to me as do th...</td>\n      <td>[1, 9, 56, 173, 2728, 7860, 14, 52, 174, 638, ...</td>\n      <td>5</td>\n      <td>/mnt/HDD/DATA/ARTEMIS/artemis_official_data/of...</td>\n    </tr>\n    <tr>\n      <th>...</th>\n      <td>...</td>\n      <td>...</td>\n      <td>...</td>\n      <td>...</td>\n      <td>...</td>\n      <td>...</td>\n      <td>...</td>\n      <td>...</td>\n      <td>...</td>\n      <td>...</td>\n      <td>...</td>\n      <td>...</td>\n      <td>...</td>\n    </tr>\n    <tr>\n      <th>80005</th>\n      <td>278738</td>\n      <td>Symbolism</td>\n      <td>zinaida-serebriakova_trees-in-the-crimea-1911</td>\n      <td>[0.  0.  0.2 0.2 0.  0.2 0.4 0.  0. ]</td>\n      <td>the tiny people in the foreground make the tre...</td>\n      <td>5</td>\n      <td>test</td>\n      <td>['the', 'tiny', 'people', 'in', 'the', 'foregr...</td>\n      <td>16</td>\n      <td>the tiny people in the foreground make the tre...</td>\n      <td>[1, 9, 1166, 89, 8, 9, 2498, 57, 9, 219, 8, 9,...</td>\n      <td>6</td>\n      <td>/mnt/HDD/DATA/ARTEMIS/artemis_official_data/of...</td>\n    </tr>\n    <tr>\n      <th>80006</th>\n      <td>274879</td>\n      <td>Art_Nouveau_Modern</td>\n      <td>zinaida-serebriakova_turkey-1916</td>\n      <td>[0.  0.  0.6 0.2 0.  0.  0.  0.  0.2]</td>\n      <td>this is confusing because i can not figure out...</td>\n      <td>5</td>\n      <td>test</td>\n      <td>['this', 'is', 'confusing', 'because', 'i', 'c...</td>\n      <td>23</td>\n      <td>this is confusing because i can not figure out...</td>\n      <td>[1, 20, 17, 93, 288, 34, 90, 301, 615, 224, 20...</td>\n      <td>2</td>\n      <td>/mnt/HDD/DATA/ARTEMIS/artemis_official_data/of...</td>\n    </tr>\n    <tr>\n      <th>80014</th>\n      <td>333237</td>\n      <td>Expressionism</td>\n      <td>zinaida-serebriakova_view-of-the-peter-and-pau...</td>\n      <td>[0.  0.  0.2 0.2 0.2 0.  0.2 0.2 0. ]</td>\n      <td>this reminded me of when i went to college in ...</td>\n      <td>5</td>\n      <td>test</td>\n      <td>['this', 'reminded', 'me', 'of', 'when', 'i', ...</td>\n      <td>11</td>\n      <td>this reminded me of when i went to college in ...</td>\n      <td>[1, 20, 5885, 52, 64, 31, 34, 3441, 14, 2380, ...</td>\n      <td>2</td>\n      <td>/mnt/HDD/DATA/ARTEMIS/artemis_official_data/of...</td>\n    </tr>\n    <tr>\n      <th>80018</th>\n      <td>278910</td>\n      <td>Symbolism</td>\n      <td>zinaida-serebriakova_whitening-canvas-1917</td>\n      <td>[0.  0.  0.2 0.6 0.  0.2 0.  0.  0. ]</td>\n      <td>the presence of the women is amplified by the ...</td>\n      <td>5</td>\n      <td>test</td>\n      <td>['the', 'presence', 'of', 'the', 'women', 'is'...</td>\n      <td>13</td>\n      <td>the presence of the women is amplified by the ...</td>\n      <td>[1, 9, 1429, 64, 9, 327, 17, 14141, 545, 9, 89...</td>\n      <td>3</td>\n      <td>/mnt/HDD/DATA/ARTEMIS/artemis_official_data/of...</td>\n    </tr>\n    <tr>\n      <th>80025</th>\n      <td>331975</td>\n      <td>Expressionism</td>\n      <td>zinaida-serebriakova_yevgeny-lanceray-in-a-sha...</td>\n      <td>[0.6 0.2 0.  0.2 0.  0.  0.  0.  0. ]</td>\n      <td>the man 's hat looks like it is been construct...</td>\n      <td>5</td>\n      <td>test</td>\n      <td>['the', 'man', \"'s\", 'hat', 'looks', 'like', '...</td>\n      <td>15</td>\n      <td>the man 's hat looks like it is been construct...</td>\n      <td>[1, 9, 104, 118, 135, 120, 30, 196, 17, 138, 1...</td>\n      <td>0</td>\n      <td>/mnt/HDD/DATA/ARTEMIS/artemis_official_data/of...</td>\n    </tr>\n  </tbody>\n</table>\n<p>20008 rows × 13 columns</p>\n</div>"
     },
     "execution_count": 1,
     "metadata": {},
     "output_type": "execute_result"
    }
   ],
   "source": [
    "import numpy\n",
    "import pandas\n",
    "import torch\n",
    "import seaborn as sns\n",
    "import matplotlib.pyplot as plt\n",
    "\n",
    "from data_preprocess.tokenizers import BPETokenizer\n",
    "from data_preprocess.datasets import SentencesDataset\n",
    "from baseline import tonumpy\n",
    "\n",
    "artemis = pandas.read_csv('../artemis.csv')\n",
    "test = artemis[artemis['split'] == \"test\"]\n",
    "test"
   ],
   "metadata": {
    "collapsed": false
   }
  },
  {
   "cell_type": "code",
   "execution_count": 2,
   "outputs": [
    {
     "name": "stdout",
     "output_type": "stream",
     "text": [
      "tensor([[0.0000, 0.0000, 0.2500, 0.0000, 0.0000, 0.0000, 0.7500, 0.0000, 0.0000]])\n",
      "tensor([[0.0000, 0.0000, 0.2000, 0.2000, 0.0000, 0.0000, 0.4000, 0.2000, 0.0000]])\n",
      "tensor([[0.6000, 0.0000, 0.2000, 0.2000, 0.0000, 0.0000, 0.0000, 0.0000, 0.0000]])\n",
      "tensor([[0.0000, 0.0000, 0.2000, 0.4000, 0.0000, 0.0000, 0.2000, 0.2000, 0.0000]])\n",
      "tensor([[0.0000, 0.0000, 0.0000, 0.0000, 0.0000, 0.5000, 0.5000, 0.0000, 0.0000]])\n",
      "tensor([[0.0000, 0.0000, 0.2000, 0.2000, 0.0000, 0.0000, 0.2000, 0.2000, 0.2000]])\n"
     ]
    }
   ],
   "source": [
    "test_reader = SentencesDataset(texts=test['utterance'].values,\n",
    "                               scores=tonumpy(test['emotion']),\n",
    "                               processor=BPETokenizer('clip', seq_len=77))\n",
    "test_loader = test_reader.load(phase=\"test\", batch_size=1)\n",
    "for i, item in enumerate(test_loader):\n",
    "    print(item[-1])\n",
    "    if i > 4:\n",
    "        break"
   ],
   "metadata": {
    "collapsed": false
   }
  },
  {
   "cell_type": "markdown",
   "source": [
    "**El orden en el loader es igual al DF, ergo las predicciones obedecen a ese\n",
    "orden**"
   ],
   "metadata": {
    "collapsed": false
   }
  },
  {
   "cell_type": "markdown",
   "source": [
    "## B) Compute KLDiv, EMD for zeroR"
   ],
   "metadata": {
    "collapsed": false
   }
  },
  {
   "cell_type": "code",
   "execution_count": 3,
   "outputs": [
    {
     "name": "stderr",
     "output_type": "stream",
     "text": [
      "100%|██████████| 20008/20008 [00:24<00:00, 815.59it/s]"
     ]
    },
    {
     "name": "stdout",
     "output_type": "stream",
     "text": [
      "24.856697053752477\n"
     ]
    },
    {
     "name": "stderr",
     "output_type": "stream",
     "text": [
      "\n"
     ]
    }
   ],
   "source": [
    "from scipy.special import kl_div\n",
    "import sys\n",
    "from tqdm import tqdm\n",
    "eps = sys.float_info.epsilon\n",
    "zeroR_pred = torch.tensor([eps] * 9)\n",
    "zeroR_pred[3] = 1   # contentment\n",
    "avg_div = 0\n",
    "for i, gt in enumerate(tqdm(test_loader)):\n",
    "    d = sum(kl_div(gt[-1].flatten(), zeroR_pred)).item()\n",
    "    avg_div += d\n",
    "print(avg_div / i)"
   ],
   "metadata": {
    "collapsed": false
   }
  },
  {
   "cell_type": "code",
   "execution_count": 4,
   "outputs": [
    {
     "name": "stderr",
     "output_type": "stream",
     "text": [
      "100%|██████████| 20008/20008 [00:23<00:00, 845.79it/s]"
     ]
    },
    {
     "name": "stdout",
     "output_type": "stream",
     "text": [
      "0.11036398081531179\n"
     ]
    },
    {
     "name": "stderr",
     "output_type": "stream",
     "text": [
      "\n"
     ]
    }
   ],
   "source": [
    "from scipy.stats import wasserstein_distance as W\n",
    "avg_emd = 0\n",
    "for i, gt in enumerate(tqdm(test_loader)):\n",
    "    d = W(gt[-1].flatten(), zeroR_pred)\n",
    "    avg_emd += d\n",
    "print(avg_emd / i)\n"
   ],
   "metadata": {
    "collapsed": false
   }
  },
  {
   "cell_type": "markdown",
   "source": [
    "## C) ACC@1(threshold)"
   ],
   "metadata": {
    "collapsed": false
   }
  },
  {
   "cell_type": "code",
   "execution_count": 7,
   "outputs": [
    {
     "name": "stderr",
     "output_type": "stream",
     "text": [
      "100%|██████████| 50/50 [22:19<00:00, 26.78s/it]\n"
     ]
    }
   ],
   "source": [
    "def multilabel_acc(gt, preds, th):\n",
    "    x_ = set([i for i, elem in enumerate(gt[0]) if elem >= th])\n",
    "    y_ = set([i for i, elem in enumerate(preds) if elem >= th])\n",
    "    success = x_.intersection(y_)\n",
    "    if len(x_) < 1:\n",
    "        if len(y_) < 1:\n",
    "            return 1.\n",
    "        return 0\n",
    "    return len(success) / len(x_)\n",
    "\n",
    "preds = numpy.load('../runs/Feb22-16_21-kimochi/test_predictions.npy')\n",
    "preds = torch.exp(torch.tensor(preds))\n",
    "acc_th = []\n",
    "for th in tqdm(numpy.linspace(0.1, 0.9, 50)):\n",
    "    avg_th = 0\n",
    "    for i, gt in enumerate(test_loader):\n",
    "        avg_th += multilabel_acc(gt[-1], preds[i], th)\n",
    "    acc_th.append(avg_th / (i+1))"
   ],
   "metadata": {
    "collapsed": false
   }
  },
  {
   "cell_type": "code",
   "execution_count": 19,
   "outputs": [
    {
     "name": "stderr",
     "output_type": "stream",
     "text": [
      "/tmp/ipykernel_1150499/1331384471.py:6: UserWarning: Ignoring `palette` because no `hue` variable has been assigned.\n",
      "  sns.lineplot(data=df, x=\"theta\", y=\"visual-artemis\", markers=True,\n",
      "/home/ricardokleinlein/Desktop/EmotionalArt/venv-ea/lib/python3.8/site-packages/matplotlib/axes/_axes.py:1185: RuntimeWarning: All-NaN axis encountered\n",
      "  miny = np.nanmin(masked_verts[..., 1])\n",
      "/home/ricardokleinlein/Desktop/EmotionalArt/venv-ea/lib/python3.8/site-packages/matplotlib/axes/_axes.py:1186: RuntimeWarning: All-NaN axis encountered\n",
      "  maxy = np.nanmax(masked_verts[..., 1])\n"
     ]
    },
    {
     "data": {
      "text/plain": "<Axes: xlabel='theta', ylabel='visual-artemis'>"
     },
     "execution_count": 19,
     "metadata": {},
     "output_type": "execute_result"
    },
    {
     "data": {
      "text/plain": "<Figure size 640x480 with 1 Axes>",
      "image/png": "[encoded data removed]"
     },
     "metadata": {},
     "output_type": "display_data"
    }
   ],
   "source": [
    "df = pandas.DataFrame({\n",
    "    'theta': numpy.linspace(0.1, 0.9, 50),\n",
    "    'visual-artemis': acc_th}\n",
    ")\n",
    "sns.set_style(\"white\")\n",
    "sns.lineplot(data=df, x=\"theta\", y=\"visual-artemis\", markers=True,\n",
    "             err_style=\"bars\", palette=[\"paleturquoise\"], markersize=20)"
   ],
   "metadata": {
    "collapsed": false
   }
  }
 ],
 "metadata": {
  "kernelspec": {
   "display_name": "Python 3",
   "language": "python",
   "name": "python3"
  },
  "language_info": {
   "codemirror_mode": {
    "name": "ipython",
    "version": 2
   },
   "file_extension": ".py",
   "mimetype": "text/x-python",
   "name": "python",
   "nbconvert_exporter": "python",
   "pygments_lexer": "ipython2",
   "version": "2.7.6"
  }
 },
 "nbformat": 4,
 "nbformat_minor": 0
}
