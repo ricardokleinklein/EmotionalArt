{
 "cells": [
  {
   "cell_type": "markdown",
   "metadata": {
    "collapsed": true
   },
   "source": [
    "# Textual Stats\n",
    "\n",
    "## Artemis: Text -- Emotions"
   ]
  },
  {
   "cell_type": "code",
   "execution_count": 48,
   "outputs": [
    {
     "data": {
      "text/plain": "                 art_style                                           painting  \\\n0       Post_Impressionism  vincent-van-gogh_portrait-of-madame-ginoux-l-a...   \n1       Post_Impressionism  vincent-van-gogh_portrait-of-madame-ginoux-l-a...   \n2       Post_Impressionism  vincent-van-gogh_portrait-of-madame-ginoux-l-a...   \n3       Post_Impressionism  vincent-van-gogh_portrait-of-madame-ginoux-l-a...   \n4       Post_Impressionism  vincent-van-gogh_portrait-of-madame-ginoux-l-a...   \n...                    ...                                                ...   \n454679              Cubism                           gino-severini_a-dancer-1   \n454680         Romanticism                  ivan-aivazovsky_sea-at-night-1861   \n454681         Romanticism                  ivan-aivazovsky_sea-at-night-1861   \n454682         Romanticism                  ivan-aivazovsky_sea-at-night-1861   \n454683              Cubism                      joan-miro_not_detected_227963   \n\n               emotion                                          utterance  \\\n0       something else  she seems very happy in the picture and you wa...   \n1              sadness  this woman has really knotty hands which makes...   \n2       something else  when looking at this woman i am filled with cu...   \n3          contentment  a woman looking at ease peaceful and satisfied...   \n4                  awe  she looks like a lady from that past that migh...   \n...                ...                                                ...   \n454679             awe  the collection and collage of different colors...   \n454680             awe  the peaceful reflections of the moonlight on t...   \n454681      excitement  i can imagine the sailors resting this peacefu...   \n454682     contentment  the steep mountains and the moonlight provide ...   \n454683            fear  if you look at the colors individually they ar...   \n\n        repetition  \n0               10  \n1               10  \n2               10  \n3               10  \n4               10  \n...            ...  \n454679          48  \n454680           8  \n454681           8  \n454682           8  \n454683          10  \n\n[454684 rows x 5 columns]",
      "text/html": "<div>\n<style scoped>\n    .dataframe tbody tr th:only-of-type {\n        vertical-align: middle;\n    }\n\n    .dataframe tbody tr th {\n        vertical-align: top;\n    }\n\n    .dataframe thead th {\n        text-align: right;\n    }\n</style>\n<table border=\"1\" class=\"dataframe\">\n  <thead>\n    <tr style=\"text-align: right;\">\n      <th></th>\n      <th>art_style</th>\n      <th>painting</th>\n      <th>emotion</th>\n      <th>utterance</th>\n      <th>repetition</th>\n    </tr>\n  </thead>\n  <tbody>\n    <tr>\n      <th>0</th>\n      <td>Post_Impressionism</td>\n      <td>vincent-van-gogh_portrait-of-madame-ginoux-l-a...</td>\n      <td>something else</td>\n      <td>she seems very happy in the picture and you wa...</td>\n      <td>10</td>\n    </tr>\n    <tr>\n      <th>1</th>\n      <td>Post_Impressionism</td>\n      <td>vincent-van-gogh_portrait-of-madame-ginoux-l-a...</td>\n      <td>sadness</td>\n      <td>this woman has really knotty hands which makes...</td>\n      <td>10</td>\n    </tr>\n    <tr>\n      <th>2</th>\n      <td>Post_Impressionism</td>\n      <td>vincent-van-gogh_portrait-of-madame-ginoux-l-a...</td>\n      <td>something else</td>\n      <td>when looking at this woman i am filled with cu...</td>\n      <td>10</td>\n    </tr>\n    <tr>\n      <th>3</th>\n      <td>Post_Impressionism</td>\n      <td>vincent-van-gogh_portrait-of-madame-ginoux-l-a...</td>\n      <td>contentment</td>\n      <td>a woman looking at ease peaceful and satisfied...</td>\n      <td>10</td>\n    </tr>\n    <tr>\n      <th>4</th>\n      <td>Post_Impressionism</td>\n      <td>vincent-van-gogh_portrait-of-madame-ginoux-l-a...</td>\n      <td>awe</td>\n      <td>she looks like a lady from that past that migh...</td>\n      <td>10</td>\n    </tr>\n    <tr>\n      <th>...</th>\n      <td>...</td>\n      <td>...</td>\n      <td>...</td>\n      <td>...</td>\n      <td>...</td>\n    </tr>\n    <tr>\n      <th>454679</th>\n      <td>Cubism</td>\n      <td>gino-severini_a-dancer-1</td>\n      <td>awe</td>\n      <td>the collection and collage of different colors...</td>\n      <td>48</td>\n    </tr>\n    <tr>\n      <th>454680</th>\n      <td>Romanticism</td>\n      <td>ivan-aivazovsky_sea-at-night-1861</td>\n      <td>awe</td>\n      <td>the peaceful reflections of the moonlight on t...</td>\n      <td>8</td>\n    </tr>\n    <tr>\n      <th>454681</th>\n      <td>Romanticism</td>\n      <td>ivan-aivazovsky_sea-at-night-1861</td>\n      <td>excitement</td>\n      <td>i can imagine the sailors resting this peacefu...</td>\n      <td>8</td>\n    </tr>\n    <tr>\n      <th>454682</th>\n      <td>Romanticism</td>\n      <td>ivan-aivazovsky_sea-at-night-1861</td>\n      <td>contentment</td>\n      <td>the steep mountains and the moonlight provide ...</td>\n      <td>8</td>\n    </tr>\n    <tr>\n      <th>454683</th>\n      <td>Cubism</td>\n      <td>joan-miro_not_detected_227963</td>\n      <td>fear</td>\n      <td>if you look at the colors individually they ar...</td>\n      <td>10</td>\n    </tr>\n  </tbody>\n</table>\n<p>454684 rows × 5 columns</p>\n</div>"
     },
     "execution_count": 48,
     "metadata": {},
     "output_type": "execute_result"
    }
   ],
   "source": [
    "import nltk\n",
    "import numpy\n",
    "import pathlib\n",
    "import pandas\n",
    "import string\n",
    "\n",
    "from tqdm import tqdm\n",
    "from collections import Counter\n",
    "from sklearn.feature_extraction.text import TfidfVectorizer\n",
    "\n",
    "from typing import Any, Dict, Iterable, List, Optional, Union\n",
    "\n",
    "# ROOT = pathlib.Path.cwd().parent\n",
    "# artemis = pandas.read_csv(\n",
    "#     ROOT / \"DATA\" / \"artemis\" / \"artemis_dataset_release_v0.csv\"\n",
    "# )\n",
    "ROOT = pathlib.Path('/mnt/HDD/DATA')\n",
    "artemis = pandas.read_csv(ROOT / \"ARTEMIS\" / \"artemis_official_data\" /\n",
    "                          \"official_data\" / \"artemis_dataset_release_v0.csv\")\n",
    "artemis['utterance'] = artemis['utterance'].apply(str.lower)\n",
    "artemis['utterance'] = artemis['utterance'].apply(\n",
    "    lambda s: s.translate(str.maketrans('', '', string.punctuation))\n",
    ")\n",
    "artemis"
   ],
   "metadata": {
    "collapsed": false
   }
  },
  {
   "cell_type": "markdown",
   "source": [
    "### Characterization of language per emotion"
   ],
   "metadata": {
    "collapsed": false
   }
  },
  {
   "cell_type": "code",
   "execution_count": 56,
   "outputs": [
    {
     "name": "stdout",
     "output_type": "stream",
     "text": [
      "Label: something else\n",
      "  > 0.12% (52962)\n",
      "  > Most common words: {'picture': 3280, 'dont': 3246, 'man': 3230, 'confused': 2982, 'im': 2721, 'seems': 2715, 'make': 2678, 'woman': 2650, 'color': 2467, 'face': 2185}\n",
      "-------------------------------------------------------------------------------\n",
      "Label: sadness\n",
      "  > 0.11% (49061)\n",
      "  > Most common words: {'sad': 13616, 'man': 6033, 'woman': 5490, 'dark': 4597, 'face': 3867, 'people': 3538, 'seems': 3529, 'sadness': 3367, 'make': 2484, 'eyes': 2290}\n",
      "-------------------------------------------------------------------------------\n",
      "Label: contentment\n",
      "  > 0.28% (126134)\n",
      "  > Most common words: {'peaceful': 9571, 'woman': 8684, 'scene': 8228, 'calm': 7770, 'blue': 7168, 'water': 6779, 'nice': 6770, 'beautiful': 6758, 'content': 6435, 'make': 6356}\n",
      "-------------------------------------------------------------------------------\n",
      "Label: awe\n",
      "  > 0.16% (72927)\n",
      "  > Most common words: {'beautiful': 6444, 'love': 5174, 'man': 4384, 'detail': 4368, 'awe': 4347, 'woman': 4240, 'white': 3265, 'sky': 3222, 'people': 3169, 'make': 3163}\n",
      "-------------------------------------------------------------------------------\n",
      "Label: amusement\n",
      "  > 0.10% (45336)\n",
      "  > Most common words: {'man': 4358, 'funny': 3861, 'face': 3429, 'woman': 3373, 'amusing': 2385, 'seems': 2302, 'people': 2106, 'fun': 2004, 'make': 1913, 'bright': 1865}\n",
      "-------------------------------------------------------------------------------\n",
      "Label: excitement\n",
      "  > 0.08% (37636)\n",
      "  > Most common words: {'bright': 3238, 'excited': 2757, 'exciting': 2627, 'woman': 2583, 'love': 2381, 'people': 2345, 'make': 2042, 'beautiful': 1708, 'man': 1651, 'red': 1597}\n",
      "-------------------------------------------------------------------------------\n",
      "Label: fear\n",
      "  > 0.09% (41577)\n",
      "  > Most common words: {'dark': 6485, 'man': 4932, 'scary': 4216, 'face': 3177, 'people': 2885, 'something': 2786, 'fear': 2783, 'woman': 2537, 'black': 2459, 'seems': 2420}\n",
      "-------------------------------------------------------------------------------\n",
      "Label: disgust\n",
      "  > 0.05% (22411)\n",
      "  > Most common words: {'man': 2016, 'woman': 1692, 'dont': 1594, 'face': 1551, 'make': 1058, 'color': 1046, 'seems': 1022, 'people': 1019, 'naked': 944, 'way': 814}\n",
      "-------------------------------------------------------------------------------\n",
      "Label: anger\n",
      "  > 0.01% (6640)\n",
      "  > Most common words: {'angry': 1158, 'man': 891, 'anger': 706, 'red': 516, 'face': 482, 'woman': 439, 'people': 418, 'art': 381, 'seems': 372, 'make': 350}\n",
      "-------------------------------------------------------------------------------\n"
     ]
    },
    {
     "name": "stderr",
     "output_type": "stream",
     "text": [
      "100%|██████████| 9/9 [00:00<00:00, 663.78it/s]"
     ]
    },
    {
     "name": "stdout",
     "output_type": "stream",
     "text": [
      "  > Most representative words per emotion: {'something else': ['picture', 'dont', 'man', 'confused', 'im', 'seems', 'make', 'woman', 'color', 'face'], 'sadness': ['sad', 'man', 'woman', 'dark', 'face', 'people', 'seems', 'sadness', 'make', 'eyes'], 'contentment': ['peaceful', 'woman', 'scene', 'calm', 'blue', 'water', 'nice', 'beautiful', 'content', 'make'], 'awe': ['beautiful', 'love', 'man', 'detail', 'awe', 'woman', 'white', 'sky', 'people', 'make'], 'amusement': ['man', 'funny', 'face', 'woman', 'amusing', 'seems', 'people', 'fun', 'make', 'bright'], 'excitement': ['bright', 'exciting', 'excited', 'woman', 'love', 'people', 'make', 'beautiful', 'man', 'red'], 'fear': ['dark', 'man', 'scary', 'face', 'people', 'something', 'fear', 'woman', 'black', 'seems'], 'disgust': ['man', 'woman', 'dont', 'face', 'make', 'color', 'seems', 'people', 'naked', 'disgusting'], 'anger': ['angry', 'man', 'anger', 'red', 'face', 'woman', 'people', 'art', 'seems', 'make']}\n"
     ]
    },
    {
     "name": "stderr",
     "output_type": "stream",
     "text": [
      "\n"
     ]
    }
   ],
   "source": [
    "def tf(documents: Union[str, List[str], pandas.Series],\n",
    "\t   top_k: Optional[int] = None,\n",
    "\t   exclude: List = None) -> Dict[str, str]:\n",
    "\t\"\"\" Estimate the frequency of the terms in a set of documents. Words are\n",
    "\t obtained splitting sentences by whitespaces.\n",
    "\n",
    "\t Args:\n",
    "\t \tdocuments: Texts to consider.\n",
    "\t \ttop_k: Top terms most represented.\n",
    "\t \texclude: Words to exclude from count.\n",
    "\n",
    "\tReturns:\n",
    "\t\twords and their absolute frequency.\n",
    "\t\"\"\"\n",
    "\tif not isinstance(documents, str):\n",
    "\t\tdocuments = ' '.join(documents)\n",
    "\twords = documents.split(' ')\n",
    "\tif exclude is not None:\n",
    "\t\twords = [w for w in words if w not in exclude]\n",
    "\treturn {x[0]: x[1] for x in Counter(words).most_common(top_k)}\n",
    "\n",
    "def tf_idf(documents: Dict[int, str],\n",
    "\t\t   top_k: int,\n",
    "\t\t   exclude: Union[str, List] = 'english',\n",
    "\t\t   ) -> Dict[int, List[Union[list, Any]]]:\n",
    "\t\"\"\"\n",
    "\tRetrieve the top_k most characteristic words in every document according to\n",
    "\ta TF-IDF measure.\n",
    "\n",
    "\tArgs:\n",
    "\t\tdocuments (Dict[int, str]):\n",
    "\t\ttop_k (int): Number of relevant words per document.\n",
    "\t\texclude: Terms to exclude from analysis.\n",
    "\n",
    "\tReturns:\n",
    "\t\tDict[int, List[Union[list, Any]]]\n",
    "\t\"\"\"\n",
    "\tdocs = [' '.join(val) for key, val in documents.items()]\n",
    "\tkeys = list(documents.keys())\n",
    "\tvectorizer = TfidfVectorizer(strip_accents='unicode',\n",
    "\t\t\t\t\t\t\t\t lowercase=True,\n",
    "\t\t\t\t\t\t\t\t stop_words=exclude)\n",
    "\tvec_docs = vectorizer.fit_transform(docs)\n",
    "\tfeature_names = vectorizer.get_feature_names_out()\n",
    "\trelevant_words = dict()\n",
    "\tfor i in tqdm(range(vec_docs.shape[0])):\n",
    "\t\trow = vec_docs.getrow(i).toarray()[0]\n",
    "\t\tk_words = numpy.flip(list(numpy.argsort(row)[-top_k:]))\n",
    "\t\trelevant_words[keys[i]] = [feature_names[j] for j in k_words]\n",
    "\treturn relevant_words\n",
    "\n",
    "\n",
    "stopwords = nltk.corpus.stopwords.words('english') + [''] + ['like', 'feel',\n",
    "\t\t\t\t\t\t\t\t\t\t\t\t\t\t\t 'painting',\n",
    "\t\t\t\t\t\t\t\t\t\t\t\t\t\t\t 'look',\n",
    "\t\t\t\t\t\t\t\t\t\t\t\t\t\t\t 'looks',\n",
    "\t\t\t\t\t\t\t\t\t\t\t\t\t\t\t 'looking',\n",
    "\t\t\t\t\t\t\t\t\t\t\t\t\t\t\t 'makes',\n",
    "\t\t\t\t\t\t\t\t\t\t\t\t\t\t\t 'colors']\n",
    "\n",
    "emotion_labels = artemis['emotion'].unique()\n",
    "utts_by_emotion = dict()\n",
    "for l, label in enumerate(emotion_labels):\n",
    "\tartemis_l = artemis[artemis['emotion'] == label]\n",
    "\tutts_by_emotion[label] = artemis_l['utterance'].values\n",
    "\tprint(f\"Label: {label}\")\n",
    "\tprint(f\"  > {len(artemis_l) / len(artemis):.2f}% ({len(artemis_l)})\")\n",
    "\tmost_freq_words = tf(documents=artemis_l['utterance'], top_k=10,\n",
    "\t\t\t\t\t\t exclude=stopwords)\n",
    "\tprint(f\"  > Most common words: {most_freq_words}\")\n",
    "\tprint('-' * 79)\n",
    "\n",
    "most_rep_words = tf_idf(documents=utts_by_emotion, top_k=10, exclude=stopwords)\n",
    "print(f\"  > Most representative words per emotion: {most_rep_words}\")\n"
   ],
   "metadata": {
    "collapsed": false
   }
  },
  {
   "cell_type": "markdown",
   "source": [
    "## Artemis: Text -> Style"
   ],
   "metadata": {
    "collapsed": false
   }
  },
  {
   "cell_type": "code",
   "execution_count": 61,
   "outputs": [
    {
     "name": "stdout",
     "output_type": "stream",
     "text": [
      "Label: Post_Impressionism\n",
      "  > 0.08% (36374)\n",
      "  > Most common words: {'woman': 2301, 'make': 2130, 'scene': 1890, 'flowers': 1834, 'people': 1800}\n",
      "-------------------------------------------------------------------------------\n",
      "Label: Expressionism\n",
      "  > 0.09% (38717)\n",
      "  > Most common words: {'face': 3357, 'woman': 3341, 'man': 3164, 'make': 2123, 'dark': 2013}\n",
      "-------------------------------------------------------------------------------\n",
      "Label: Impressionism\n",
      "  > 0.16% (72361)\n",
      "  > Most common words: {'woman': 5570, 'water': 5402, 'beautiful': 4112, 'scene': 4086, 'blue': 3809}\n",
      "-------------------------------------------------------------------------------\n",
      "Label: Northern_Renaissance\n",
      "  > 0.03% (14160)\n",
      "  > Most common words: {'man': 2118, 'woman': 1224, 'people': 1150, 'seems': 928, 'face': 906}\n",
      "-------------------------------------------------------------------------------\n",
      "Label: Realism\n",
      "  > 0.13% (59681)\n",
      "  > Most common words: {'man': 6078, 'woman': 4501, 'dark': 3926, 'seems': 3460, 'face': 3139}\n",
      "-------------------------------------------------------------------------------\n",
      "Label: Romanticism\n",
      "  > 0.09% (39069)\n",
      "  > Most common words: {'man': 4058, 'woman': 3161, 'people': 2873, 'dark': 2436, 'seems': 2103}\n",
      "-------------------------------------------------------------------------------\n",
      "Label: Symbolism\n",
      "  > 0.05% (24103)\n",
      "  > Most common words: {'man': 1714, 'mountains': 1683, 'woman': 1657, 'blue': 1411, 'dark': 1378}\n",
      "-------------------------------------------------------------------------------\n",
      "Label: Art_Nouveau_Modern\n",
      "  > 0.05% (24711)\n",
      "  > Most common words: {'woman': 2770, 'man': 1918, 'face': 1357, 'seems': 1267, 'make': 1134}\n",
      "-------------------------------------------------------------------------------\n",
      "Label: Naive_Art_Primitivism\n",
      "  > 0.03% (14086)\n",
      "  > Most common words: {'man': 1150, 'people': 1128, 'woman': 811, 'bright': 713, 'make': 703}\n",
      "-------------------------------------------------------------------------------\n",
      "Label: Baroque\n",
      "  > 0.05% (23469)\n",
      "  > Most common words: {'man': 3453, 'people': 1925, 'woman': 1769, 'face': 1676, 'dark': 1531}\n",
      "-------------------------------------------------------------------------------\n",
      "Label: Rococo\n",
      "  > 0.03% (11904)\n",
      "  > Most common words: {'man': 1312, 'woman': 1139, 'face': 1007, 'people': 840, 'seems': 708}\n",
      "-------------------------------------------------------------------------------\n",
      "Label: Abstract_Expressionism\n",
      "  > 0.04% (16075)\n",
      "  > Most common words: {'red': 1377, 'shapes': 1128, 'black': 1113, 'color': 1099, 'make': 1057}\n",
      "-------------------------------------------------------------------------------\n",
      "Label: Cubism\n",
      "  > 0.03% (11462)\n",
      "  > Most common words: {'shapes': 1349, 'make': 837, 'abstract': 725, 'face': 548, 'color': 531}\n",
      "-------------------------------------------------------------------------------\n",
      "Label: Color_Field_Painting\n",
      "  > 0.02% (9836)\n",
      "  > Most common words: {'color': 1062, 'red': 940, 'blue': 861, 'bright': 659, 'lines': 654}\n",
      "-------------------------------------------------------------------------------\n",
      "Label: Pop_Art\n",
      "  > 0.02% (8438)\n",
      "  > Most common words: {'bright': 595, 'make': 514, 'picture': 467, 'color': 400, 'red': 373}\n",
      "-------------------------------------------------------------------------------\n",
      "Label: Pointillism\n",
      "  > 0.01% (2870)\n",
      "  > Most common words: {'peaceful': 239, 'scene': 235, 'beautiful': 197, 'love': 186, 'water': 185}\n",
      "-------------------------------------------------------------------------------\n",
      "Label: Early_Renaissance\n",
      "  > 0.02% (7622)\n",
      "  > Most common words: {'people': 724, 'man': 709, 'sad': 513, 'religious': 447, 'face': 425}\n",
      "-------------------------------------------------------------------------------\n",
      "Label: Ukiyo_e\n",
      "  > 0.01% (6615)\n",
      "  > Most common words: {'woman': 521, 'man': 510, 'people': 372, 'face': 340, 'seems': 327}\n",
      "-------------------------------------------------------------------------------\n",
      "Label: Mannerism_Late_Renaissance\n",
      "  > 0.02% (7047)\n",
      "  > Most common words: {'man': 1107, 'people': 586, 'woman': 507, 'face': 473, 'seems': 421}\n",
      "-------------------------------------------------------------------------------\n",
      "Label: High_Renaissance\n",
      "  > 0.02% (7366)\n",
      "  > Most common words: {'man': 929, 'people': 602, 'face': 518, 'woman': 487, 'sad': 412}\n",
      "-------------------------------------------------------------------------------\n",
      "Label: Fauvism\n",
      "  > 0.01% (4191)\n",
      "  > Most common words: {'bright': 459, 'make': 318, 'color': 245, 'happy': 199, 'picture': 195}\n",
      "-------------------------------------------------------------------------------\n",
      "Label: Minimalism\n",
      "  > 0.02% (7163)\n",
      "  > Most common words: {'color': 619, 'art': 595, 'lines': 508, 'white': 505, 'black': 494}\n",
      "-------------------------------------------------------------------------------\n",
      "Label: Action_painting\n",
      "  > 0.00% (664)\n",
      "  > Most common words: {'black': 94, 'lines': 68, 'paint': 64, 'dark': 58, 'make': 49}\n",
      "-------------------------------------------------------------------------------\n",
      "Label: Contemporary_Realism\n",
      "  > 0.01% (2953)\n",
      "  > Most common words: {'water': 185, 'scene': 173, 'beach': 169, 'peaceful': 163, 'blue': 158}\n",
      "-------------------------------------------------------------------------------\n",
      "Label: Synthetic_Cubism\n",
      "  > 0.00% (1284)\n",
      "  > Most common words: {'shapes': 138, 'make': 98, 'different': 79, 'abstract': 79, 'picture': 72}\n",
      "-------------------------------------------------------------------------------\n",
      "Label: New_Realism\n",
      "  > 0.00% (1848)\n",
      "  > Most common words: {'woman': 135, 'people': 124, 'seems': 118, 'sad': 98, 'face': 94}\n",
      "-------------------------------------------------------------------------------\n",
      "Label: Analytical_Cubism\n",
      "  > 0.00% (615)\n",
      "  > Most common words: {'shapes': 85, 'dark': 56, 'face': 53, 'abstract': 46, 'make': 44}\n",
      "-------------------------------------------------------------------------------\n"
     ]
    },
    {
     "name": "stderr",
     "output_type": "stream",
     "text": [
      "100%|██████████| 27/27 [00:00<00:00, 761.20it/s]"
     ]
    },
    {
     "name": "stdout",
     "output_type": "stream",
     "text": [
      "Most representative words per style:\n",
      "  > Style = Post_Impressionism\n",
      "    ['woman', 'make', 'flowers', 'scene', 'people']\n",
      "  > Style = Expressionism\n",
      "    ['face', 'woman', 'man', 'make', 'dark']\n",
      "  > Style = Impressionism\n",
      "    ['water', 'woman', 'beautiful', 'scene', 'sky']\n",
      "  > Style = Northern_Renaissance\n",
      "    ['man', 'woman', 'people', 'seems', 'face']\n",
      "  > Style = Realism\n",
      "    ['man', 'woman', 'dark', 'seems', 'face']\n",
      "  > Style = Romanticism\n",
      "    ['man', 'woman', 'people', 'dark', 'seems']\n",
      "  > Style = Symbolism\n",
      "    ['mountains', 'man', 'woman', 'blue', 'dark']\n",
      "  > Style = Art_Nouveau_Modern\n",
      "    ['woman', 'man', 'face', 'seems', 'make']\n",
      "  > Style = Naive_Art_Primitivism\n",
      "    ['man', 'people', 'woman', 'bright', 'make']\n",
      "  > Style = Baroque\n",
      "    ['man', 'people', 'woman', 'face', 'dark']\n",
      "  > Style = Rococo\n",
      "    ['man', 'woman', 'face', 'people', 'seems']\n",
      "  > Style = Abstract_Expressionism\n",
      "    ['red', 'shapes', 'black', 'color', 'make']\n",
      "  > Style = Cubism\n",
      "    ['shapes', 'make', 'abstract', 'face', 'color']\n",
      "  > Style = Color_Field_Painting\n",
      "    ['color', 'red', 'blue', 'bright', 'lines']\n",
      "  > Style = Pop_Art\n",
      "    ['bright', 'make', 'picture', 'color', 'red']\n",
      "  > Style = Pointillism\n",
      "    ['peaceful', 'scene', 'water', 'beautiful', 'love']\n",
      "  > Style = Early_Renaissance\n",
      "    ['man', 'people', 'jesus', 'religious', 'sad']\n",
      "  > Style = Ukiyo_e\n",
      "    ['man', 'woman', 'japanese', 'people', 'face']\n",
      "  > Style = Mannerism_Late_Renaissance\n",
      "    ['man', 'people', 'woman', 'face', 'seems']\n",
      "  > Style = High_Renaissance\n",
      "    ['man', 'people', 'face', 'woman', 'sad']\n",
      "  > Style = Fauvism\n",
      "    ['bright', 'make', 'color', 'happy', 'picture']\n",
      "  > Style = Minimalism\n",
      "    ['color', 'art', 'lines', 'white', 'black']\n",
      "  > Style = Action_painting\n",
      "    ['black', 'lines', 'paint', 'dark', 'make']\n",
      "  > Style = Contemporary_Realism\n",
      "    ['water', 'beach', 'scene', 'peaceful', 'blue']\n",
      "  > Style = Synthetic_Cubism\n",
      "    ['shapes', 'make', 'abstract', 'different', 'picture']\n",
      "  > Style = New_Realism\n",
      "    ['woman', 'people', 'seems', 'sad', 'face']\n",
      "  > Style = Analytical_Cubism\n",
      "    ['shapes', 'dark', 'face', 'abstract', 'make']\n"
     ]
    },
    {
     "name": "stderr",
     "output_type": "stream",
     "text": [
      "\n"
     ]
    }
   ],
   "source": [
    "style_labels = artemis['art_style'].unique()\n",
    "utts_by_style = dict()\n",
    "for l, label in enumerate(style_labels):\n",
    "\tartemis_l = artemis[artemis['art_style'] == label]\n",
    "\tutts_by_style[label] = artemis_l['utterance'].values\n",
    "\tprint(f\"Label: {label}\")\n",
    "\tprint(f\"  > {len(artemis_l) / len(artemis):.2f}% ({len(artemis_l)})\")\n",
    "\tmost_freq_words = tf(documents=artemis_l['utterance'], top_k=5,\n",
    "\t\t\t\t\t\t exclude=stopwords)\n",
    "\tprint(f\"  > Most common words: {most_freq_words}\")\n",
    "\tprint('-' * 79)\n",
    "\n",
    "most_rep_words = tf_idf(documents=utts_by_style, top_k=5, exclude=stopwords)\n",
    "\n",
    "print(\"Most representative words per style:\")\n",
    "for style in style_labels:\n",
    "\tprint(f\"  > Style = {style}\")\n",
    "\tprint(f\"    {most_rep_words[style]}\")"
   ],
   "metadata": {
    "collapsed": false
   }
  },
  {
   "cell_type": "markdown",
   "source": [
    "## Does text in Artpedia behave like artistic language?"
   ],
   "metadata": {
    "collapsed": false
   }
  },
  {
   "cell_type": "code",
   "execution_count": 62,
   "outputs": [],
   "source": [
    "from textblob import TextBlob\n",
    "from vaderSentiment.vaderSentiment import SentimentIntensityAnalyzer\n",
    "\n",
    "class VaderAnalysis:\n",
    "\n",
    "\tdef __init__(self):\n",
    "\t\tself.vader = SentimentIntensityAnalyzer()\n",
    "\n",
    "\tdef __call__(self, text):\n",
    "\t\tdf = {'sentence': [], 'pos': [], 'neg': [], 'neu': [], 'compound': []}\n",
    "\t\tfor sentence in text:\n",
    "\t\t\tsentiment_dict = self.vader.polarity_scores(sentence)\n",
    "\t\t\tdf['sentence'].append(sentence)\n",
    "\t\t\tfor key in sentiment_dict:\n",
    "\t\t\t\tdf[key].append(sentiment_dict[key])\n",
    "\t\tdf = pandas.DataFrame(df)\n",
    "\t\treturn pandas.DataFrame(df)\n",
    "\n",
    "\n",
    "class TextBlobAnalysis:\n",
    "\n",
    "\tdef __init__(self, subjectivity=True, POS=False):\n",
    "\t\t\"\"\"\n",
    "\t\tTODO\n",
    "\t\t\"\"\"\n",
    "\t\tself.textblob = TextBlob\n",
    "\n",
    "\tdef __call__(self, text):\n",
    "\t\tdf = {'sentence': [], 'subjectivity': []}\n",
    "\t\tfor sentence in text:\n",
    "\t\t\tblob = self.textblob(sentence)\n",
    "\t\t\tdf['sentence'].append(sentence)\n",
    "\t\t\tdf['subjectivity'].append(blob.subjectivity)\n",
    "\t\treturn pandas.DataFrame(df)\n",
    "\n",
    "\n",
    "class BrysbaertConcreteness:\n",
    "\n",
    "\tdef __init__(self, path_to_file):\n",
    "\t\t\"\"\"\n",
    "\t\tTODO\n",
    "\t\t\"\"\"\n",
    "\t\tself.df = pandas.read_csv(path_to_file, sep='\\t')\n",
    "\t\tself.gram_extractor = TextBlob\n",
    "\n",
    "\tdef __call__(self, text):\n",
    "\t\tdf = {'sentence': [], 'concreteness': []}\n",
    "\t\tfor sentence in tqdm(text, total=len(text)):\n",
    "\t\t\tsentence_score = []\n",
    "\t\t\tdf['sentence'].append(sentence)\n",
    "\n",
    "\t\t\tbi_grams = self.gram_extractor(sentence).ngrams(n=2)\n",
    "\t\t\tfor bi_gram in bi_grams:\n",
    "\t\t\t\tidx = self._find_match(bi_gram, bigram=True)\n",
    "\t\t\t\tif idx is not None:\n",
    "\t\t\t\t\tsentence_score.append(self.df['Conc.M'].loc[idx])\n",
    "\t\t\t\t\tsentence = sentence.replace(self.df['Word'].loc[idx], '')\n",
    "\t\t\twords = sentence.split()\n",
    "\t\t\tfor word in words:\n",
    "\t\t\t\tidx = self._find_match(word)\n",
    "\t\t\t\tif idx is not None:\n",
    "\t\t\t\t\tsentence_score.append(self.df['Conc.M'].loc[idx])\n",
    "\n",
    "\t\t\tsentence_score = numpy.mean(sentence_score) if sentence_score else None\n",
    "\t\t\tdf['concreteness'].append(sentence_score)\n",
    "\n",
    "\t\treturn pandas.DataFrame(df)\n",
    "\n",
    "\tdef _find_match(self, word, bigram=False):\n",
    "\t\t\"\"\"\n",
    "\t\tTODO\n",
    "\t\t\"\"\"\n",
    "\t\tif bigram:\n",
    "\t\t\tword = ' '.join(word)\n",
    "\t\tmatch = self.df[self.df['Word'] == word]\n",
    "\t\tif not match.empty:\n",
    "\t\t\treturn match.index[0]\n",
    "\t\treturn None\n"
   ],
   "metadata": {
    "collapsed": false
   }
  },
  {
   "cell_type": "code",
   "execution_count": 67,
   "outputs": [
    {
     "data": {
      "text/plain": "                                                   title  \\\n2                                       Maestà (Cimabue)   \n3                                       Rucellai Madonna   \n23                                       Badia Polyptych   \n27            Madonna with Child and six Angels (Duccio)   \n30                                       Maestà (Duccio)   \n...                                                  ...   \n17590  Her Majesty Queen Elizabeth II – An 80th Birth...   \n17591  Napoleon Leading the Army Over the Alps (Kehin...   \n17597                           Bigger Trees Near Warter   \n17599                                      Hunter's Room   \n17601              Waiting for the Barbarians (painting)   \n\n                                                 img_url  year  \\\n2      https://upload.wikimedia.org/wikipedia/commons...  1280   \n3      https://upload.wikimedia.org/wikipedia/commons...  1280   \n23     https://upload.wikimedia.org/wikipedia/commons...  1300   \n27     https://upload.wikimedia.org/wikipedia/commons...  1300   \n30     https://upload.wikimedia.org/wikipedia/commons...  1300   \n...                                                  ...   ...   \n17590  https://upload.wikimedia.org/wikipedia/en/d/da...  2005   \n17591  https://upload.wikimedia.org/wikipedia/commons...  2005   \n17597  https://upload.wikimedia.org/wikipedia/en/3/34...  2007   \n17599  https://upload.wikimedia.org/wikipedia/en/0/04...  2007   \n17601  https://upload.wikimedia.org/wikipedia/en/3/37...  2007   \n\n                                        visual_sentences  \\\n2      [It is also stylistically earlier to that work...   \n3      [The painting depicts the Virgin and Child ent...   \n23     [The work is composed by five framed paintings...   \n27     [Madonna with Child and six Angels is a Madonn...   \n30     [The front panels make up a large enthroned Ma...   \n...                                                  ...   \n17590  [Her Majesty Queen Elizabeth II –, An 80th Bir...   \n17591  [Napoleon Leading the Army over the Alps is an...   \n17597  [Bigger Trees Near Warter or ou Peinture en, -...   \n17599  [It depicts a group of people carrying crossbo...   \n17601  [To the right in the picture is a carnival whe...   \n\n                                    contextual_sentences  split  \n2      [The Maestà is a painting by the Italian artis...  train  \n3      [The Rucellai Madonna is a panel painting by t...  train  \n23     [The Badia Polyptych (Italian: Polittico di Ba...  train  \n27     [It was painted between 1300 and 1305, (temper...  train  \n30     [The Maestà, or Maestà of Duccio is an altarpi...  train  \n...                                                  ...    ...  \n17590  [It was unveiled at the Queen's Gallery in Buc...    val  \n17591  [It is based on Jacques-Louis David’s 1801 equ...  train  \n17597  [Plein Air pour l'age Post, Measuring 460 by 1...  train  \n17599  [Hunter's Room (German: Jagdzimmer) is a 2007 ...   test  \n17601  [Waiting for the Barbarians (German: Warten au...  train  \n\n[2930 rows x 6 columns]",
      "text/html": "<div>\n<style scoped>\n    .dataframe tbody tr th:only-of-type {\n        vertical-align: middle;\n    }\n\n    .dataframe tbody tr th {\n        vertical-align: top;\n    }\n\n    .dataframe thead th {\n        text-align: right;\n    }\n</style>\n<table border=\"1\" class=\"dataframe\">\n  <thead>\n    <tr style=\"text-align: right;\">\n      <th></th>\n      <th>title</th>\n      <th>img_url</th>\n      <th>year</th>\n      <th>visual_sentences</th>\n      <th>contextual_sentences</th>\n      <th>split</th>\n    </tr>\n  </thead>\n  <tbody>\n    <tr>\n      <th>2</th>\n      <td>Maestà (Cimabue)</td>\n      <td>https://upload.wikimedia.org/wikipedia/commons...</td>\n      <td>1280</td>\n      <td>[It is also stylistically earlier to that work...</td>\n      <td>[The Maestà is a painting by the Italian artis...</td>\n      <td>train</td>\n    </tr>\n    <tr>\n      <th>3</th>\n      <td>Rucellai Madonna</td>\n      <td>https://upload.wikimedia.org/wikipedia/commons...</td>\n      <td>1280</td>\n      <td>[The painting depicts the Virgin and Child ent...</td>\n      <td>[The Rucellai Madonna is a panel painting by t...</td>\n      <td>train</td>\n    </tr>\n    <tr>\n      <th>23</th>\n      <td>Badia Polyptych</td>\n      <td>https://upload.wikimedia.org/wikipedia/commons...</td>\n      <td>1300</td>\n      <td>[The work is composed by five framed paintings...</td>\n      <td>[The Badia Polyptych (Italian: Polittico di Ba...</td>\n      <td>train</td>\n    </tr>\n    <tr>\n      <th>27</th>\n      <td>Madonna with Child and six Angels (Duccio)</td>\n      <td>https://upload.wikimedia.org/wikipedia/commons...</td>\n      <td>1300</td>\n      <td>[Madonna with Child and six Angels is a Madonn...</td>\n      <td>[It was painted between 1300 and 1305, (temper...</td>\n      <td>train</td>\n    </tr>\n    <tr>\n      <th>30</th>\n      <td>Maestà (Duccio)</td>\n      <td>https://upload.wikimedia.org/wikipedia/commons...</td>\n      <td>1300</td>\n      <td>[The front panels make up a large enthroned Ma...</td>\n      <td>[The Maestà, or Maestà of Duccio is an altarpi...</td>\n      <td>train</td>\n    </tr>\n    <tr>\n      <th>...</th>\n      <td>...</td>\n      <td>...</td>\n      <td>...</td>\n      <td>...</td>\n      <td>...</td>\n      <td>...</td>\n    </tr>\n    <tr>\n      <th>17590</th>\n      <td>Her Majesty Queen Elizabeth II – An 80th Birth...</td>\n      <td>https://upload.wikimedia.org/wikipedia/en/d/da...</td>\n      <td>2005</td>\n      <td>[Her Majesty Queen Elizabeth II –, An 80th Bir...</td>\n      <td>[It was unveiled at the Queen's Gallery in Buc...</td>\n      <td>val</td>\n    </tr>\n    <tr>\n      <th>17591</th>\n      <td>Napoleon Leading the Army Over the Alps (Kehin...</td>\n      <td>https://upload.wikimedia.org/wikipedia/commons...</td>\n      <td>2005</td>\n      <td>[Napoleon Leading the Army over the Alps is an...</td>\n      <td>[It is based on Jacques-Louis David’s 1801 equ...</td>\n      <td>train</td>\n    </tr>\n    <tr>\n      <th>17597</th>\n      <td>Bigger Trees Near Warter</td>\n      <td>https://upload.wikimedia.org/wikipedia/en/3/34...</td>\n      <td>2007</td>\n      <td>[Bigger Trees Near Warter or ou Peinture en, -...</td>\n      <td>[Plein Air pour l'age Post, Measuring 460 by 1...</td>\n      <td>train</td>\n    </tr>\n    <tr>\n      <th>17599</th>\n      <td>Hunter's Room</td>\n      <td>https://upload.wikimedia.org/wikipedia/en/0/04...</td>\n      <td>2007</td>\n      <td>[It depicts a group of people carrying crossbo...</td>\n      <td>[Hunter's Room (German: Jagdzimmer) is a 2007 ...</td>\n      <td>test</td>\n    </tr>\n    <tr>\n      <th>17601</th>\n      <td>Waiting for the Barbarians (painting)</td>\n      <td>https://upload.wikimedia.org/wikipedia/en/3/37...</td>\n      <td>2007</td>\n      <td>[To the right in the picture is a carnival whe...</td>\n      <td>[Waiting for the Barbarians (German: Warten au...</td>\n      <td>train</td>\n    </tr>\n  </tbody>\n</table>\n<p>2930 rows × 6 columns</p>\n</div>"
     },
     "execution_count": 67,
     "metadata": {},
     "output_type": "execute_result"
    }
   ],
   "source": [
    "artpedia_root = pathlib.Path('/mnt/HDD/DATA/Artpedia/artpedia.json')\n",
    "artpedia = pandas.read_json(artpedia_root, orient='index')\n",
    "artpedia"
   ],
   "metadata": {
    "collapsed": false
   }
  },
  {
   "cell_type": "markdown",
   "source": [
    "### Sentiment"
   ],
   "metadata": {
    "collapsed": false
   }
  },
  {
   "cell_type": "code",
   "execution_count": 79,
   "outputs": [
    {
     "data": {
      "text/plain": "<AxesSubplot: >"
     },
     "execution_count": 79,
     "metadata": {},
     "output_type": "execute_result"
    },
    {
     "data": {
      "text/plain": "<Figure size 640x480 with 1 Axes>",
      "image/png": "[encoded data removed]"
     },
     "metadata": {},
     "output_type": "display_data"
    }
   ],
   "source": [
    "content_text = [s for sent in artpedia['visual_sentences'] for s in sent]\n",
    "\n",
    "vader = VaderAnalysis()\n",
    "sentiment = vader(content_text)\n",
    "sentiment['compound'].hist(bins=50)"
   ],
   "metadata": {
    "collapsed": false
   }
  },
  {
   "cell_type": "code",
   "execution_count": 80,
   "outputs": [
    {
     "data": {
      "text/plain": "<AxesSubplot: >"
     },
     "execution_count": 80,
     "metadata": {},
     "output_type": "execute_result"
    },
    {
     "data": {
      "text/plain": "<Figure size 640x480 with 1 Axes>",
      "image/png": "[encoded data removed]"
     },
     "metadata": {},
     "output_type": "display_data"
    }
   ],
   "source": [
    "context_text = [s for sent in artpedia['contextual_sentences'] for s in sent]\n",
    "sentiment = vader(context_text)\n",
    "sentiment['compound'].hist(bins=50)"
   ],
   "metadata": {
    "collapsed": false
   }
  },
  {
   "cell_type": "markdown",
   "source": [
    "### Subjectivity"
   ],
   "metadata": {
    "collapsed": false
   }
  },
  {
   "cell_type": "code",
   "execution_count": 81,
   "outputs": [
    {
     "data": {
      "text/plain": "array([[<AxesSubplot: title={'center': 'subjectivity'}>]], dtype=object)"
     },
     "execution_count": 81,
     "metadata": {},
     "output_type": "execute_result"
    },
    {
     "data": {
      "text/plain": "<Figure size 640x480 with 1 Axes>",
      "image/png": "[encoded data removed]"
     },
     "metadata": {},
     "output_type": "display_data"
    }
   ],
   "source": [
    "blob = TextBlobAnalysis()\n",
    "subjectivity = blob(content_text)\n",
    "subjectivity.hist(bins=50)"
   ],
   "metadata": {
    "collapsed": false
   }
  },
  {
   "cell_type": "code",
   "execution_count": 82,
   "outputs": [
    {
     "data": {
      "text/plain": "array([[<AxesSubplot: title={'center': 'subjectivity'}>]], dtype=object)"
     },
     "execution_count": 82,
     "metadata": {},
     "output_type": "execute_result"
    },
    {
     "data": {
      "text/plain": "<Figure size 640x480 with 1 Axes>",
      "image/png": "[encoded data removed]"
     },
     "metadata": {},
     "output_type": "display_data"
    }
   ],
   "source": [
    "blob = TextBlobAnalysis()\n",
    "subjectivity = blob(context_text)\n",
    "subjectivity.hist(bins=50)"
   ],
   "metadata": {
    "collapsed": false
   }
  },
  {
   "cell_type": "markdown",
   "source": [
    "### Concreteness"
   ],
   "metadata": {
    "collapsed": false
   }
  },
  {
   "cell_type": "code",
   "execution_count": 83,
   "outputs": [
    {
     "name": "stderr",
     "output_type": "stream",
     "text": [
      "100%|██████████| 9173/9173 [14:10<00:00, 10.79it/s]\n"
     ]
    },
    {
     "data": {
      "text/plain": "array([[<AxesSubplot: title={'center': 'concreteness'}>]], dtype=object)"
     },
     "execution_count": 83,
     "metadata": {},
     "output_type": "execute_result"
    },
    {
     "data": {
      "text/plain": "<Figure size 640x480 with 1 Axes>",
      "image/png": "[encoded data removed]"
     },
     "metadata": {},
     "output_type": "display_data"
    }
   ],
   "source": [
    "brys = BrysbaertConcreteness('./Brysbaert_concreteness_vocabulary.csv')\n",
    "concreteness = brys(content_text)\n",
    "concreteness.hist(bins=50)"
   ],
   "metadata": {
    "collapsed": false
   }
  },
  {
   "cell_type": "code",
   "execution_count": 84,
   "outputs": [
    {
     "name": "stderr",
     "output_type": "stream",
     "text": [
      "100%|██████████| 19039/19039 [27:19<00:00, 11.61it/s]\n"
     ]
    },
    {
     "data": {
      "text/plain": "array([[<AxesSubplot: title={'center': 'concreteness'}>]], dtype=object)"
     },
     "execution_count": 84,
     "metadata": {},
     "output_type": "execute_result"
    },
    {
     "data": {
      "text/plain": "<Figure size 640x480 with 1 Axes>",
      "image/png": "[encoded data removed]"
     },
     "metadata": {},
     "output_type": "display_data"
    }
   ],
   "source": [
    "brys = BrysbaertConcreteness('./Brysbaert_concreteness_vocabulary.csv')\n",
    "concreteness = brys(context_text)\n",
    "concreteness.hist(bins=50)"
   ],
   "metadata": {
    "collapsed": false
   }
  }
 ],
 "metadata": {
  "kernelspec": {
   "display_name": "Python 3",
   "language": "python",
   "name": "python3"
  },
  "language_info": {
   "codemirror_mode": {
    "name": "ipython",
    "version": 2
   },
   "file_extension": ".py",
   "mimetype": "text/x-python",
   "name": "python",
   "nbconvert_exporter": "python",
   "pygments_lexer": "ipython2",
   "version": "2.7.6"
  }
 },
 "nbformat": 4,
 "nbformat_minor": 0
}
