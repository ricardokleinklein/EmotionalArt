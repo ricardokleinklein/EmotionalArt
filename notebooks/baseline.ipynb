{
 "cells": [
  {
   "cell_type": "markdown",
   "source": [
    "# Baseline\n",
    "\n",
    "Compute the baseline results of our study (over Artemis alone):\n",
    "1. From a set of texts to distribution of emotions\n",
    "2. From an image to distribution of emotions\n",
    "3. Late-Fusion of textual and visual embeddings to emotions\n",
    "4. CLIP-like alignment to emotions"
   ],
   "metadata": {
    "collapsed": false
   }
  },
  {
   "cell_type": "code",
   "execution_count": 1,
   "outputs": [
    {
     "ename": "ModuleNotFoundError",
     "evalue": "No module named 'data_preprocess'",
     "output_type": "error",
     "traceback": [
      "\u001B[0;31m---------------------------------------------------------------------------\u001B[0m",
      "\u001B[0;31mModuleNotFoundError\u001B[0m                       Traceback (most recent call last)",
      "Cell \u001B[0;32mIn [1], line 2\u001B[0m\n\u001B[1;32m      1\u001B[0m \u001B[38;5;28;01mimport\u001B[39;00m \u001B[38;5;21;01mpandas\u001B[39;00m\n\u001B[0;32m----> 2\u001B[0m \u001B[38;5;28;01mfrom\u001B[39;00m \u001B[38;5;21;01mdata_preprocess\u001B[39;00m\u001B[38;5;21;01m.\u001B[39;00m\u001B[38;5;21;01mdatasets\u001B[39;00m \u001B[38;5;28;01mimport\u001B[39;00m OneImageToManySentences\n",
      "\u001B[0;31mModuleNotFoundError\u001B[0m: No module named 'data_preprocess'"
     ]
    }
   ],
   "source": [
    "import pandas\n",
    "from data_preprocess.datasets import OneImageToManySentences"
   ],
   "metadata": {
    "collapsed": false
   }
  },
  {
   "cell_type": "code",
   "execution_count": 3,
   "outputs": [
    {
     "data": {
      "text/plain": "                 art_style                                  painting  \\\n0       Art_Nouveau_Modern      a.y.-jackson_algoma-in-november-1935   \n1       Art_Nouveau_Modern      a.y.-jackson_algoma-in-november-1935   \n2       Art_Nouveau_Modern      a.y.-jackson_algoma-in-november-1935   \n3       Art_Nouveau_Modern      a.y.-jackson_algoma-in-november-1935   \n4       Art_Nouveau_Modern      a.y.-jackson_algoma-in-november-1935   \n...                    ...                                       ...   \n454674       Expressionism  zinaida-serebriakova_young-moroccan-1932   \n454675       Expressionism  zinaida-serebriakova_young-moroccan-1932   \n454676       Expressionism  zinaida-serebriakova_young-moroccan-1932   \n454677       Expressionism  zinaida-serebriakova_young-moroccan-1932   \n454678       Expressionism  zinaida-serebriakova_young-moroccan-1932   \n\n               emotion                                          utterance  \\\n0                 fear                               looks dark and scary   \n1                 fear                       cannot cross the  wide river   \n2                 fear                   something ominous on the horizon   \n3                  awe     like sitting on the banks of a beautiful river   \n4                 fear             it looks like a bad storm is coming in   \n...                ...                                                ...   \n454674     contentment  The pastels are eye catching and leave a feeli...   \n454675  something else  she has her sights set on something very impor...   \n454676       amusement  This honestly looks like a man that is dressed...   \n454677      excitement  the woman's intense stare and clenched jaw sho...   \n454678             awe  I love the balance of color and the intense gl...   \n\n        repetition                                          localpath  \n0                5  /mnt/HDD/DATA/ARTEMIS/artemis_official_data/of...  \n1                5  /mnt/HDD/DATA/ARTEMIS/artemis_official_data/of...  \n2                5  /mnt/HDD/DATA/ARTEMIS/artemis_official_data/of...  \n3                5  /mnt/HDD/DATA/ARTEMIS/artemis_official_data/of...  \n4                5  /mnt/HDD/DATA/ARTEMIS/artemis_official_data/of...  \n...            ...                                                ...  \n454674           5  /mnt/HDD/DATA/ARTEMIS/artemis_official_data/of...  \n454675           5  /mnt/HDD/DATA/ARTEMIS/artemis_official_data/of...  \n454676           5  /mnt/HDD/DATA/ARTEMIS/artemis_official_data/of...  \n454677           5  /mnt/HDD/DATA/ARTEMIS/artemis_official_data/of...  \n454678           5  /mnt/HDD/DATA/ARTEMIS/artemis_official_data/of...  \n\n[454679 rows x 6 columns]",
      "text/html": "<div>\n<style scoped>\n    .dataframe tbody tr th:only-of-type {\n        vertical-align: middle;\n    }\n\n    .dataframe tbody tr th {\n        vertical-align: top;\n    }\n\n    .dataframe thead th {\n        text-align: right;\n    }\n</style>\n<table border=\"1\" class=\"dataframe\">\n  <thead>\n    <tr style=\"text-align: right;\">\n      <th></th>\n      <th>art_style</th>\n      <th>painting</th>\n      <th>emotion</th>\n      <th>utterance</th>\n      <th>repetition</th>\n      <th>localpath</th>\n    </tr>\n  </thead>\n  <tbody>\n    <tr>\n      <th>0</th>\n      <td>Art_Nouveau_Modern</td>\n      <td>a.y.-jackson_algoma-in-november-1935</td>\n      <td>fear</td>\n      <td>looks dark and scary</td>\n      <td>5</td>\n      <td>/mnt/HDD/DATA/ARTEMIS/artemis_official_data/of...</td>\n    </tr>\n    <tr>\n      <th>1</th>\n      <td>Art_Nouveau_Modern</td>\n      <td>a.y.-jackson_algoma-in-november-1935</td>\n      <td>fear</td>\n      <td>cannot cross the  wide river</td>\n      <td>5</td>\n      <td>/mnt/HDD/DATA/ARTEMIS/artemis_official_data/of...</td>\n    </tr>\n    <tr>\n      <th>2</th>\n      <td>Art_Nouveau_Modern</td>\n      <td>a.y.-jackson_algoma-in-november-1935</td>\n      <td>fear</td>\n      <td>something ominous on the horizon</td>\n      <td>5</td>\n      <td>/mnt/HDD/DATA/ARTEMIS/artemis_official_data/of...</td>\n    </tr>\n    <tr>\n      <th>3</th>\n      <td>Art_Nouveau_Modern</td>\n      <td>a.y.-jackson_algoma-in-november-1935</td>\n      <td>awe</td>\n      <td>like sitting on the banks of a beautiful river</td>\n      <td>5</td>\n      <td>/mnt/HDD/DATA/ARTEMIS/artemis_official_data/of...</td>\n    </tr>\n    <tr>\n      <th>4</th>\n      <td>Art_Nouveau_Modern</td>\n      <td>a.y.-jackson_algoma-in-november-1935</td>\n      <td>fear</td>\n      <td>it looks like a bad storm is coming in</td>\n      <td>5</td>\n      <td>/mnt/HDD/DATA/ARTEMIS/artemis_official_data/of...</td>\n    </tr>\n    <tr>\n      <th>...</th>\n      <td>...</td>\n      <td>...</td>\n      <td>...</td>\n      <td>...</td>\n      <td>...</td>\n      <td>...</td>\n    </tr>\n    <tr>\n      <th>454674</th>\n      <td>Expressionism</td>\n      <td>zinaida-serebriakova_young-moroccan-1932</td>\n      <td>contentment</td>\n      <td>The pastels are eye catching and leave a feeli...</td>\n      <td>5</td>\n      <td>/mnt/HDD/DATA/ARTEMIS/artemis_official_data/of...</td>\n    </tr>\n    <tr>\n      <th>454675</th>\n      <td>Expressionism</td>\n      <td>zinaida-serebriakova_young-moroccan-1932</td>\n      <td>something else</td>\n      <td>she has her sights set on something very impor...</td>\n      <td>5</td>\n      <td>/mnt/HDD/DATA/ARTEMIS/artemis_official_data/of...</td>\n    </tr>\n    <tr>\n      <th>454676</th>\n      <td>Expressionism</td>\n      <td>zinaida-serebriakova_young-moroccan-1932</td>\n      <td>amusement</td>\n      <td>This honestly looks like a man that is dressed...</td>\n      <td>5</td>\n      <td>/mnt/HDD/DATA/ARTEMIS/artemis_official_data/of...</td>\n    </tr>\n    <tr>\n      <th>454677</th>\n      <td>Expressionism</td>\n      <td>zinaida-serebriakova_young-moroccan-1932</td>\n      <td>excitement</td>\n      <td>the woman's intense stare and clenched jaw sho...</td>\n      <td>5</td>\n      <td>/mnt/HDD/DATA/ARTEMIS/artemis_official_data/of...</td>\n    </tr>\n    <tr>\n      <th>454678</th>\n      <td>Expressionism</td>\n      <td>zinaida-serebriakova_young-moroccan-1932</td>\n      <td>awe</td>\n      <td>I love the balance of color and the intense gl...</td>\n      <td>5</td>\n      <td>/mnt/HDD/DATA/ARTEMIS/artemis_official_data/of...</td>\n    </tr>\n  </tbody>\n</table>\n<p>454679 rows × 6 columns</p>\n</div>"
     },
     "execution_count": 3,
     "metadata": {},
     "output_type": "execute_result"
    }
   ],
   "source": [
    "artemis = pandas.read_csv('../artemis.csv')\n",
    "artemis"
   ],
   "metadata": {
    "collapsed": false
   }
  },
  {
   "cell_type": "markdown",
   "source": [
    "## Baseline #1: Texts describe artwork"
   ],
   "metadata": {
    "collapsed": false
   }
  },
  {
   "cell_type": "code",
   "execution_count": null,
   "outputs": [],
   "source": [],
   "metadata": {
    "collapsed": false
   }
  }
 ],
 "metadata": {
  "kernelspec": {
   "display_name": "Python 3",
   "language": "python",
   "name": "python3"
  },
  "language_info": {
   "codemirror_mode": {
    "name": "ipython",
    "version": 2
   },
   "file_extension": ".py",
   "mimetype": "text/x-python",
   "name": "python",
   "nbconvert_exporter": "python",
   "pygments_lexer": "ipython2",
   "version": "2.7.6"
  }
 },
 "nbformat": 4,
 "nbformat_minor": 0
}
