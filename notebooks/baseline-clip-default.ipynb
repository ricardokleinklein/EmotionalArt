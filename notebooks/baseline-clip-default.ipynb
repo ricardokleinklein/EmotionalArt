{
 "cells": [
  {
   "cell_type": "markdown",
   "source": [
    "# Baseline: Pretrained CLIP embeddings"
   ],
   "metadata": {
    "collapsed": false
   }
  },
  {
   "cell_type": "code",
   "execution_count": 5,
   "outputs": [],
   "source": [
    "import numpy\n",
    "import pandas\n",
    "import pathlib\n",
    "import shutil\n",
    "import seaborn as sns\n",
    "\n",
    "from tqdm import tqdm\n",
    "from PIL import Image\n",
    "from collections import Counter\n",
    "from transformers import CLIPTokenizer, CLIPTextModel\n",
    "from transformers import CLIPProcessor, CLIPVisionModel\n",
    "\n",
    "from typing import Dict, List, Optional, Union, Tuple"
   ],
   "metadata": {
    "collapsed": false
   }
  },
  {
   "cell_type": "markdown",
   "source": [
    "## Read Artemis\n",
    "\n",
    "We use the \"clean\" version as specified by the authors' script."
   ],
   "metadata": {
    "collapsed": false
   }
  },
  {
   "cell_type": "code",
   "execution_count": 6,
   "outputs": [
    {
     "data": {
      "text/plain": "                         art_style  \\\n0               Post_Impressionism   \n1               Post_Impressionism   \n2               Post_Impressionism   \n3               Post_Impressionism   \n4                    Expressionism   \n...                            ...   \n429426  Mannerism_Late_Renaissance   \n429427          Art_Nouveau_Modern   \n429428          Post_Impressionism   \n429429                      Cubism   \n429430                      Cubism   \n\n                                                 painting         emotion  \\\n0       vincent-van-gogh_portrait-of-madame-ginoux-l-a...  something else   \n1       vincent-van-gogh_portrait-of-madame-ginoux-l-a...         sadness   \n2       vincent-van-gogh_portrait-of-madame-ginoux-l-a...  something else   \n3       vincent-van-gogh_portrait-of-madame-ginoux-l-a...     contentment   \n4                 wassily-kandinsky_study-for-autumn-1909             awe   \n...                                                   ...             ...   \n429426  el-greco_st-francis-and-brother-leo-meditating...            fear   \n429427                tom-thomson_woodland-waterfall-1916         sadness   \n429428                          david-burliuk_landscape-1             awe   \n429429  willi-baumeister_machine-man-with-spiral-turn-...  something else   \n429430                           gino-severini_a-dancer-1             awe   \n\n                                                utterance  repetition  split  \\\n0       She seems very happy in the picture, and you w...          10  train   \n1       This woman has really knotty hands which makes...          10  train   \n2       When looking at this woman, I am filled with c...          10  train   \n3       A woman looking at ease, peaceful, and satisfi...          10  train   \n4       The bright colors make a very unique scene for...           7  train   \n...                                                   ...         ...    ...   \n429426            The skull and the mans very skinny face          50   rest   \n429427  I feel sadness because of the waterfall flowin...          50   rest   \n429428  The greenery landscape and flowery background ...          50   rest   \n429429  The interlocking mechanical shapes fitting tog...          50   rest   \n429430  the collection and collage of different colors...          48   rest   \n\n                                                   tokens  tokens_len  \\\n0       ['she', 'seems', 'very', 'happy', 'in', 'the',...          18   \n1       ['this', 'woman', 'has', 'really', 'knotty', '...          14   \n2       ['when', 'looking', 'at', 'this', 'woman', 'i'...          27   \n3       ['a', 'woman', 'looking', 'at', 'ease', 'peace...          15   \n4       ['the', 'bright', 'colors', 'make', 'a', 'very...          12   \n...                                                   ...         ...   \n429426  ['the', 'skull', 'and', 'the', 'mans', 'very',...           8   \n429427  ['i', 'feel', 'sadness', 'because', 'of', 'the...          20   \n429428  ['the', 'greenery', 'landscape', 'and', 'flowe...          10   \n429429  ['the', 'interlocking', 'mechanical', 'shapes'...          10   \n429430  ['the', 'collection', 'and', 'collage', 'of', ...          12   \n\n                                        utterance_spelled  \\\n0       she seems very happy in the picture and you wa...   \n1       this woman has really knotty hands which makes...   \n2       when looking at this woman i am filled with cu...   \n3       a woman looking at ease peaceful and satisfied...   \n4       the bright colors make a very unique scene for...   \n...                                                   ...   \n429426            the skull and the mans very skinny face   \n429427  i feel sadness because of the waterfall flowin...   \n429428  the greenery landscape and flowery background ...   \n429429  the interlocking mechanical shapes fitting tog...   \n429430  the collection and collage of different colors...   \n\n                                           tokens_encoded  emotion_label  \n0       [1, 4, 5, 6, 7, 8, 9, 10, 11, 12, 13, 14, 15, ...              8  \n1       [1, 20, 21, 22, 23, 24, 25, 26, 27, 28, 29, 30...              7  \n2       [1, 31, 32, 33, 20, 21, 34, 35, 36, 37, 38, 39...              8  \n3       [1, 44, 21, 32, 33, 47, 48, 11, 49, 50, 28, 51...              2  \n4       [1, 9, 55, 56, 57, 44, 6, 58, 59, 60, 9, 61, 6...              1  \n...                                                   ...            ...  \n429426  [1, 9, 1995, 11, 9, 131, 6, 1598, 46, 2, 0, 0,...              6  \n429427  [1, 34, 53, 403, 288, 64, 9, 1876, 3596, 8, 44...              7  \n429428  [1, 9, 3910, 639, 11, 3065, 422, 64, 476, 17, ...              1  \n429429  [1, 9, 4096, 4101, 62, 3943, 696, 74, 3738, 11...              8  \n429430  [1, 9, 4370, 11, 3942, 64, 213, 56, 11, 62, 40...              1  \n\n[429431 rows x 11 columns]",
      "text/html": "<div>\n<style scoped>\n    .dataframe tbody tr th:only-of-type {\n        vertical-align: middle;\n    }\n\n    .dataframe tbody tr th {\n        vertical-align: top;\n    }\n\n    .dataframe thead th {\n        text-align: right;\n    }\n</style>\n<table border=\"1\" class=\"dataframe\">\n  <thead>\n    <tr style=\"text-align: right;\">\n      <th></th>\n      <th>art_style</th>\n      <th>painting</th>\n      <th>emotion</th>\n      <th>utterance</th>\n      <th>repetition</th>\n      <th>split</th>\n      <th>tokens</th>\n      <th>tokens_len</th>\n      <th>utterance_spelled</th>\n      <th>tokens_encoded</th>\n      <th>emotion_label</th>\n    </tr>\n  </thead>\n  <tbody>\n    <tr>\n      <th>0</th>\n      <td>Post_Impressionism</td>\n      <td>vincent-van-gogh_portrait-of-madame-ginoux-l-a...</td>\n      <td>something else</td>\n      <td>She seems very happy in the picture, and you w...</td>\n      <td>10</td>\n      <td>train</td>\n      <td>['she', 'seems', 'very', 'happy', 'in', 'the',...</td>\n      <td>18</td>\n      <td>she seems very happy in the picture and you wa...</td>\n      <td>[1, 4, 5, 6, 7, 8, 9, 10, 11, 12, 13, 14, 15, ...</td>\n      <td>8</td>\n    </tr>\n    <tr>\n      <th>1</th>\n      <td>Post_Impressionism</td>\n      <td>vincent-van-gogh_portrait-of-madame-ginoux-l-a...</td>\n      <td>sadness</td>\n      <td>This woman has really knotty hands which makes...</td>\n      <td>10</td>\n      <td>train</td>\n      <td>['this', 'woman', 'has', 'really', 'knotty', '...</td>\n      <td>14</td>\n      <td>this woman has really knotty hands which makes...</td>\n      <td>[1, 20, 21, 22, 23, 24, 25, 26, 27, 28, 29, 30...</td>\n      <td>7</td>\n    </tr>\n    <tr>\n      <th>2</th>\n      <td>Post_Impressionism</td>\n      <td>vincent-van-gogh_portrait-of-madame-ginoux-l-a...</td>\n      <td>something else</td>\n      <td>When looking at this woman, I am filled with c...</td>\n      <td>10</td>\n      <td>train</td>\n      <td>['when', 'looking', 'at', 'this', 'woman', 'i'...</td>\n      <td>27</td>\n      <td>when looking at this woman i am filled with cu...</td>\n      <td>[1, 31, 32, 33, 20, 21, 34, 35, 36, 37, 38, 39...</td>\n      <td>8</td>\n    </tr>\n    <tr>\n      <th>3</th>\n      <td>Post_Impressionism</td>\n      <td>vincent-van-gogh_portrait-of-madame-ginoux-l-a...</td>\n      <td>contentment</td>\n      <td>A woman looking at ease, peaceful, and satisfi...</td>\n      <td>10</td>\n      <td>train</td>\n      <td>['a', 'woman', 'looking', 'at', 'ease', 'peace...</td>\n      <td>15</td>\n      <td>a woman looking at ease peaceful and satisfied...</td>\n      <td>[1, 44, 21, 32, 33, 47, 48, 11, 49, 50, 28, 51...</td>\n      <td>2</td>\n    </tr>\n    <tr>\n      <th>4</th>\n      <td>Expressionism</td>\n      <td>wassily-kandinsky_study-for-autumn-1909</td>\n      <td>awe</td>\n      <td>The bright colors make a very unique scene for...</td>\n      <td>7</td>\n      <td>train</td>\n      <td>['the', 'bright', 'colors', 'make', 'a', 'very...</td>\n      <td>12</td>\n      <td>the bright colors make a very unique scene for...</td>\n      <td>[1, 9, 55, 56, 57, 44, 6, 58, 59, 60, 9, 61, 6...</td>\n      <td>1</td>\n    </tr>\n    <tr>\n      <th>...</th>\n      <td>...</td>\n      <td>...</td>\n      <td>...</td>\n      <td>...</td>\n      <td>...</td>\n      <td>...</td>\n      <td>...</td>\n      <td>...</td>\n      <td>...</td>\n      <td>...</td>\n      <td>...</td>\n    </tr>\n    <tr>\n      <th>429426</th>\n      <td>Mannerism_Late_Renaissance</td>\n      <td>el-greco_st-francis-and-brother-leo-meditating...</td>\n      <td>fear</td>\n      <td>The skull and the mans very skinny face</td>\n      <td>50</td>\n      <td>rest</td>\n      <td>['the', 'skull', 'and', 'the', 'mans', 'very',...</td>\n      <td>8</td>\n      <td>the skull and the mans very skinny face</td>\n      <td>[1, 9, 1995, 11, 9, 131, 6, 1598, 46, 2, 0, 0,...</td>\n      <td>6</td>\n    </tr>\n    <tr>\n      <th>429427</th>\n      <td>Art_Nouveau_Modern</td>\n      <td>tom-thomson_woodland-waterfall-1916</td>\n      <td>sadness</td>\n      <td>I feel sadness because of the waterfall flowin...</td>\n      <td>50</td>\n      <td>rest</td>\n      <td>['i', 'feel', 'sadness', 'because', 'of', 'the...</td>\n      <td>20</td>\n      <td>i feel sadness because of the waterfall flowin...</td>\n      <td>[1, 34, 53, 403, 288, 64, 9, 1876, 3596, 8, 44...</td>\n      <td>7</td>\n    </tr>\n    <tr>\n      <th>429428</th>\n      <td>Post_Impressionism</td>\n      <td>david-burliuk_landscape-1</td>\n      <td>awe</td>\n      <td>The greenery landscape and flowery background ...</td>\n      <td>50</td>\n      <td>rest</td>\n      <td>['the', 'greenery', 'landscape', 'and', 'flowe...</td>\n      <td>10</td>\n      <td>the greenery landscape and flowery background ...</td>\n      <td>[1, 9, 3910, 639, 11, 3065, 422, 64, 476, 17, ...</td>\n      <td>1</td>\n    </tr>\n    <tr>\n      <th>429429</th>\n      <td>Cubism</td>\n      <td>willi-baumeister_machine-man-with-spiral-turn-...</td>\n      <td>something else</td>\n      <td>The interlocking mechanical shapes fitting tog...</td>\n      <td>50</td>\n      <td>rest</td>\n      <td>['the', 'interlocking', 'mechanical', 'shapes'...</td>\n      <td>10</td>\n      <td>the interlocking mechanical shapes fitting tog...</td>\n      <td>[1, 9, 4096, 4101, 62, 3943, 696, 74, 3738, 11...</td>\n      <td>8</td>\n    </tr>\n    <tr>\n      <th>429430</th>\n      <td>Cubism</td>\n      <td>gino-severini_a-dancer-1</td>\n      <td>awe</td>\n      <td>the collection and collage of different colors...</td>\n      <td>48</td>\n      <td>rest</td>\n      <td>['the', 'collection', 'and', 'collage', 'of', ...</td>\n      <td>12</td>\n      <td>the collection and collage of different colors...</td>\n      <td>[1, 9, 4370, 11, 3942, 64, 213, 56, 11, 62, 40...</td>\n      <td>1</td>\n    </tr>\n  </tbody>\n</table>\n<p>429431 rows × 11 columns</p>\n</div>"
     },
     "execution_count": 6,
     "metadata": {},
     "output_type": "execute_result"
    }
   ],
   "source": [
    "artemis_path = pathlib.Path(\"../../artemis/CLEAN_ARTEMIS/artemis_preprocessed.csv\")\n",
    "artemis = pandas.read_csv(artemis_path) if artemis_path.exists() else IOError\n",
    "artemis"
   ],
   "metadata": {
    "collapsed": false
   }
  },
  {
   "cell_type": "markdown",
   "source": [
    "## Load precomputed embeddings"
   ],
   "metadata": {
    "collapsed": false
   }
  },
  {
   "cell_type": "code",
   "execution_count": 7,
   "outputs": [
    {
     "name": "stderr",
     "output_type": "stream",
     "text": [
      "100%|██████████| 429431/429431 [56:20<00:00, 127.04it/s] \n"
     ]
    },
    {
     "data": {
      "text/plain": "(429431, 512)"
     },
     "execution_count": 7,
     "metadata": {},
     "output_type": "execute_result"
    }
   ],
   "source": [
    "embd_folder = pathlib.Path(\n",
    "    '/mnt/HDD/PROJECTS/EmotionalArt/CLIP-pretrained-embeddings/artemis-text/embeddings-clean-artemis'\n",
    ")\n",
    "X = numpy.array([\n",
    "    numpy.load(embd_folder / (str(i) + '.npy')) for i in tqdm(artemis.index)])\n",
    "X.shape"
   ],
   "metadata": {
    "collapsed": false
   }
  },
  {
   "cell_type": "markdown",
   "source": [
    "## Train shallow models"
   ],
   "metadata": {
    "collapsed": false
   }
  },
  {
   "cell_type": "code",
   "execution_count": null,
   "outputs": [],
   "source": [
    "def experiment_shallow(X: Tuple[numpy.ndarray, numpy.ndarray],\n",
    "                       labels: Tuple[numpy.ndarray, numpy.ndarray]):\n",
    "    \"\"\"\n",
    "\n",
    "    Args:\n",
    "        X: (N, D) data embeddings.\n",
    "        labels: (N,) ground truth labels.\n",
    "        kfolds: Number of K-Folds.\n",
    "\n",
    "    Returns:\n",
    "        Dict: Folds' Spearman & Overall Score\n",
    "    \"\"\"\n",
    "    k_folds = model_selection.KFold(n_splits=kfolds, shuffle=True,\n",
    "                                    random_state=1234)\n",
    "    log = {f'fold_{k+1}': dict() for k in range(kfolds)}\n",
    "    foldgen = k_folds.split(X, labels)\n",
    "    for k, fold in enumerate(foldgen):\n",
    "        train, test = fold\n",
    "        X_train, X_test = X[train], X[test]\n",
    "        y_train, y_test = labels[train], labels[test]\n",
    "\n",
    "        lr = pipeline.make_pipeline(preprocessing.StandardScaler(\n",
    "            with_mean=True, with_std=True),\n",
    "            linear_model.LinearRegression()\n",
    "        )\n",
    "\n",
    "        lr.fit(X_train, y_train)\n",
    "        preds = lr.predict(X_test)\n",
    "        log[f'fold_{k+1}'] = metrics.compute(y_test, preds)\n",
    "    return log"
   ],
   "metadata": {
    "collapsed": false
   }
  }
 ],
 "metadata": {
  "kernelspec": {
   "display_name": "Python 3",
   "language": "python",
   "name": "python3"
  },
  "language_info": {
   "codemirror_mode": {
    "name": "ipython",
    "version": 2
   },
   "file_extension": ".py",
   "mimetype": "text/x-python",
   "name": "python",
   "nbconvert_exporter": "python",
   "pygments_lexer": "ipython2",
   "version": "2.7.6"
  }
 },
 "nbformat": 4,
 "nbformat_minor": 0
}
