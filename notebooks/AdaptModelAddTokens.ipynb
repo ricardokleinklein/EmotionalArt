{
 "cells": [
  {
   "cell_type": "markdown",
   "source": [
    "# Add word-level tokens and fine-tune models\n",
    "\n",
    "Do not adapt the tokenizers here, but rather include, based on two\n",
    "strategies (TF / TF-idF), complete words whose representation should be\n",
    "learned by the model atop.\n",
    "\n",
    "NOTE (21/06/22): Tokenizers add tokens based on `add_tokens` method. Changed\n",
    " to `add_special_tokens` since by the docs the latter does not split these\n",
    " added tokens."
   ],
   "metadata": {
    "collapsed": false,
    "pycharm": {
     "name": "#%% md\n"
    }
   }
  },
  {
   "cell_type": "code",
   "execution_count": 2,
   "outputs": [
    {
     "name": "stdout",
     "output_type": "stream",
     "text": [
      "Building dataset VideoMem from /media/ricardokleinlein/HDD1/DATA/VIDEOMEM\n"
     ]
    }
   ],
   "source": [
    "import os\n",
    "import pickle\n",
    "import shutil\n",
    "import numpy\n",
    "\n",
    "from tqdm import tqdm\n",
    "from tools.dim_reduction import Umap\n",
    "from tools.clustering import Hdbscan\n",
    "from tools.linguistics import tf_idf\n",
    "\n",
    "from sklearn import model_selection\n",
    "from sklearn import linear_model\n",
    "from sklearn import pipeline\n",
    "from sklearn import preprocessing\n",
    "\n",
    "from torch.nn import MSELoss\n",
    "from dataset_definition.videomem import VideoMem\n",
    "from dataset_definition.memento10k import Memento10K\n",
    "from data_preprocess.tokenizers import CustomBertTokenizer,BytePairEncodingTokenizer\n",
    "from data_preprocess.datasets import SentencesDataset\n",
    "from metrics.regression_metrics import RegressionMetrics\n",
    "from neural_models.transformers import CustomBert, CustomGPT2, CustomTextualCLIP\n",
    "from workflow.kfolds import KFoldExperiment"
   ],
   "metadata": {
    "collapsed": false,
    "pycharm": {
     "name": "#%%\n"
    }
   }
  },
  {
   "cell_type": "markdown",
   "source": [
    "## Global variables"
   ],
   "metadata": {
    "collapsed": false,
    "pycharm": {
     "name": "#%% md\n"
    }
   }
  },
  {
   "cell_type": "code",
   "execution_count": null,
   "outputs": [],
   "source": [
    "DATASET_PATH = \"/home/ricardokleinlein/MemoryExtensionVocab/videomem.csv\"\n",
    "LABELS_FIELD = 'short-term_memorability'\n",
    "CONTROL_METRIC = 'loss'\n",
    "BATCH_SIZE = 8\n",
    "PATIENCE = 5\n",
    "\n",
    "videomem = VideoMem(DATASET_PATH)\n",
    "# memento = Memento10K(DATASET_PATH)\n",
    "\n",
    "# def append_dot(s: str) -> str:\n",
    "#     \"\"\"Append a final dot to a sentence if it doesn't have it already\"\"\"\n",
    "#     if s[-1] in [',', ' ']:\n",
    "#         return s[:-1] + '.'\n",
    "#     return s + '.'\n",
    "#\n",
    "# def remove_inner_dots(s: str) -> str:\n",
    "#     \"\"\"Replace dots within the sentence by commas.\"\"\"\n",
    "#     return s.replace('.', '')\n",
    "#\n",
    "#\n",
    "# memento = Memento10K(DATASET_PATH)\n",
    "# cols = [f'description_{i}' for i in range(5)]\n",
    "# texts = memento.df[cols].applymap(remove_inner_dots)\n",
    "# texts = texts.applymap(append_dot)\n",
    "# texts = texts.apply(''.join, axis=1).apply(lambda s: s.lower()).iloc[:8500]\n",
    "# X = texts\n",
    "# scores = memento.df[LABELS_FIELD][:8500]"
   ],
   "metadata": {
    "collapsed": false,
    "pycharm": {
     "name": "#%%\n"
    }
   }
  },
  {
   "cell_type": "markdown",
   "source": [
    "## Baselines\n",
    "\n",
    "Do not change anything in either tokenizers or the feature extractors, and\n",
    "only train a linear regressor fed on those precomputed embeddings."
   ],
   "metadata": {
    "collapsed": false,
    "pycharm": {
     "name": "#%% md\n"
    }
   }
  },
  {
   "cell_type": "code",
   "execution_count": 1,
   "outputs": [
    {
     "name": "stderr",
     "output_type": "stream",
     "text": [
      "Some weights of the model checkpoint at bert-base-uncased were not used when initializing BertModel: ['cls.predictions.transform.LayerNorm.weight', 'cls.seq_relationship.bias', 'cls.predictions.decoder.weight', 'cls.predictions.transform.dense.weight', 'cls.predictions.transform.LayerNorm.bias', 'cls.seq_relationship.weight', 'cls.predictions.bias', 'cls.predictions.transform.dense.bias']\n",
      "- This IS expected if you are initializing BertModel from the checkpoint of a model trained on another task or with another architecture (e.g. initializing a BertForSequenceClassification model from a BertForPreTraining model).\n",
      "- This IS NOT expected if you are initializing BertModel from the checkpoint of a model that you expect to be exactly identical (initializing a BertForSequenceClassification model from a BertForSequenceClassification model).\n"
     ]
    }
   ],
   "source": [
    "from transformers import BertTokenizer, BertModel\n",
    "toks = BertTokenizer.from_pretrained('bert-base-uncased')\n",
    "model_base = BertModel.from_pretrained('bert-base-uncased')\n",
    "\n",
    "# from transformers import GPT2Tokenizer, GPT2Model\n",
    "# toks = GPT2Tokenizer.from_pretrained('gpt2')\n",
    "# model_base = GPT2Model.from_pretrained('gpt2')\n",
    "#\n",
    "# from transformers import CLIPTokenizer, CLIPTextModel\n",
    "# toks = CLIPTokenizer.from_pretrained(\"openai/clip-vit-base-patch32\")\n",
    "# model_base = CLIPTextModel.from_pretrained(\"openai/clip-vit-base-patch32\")\n",
    "\n",
    "def compute_bert(sentence):\n",
    "    inputs = toks(sentence, return_tensors='pt')\n",
    "    output = model_base(**inputs).pooler_output.squeeze().detach().cpu().numpy()\n",
    "    return output\n",
    "\n",
    "def compute_gpt2(sentence):\n",
    "    inputs = toks(sentence, return_tensors='pt')\n",
    "    output = model_base(**inputs).last_hidden_state[:, -1].squeeze().detach().cpu().numpy()\n",
    "    return output\n",
    "\n",
    "def compute_clip(sentence):\n",
    "    inputs = toks(sentence, return_tensors='pt')\n",
    "    output = model_base(**inputs).pooler_output.squeeze().detach().cpu().numpy()\n",
    "    return output\n",
    "\n",
    "def compute(sentences, fn):\n",
    "    for s, sentence in tqdm(enumerate(list(sentences)), total=len(sentences)):\n",
    "        x = fn(sentence)\n",
    "        numpy.save(os.path.join('./baseline-tmp', str(s)), x)\n",
    "\n",
    "def load(fromdir):\n",
    "    X = [numpy.load('./baseline-tmp/' + str(s) + '.npy') for s, _ in enumerate(list(sentences))]\n",
    "    shutil.rmtree(fromdir)\n",
    "    return numpy.array(X)\n",
    "\n",
    "def experiment(X: numpy.ndarray , labels: numpy.ndarray, kfolds: int = 5):\n",
    "    \"\"\"\n",
    "\n",
    "    Args:\n",
    "        X: (N, D) data embeddings.\n",
    "        labels: (N,) ground truth labels.\n",
    "        kfolds: Number of K-Folds.\n",
    "\n",
    "    Returns:\n",
    "        Dict: Folds' Spearman & Overall Score\n",
    "    \"\"\"\n",
    "    k_folds = model_selection.KFold(n_splits=kfolds, shuffle=True,\n",
    "                                    random_state=1234)\n",
    "    log = {f'fold_{k+1}': dict() for k in range(kfolds)}\n",
    "    foldgen = k_folds.split(X, labels)\n",
    "    for k, fold in enumerate(foldgen):\n",
    "        train, test = fold\n",
    "        X_train, X_test = X[train], X[test]\n",
    "        y_train, y_test = labels[train], labels[test]\n",
    "\n",
    "        lr = pipeline.make_pipeline(preprocessing.StandardScaler(\n",
    "            with_mean=True, with_std=True),\n",
    "            linear_model.LinearRegression()\n",
    "        )\n",
    "\n",
    "        lr.fit(X_train, y_train)\n",
    "        preds = lr.predict(X_test)\n",
    "        log[f'fold_{k+1}'] = metrics.compute(y_test, preds)\n",
    "    return log\n",
    "\n",
    "metrics = RegressionMetrics()\n",
    "sentences = videomem.get_description()\n",
    "scores = videomem.get_scores()\n",
    "os.makedirs('./baseline-tmp', exist_ok=True)\n",
    "compute(sentences, compute_clip)\n",
    "X = load('./baseline-tmp')\n",
    "experiment(X, videomem.df[LABELS_FIELD])"
   ],
   "metadata": {
    "collapsed": false,
    "pycharm": {
     "name": "#%%\n"
    }
   }
  },
  {
   "cell_type": "markdown",
   "source": [
    "## Retrain\n",
    "\n",
    "Retrain only the DL part of the pipeline."
   ],
   "metadata": {
    "collapsed": false,
    "pycharm": {
     "name": "#%% md\n"
    }
   }
  },
  {
   "cell_type": "code",
   "execution_count": null,
   "outputs": [],
   "source": [
    "model = CustomBert(num_classes=1, finetune=False, multisentence=False)\n",
    "# model = CustomGPT2(num_classes=1, finetune=False, multisentence=False)\n",
    "# model = CustomTextualCLIP(num_classes=1, finetune=False, multisentence=False)\n",
    "\n",
    "tokenizer = CustomBertTokenizer('bert-base-uncased').tokenizer\n",
    "# tokenizer = BytePairEncodingTokenizer('gpt2')\n",
    "# tokenizer = BytePairEncodingTokenizer('openai/clip-vit-base-patch32')\n",
    "\n",
    "metrics = RegressionMetrics()\n",
    "experiment_adapt = KFoldExperiment(data_reader=SentencesDataset,\n",
    "                                   metrics=metrics,\n",
    "                                   monitor_metric=CONTROL_METRIC,\n",
    "                                   patience=PATIENCE,\n",
    "                                   tokenizer=tokenizer)\n",
    "experiment_adapt.run(X=sentences,\n",
    "                     target=scores,\n",
    "                     model=model,\n",
    "                     loss_fn=MSELoss(),\n",
    "                     batch_size=BATCH_SIZE)"
   ],
   "metadata": {
    "collapsed": false,
    "pycharm": {
     "name": "#%%\n"
    }
   }
  },
  {
   "cell_type": "markdown",
   "source": [
    "## Words by TF\n",
    "\n",
    "### A) Take up to the most frequent 500 words"
   ],
   "metadata": {
    "collapsed": false,
    "pycharm": {
     "name": "#%% md\n"
    }
   }
  },
  {
   "cell_type": "code",
   "execution_count": 50,
   "outputs": [
    {
     "data": {
      "text/plain": "Text(0.5, 1.0, 'Term frequency')"
     },
     "execution_count": 50,
     "metadata": {},
     "output_type": "execute_result"
    },
    {
     "data": {
      "text/plain": "<Figure size 432x288 with 2 Axes>",
      "image/png": "[encoded data removed]"
     },
     "metadata": {
      "needs_background": "light"
     },
     "output_type": "display_data"
    }
   ],
   "source": [
    "nb_terms = [5, 25, 50, 100, 250, 500]\n",
    "results = {k: None for k in nb_terms}\n",
    "\n",
    "for nb in nb_terms:\n",
    "    tokenizer_wrap = CustomBertTokenizer('bert-base-uncased')\n",
    "    added_vocab = tokenizer_wrap.add_tokens_tf(videomem.df['description'],\n",
    "                                               top_n=nb)\n",
    "\n",
    "    model = CustomBert(num_classes=1, finetune=False, multisentence=False)\n",
    "    model.resize_embeddings_layer(len(tokenizer_wrap))\n",
    "\n",
    "    regression_metrics = RegressionMetrics()\n",
    "    experiment = KFoldExperiment(data_reader=SentencesDataset,\n",
    "                             metrics=regression_metrics,\n",
    "                             monitor_metric=CONTROL_METRIC,\n",
    "                             patience=PATIENCE,\n",
    "                             tokenizer=tokenizer_wrap.tokenizer)\n",
    "\n",
    "    results_logging = experiment.run(X=videomem.df['description'],\n",
    "                                 target=videomem.df[LABELS_FIELD],\n",
    "                                 model=model,\n",
    "                                 loss_fn=MSELoss(),\n",
    "                                 batch_size=BATCH_SIZE)\n",
    "\n"
   ],
   "metadata": {
    "collapsed": false,
    "pycharm": {
     "name": "#%%\n"
    }
   }
  },
  {
   "cell_type": "markdown",
   "source": [
    "## Words by TF-iDF\n",
    "### A) 1-3-5 top words / cluster"
   ],
   "metadata": {
    "collapsed": false,
    "pycharm": {
     "name": "#%% md\n"
    }
   }
  },
  {
   "cell_type": "code",
   "execution_count": 2,
   "outputs": [
    {
     "name": "stderr",
     "output_type": "stream",
     "text": [
      "Some weights of the model checkpoint at bert-base-uncased were not used when initializing BertModel: ['cls.predictions.transform.LayerNorm.weight', 'cls.predictions.transform.LayerNorm.bias', 'cls.predictions.transform.dense.bias', 'cls.predictions.transform.dense.weight', 'cls.seq_relationship.weight', 'cls.predictions.bias', 'cls.seq_relationship.bias', 'cls.predictions.decoder.weight']\n",
      "- This IS expected if you are initializing BertModel from the checkpoint of a model trained on another task or with another architecture (e.g. initializing a BertForSequenceClassification model from a BertForPreTraining model).\n",
      "- This IS NOT expected if you are initializing BertModel from the checkpoint of a model that you expect to be exactly identical (initializing a BertForSequenceClassification model from a BertForSequenceClassification model).\n",
      "8000it [03:20, 39.90it/s]\n"
     ]
    }
   ],
   "source": [
    "# Compute embeddings from pretrained model\n",
    "import os\n",
    "import shutil\n",
    "import numpy\n",
    "from tqdm import tqdm\n",
    "from transformers import BertTokenizer, BertModel\n",
    "default_tokenizer = BertTokenizer.from_pretrained('bert-base-uncased')\n",
    "default_model = BertModel.from_pretrained('bert-base-uncased')\n",
    "\n",
    "sentences = videomem.get_description()\n",
    "\n",
    "def compute_embedding(sentence):\n",
    "    inputs = default_tokenizer(sentence, return_tensors='pt', padding=True)\n",
    "    output = default_model(**inputs).pooler_output.detach().cpu().numpy()[0]\n",
    "    return output\n",
    "\n",
    "os.makedirs('./tmp', exist_ok=True)\n",
    "for s, sentence in tqdm(enumerate(list(sentences))):\n",
    "    x = compute_embedding(sentence)\n",
    "    numpy.save(os.path.join('./tmp', str(s)), x)"
   ],
   "metadata": {
    "collapsed": false,
    "pycharm": {
     "name": "#%%\n"
    }
   }
  },
  {
   "cell_type": "code",
   "execution_count": 3,
   "outputs": [
    {
     "data": {
      "text/plain": "(8000, 768)"
     },
     "execution_count": 3,
     "metadata": {},
     "output_type": "execute_result"
    }
   ],
   "source": [
    "X = [numpy.load('./tmp/' + str(s) + '.npy') for s, _ in enumerate(list(sentences))]\n",
    "shutil.rmtree('./tmp')\n",
    "X = numpy.array(X)\n",
    "X.shape"
   ],
   "metadata": {
    "collapsed": false,
    "pycharm": {
     "name": "#%%\n"
    }
   }
  },
  {
   "cell_type": "code",
   "execution_count": 4,
   "outputs": [
    {
     "name": "stderr",
     "output_type": "stream",
     "text": [
      "Some weights of the model checkpoint at bert-base-uncased were not used when initializing BertModel: ['cls.predictions.transform.LayerNorm.weight', 'cls.predictions.transform.LayerNorm.bias', 'cls.predictions.transform.dense.bias', 'cls.predictions.transform.dense.weight', 'cls.seq_relationship.weight', 'cls.predictions.bias', 'cls.seq_relationship.bias', 'cls.predictions.decoder.weight']\n",
      "- This IS expected if you are initializing BertModel from the checkpoint of a model trained on another task or with another architecture (e.g. initializing a BertForSequenceClassification model from a BertForPreTraining model).\n",
      "- This IS NOT expected if you are initializing BertModel from the checkpoint of a model that you expect to be exactly identical (initializing a BertForSequenceClassification model from a BertForSequenceClassification model).\n"
     ]
    },
    {
     "name": "stdout",
     "output_type": "stream",
     "text": [
      "[NEW FOLD: 1/5]\n",
      "Computing initial model performance...\n"
     ]
    },
    {
     "name": "stderr",
     "output_type": "stream",
     "text": [
      "100%|██████████| 160/160 [00:23<00:00,  6.95it/s]\n"
     ]
    },
    {
     "name": "stdout",
     "output_type": "stream",
     "text": [
      "Epoch 1 / 500\n"
     ]
    },
    {
     "name": "stderr",
     "output_type": "stream",
     "text": [
      "100%|██████████| 640/640 [04:48<00:00,  2.21it/s]\n",
      "100%|██████████| 160/160 [00:25<00:00,  6.25it/s]\n"
     ]
    },
    {
     "name": "stdout",
     "output_type": "stream",
     "text": [
      "Saving new model...\n",
      "Epoch 2 / 500\n"
     ]
    },
    {
     "name": "stderr",
     "output_type": "stream",
     "text": [
      "100%|██████████| 640/640 [04:48<00:00,  2.22it/s]\n",
      "100%|██████████| 160/160 [00:25<00:00,  6.36it/s]\n"
     ]
    },
    {
     "name": "stdout",
     "output_type": "stream",
     "text": [
      "Saving new model...\n",
      "Epoch 3 / 500\n"
     ]
    },
    {
     "name": "stderr",
     "output_type": "stream",
     "text": [
      "100%|██████████| 640/640 [04:46<00:00,  2.23it/s]\n",
      "100%|██████████| 160/160 [00:25<00:00,  6.30it/s]\n"
     ]
    },
    {
     "name": "stdout",
     "output_type": "stream",
     "text": [
      "Patience left: 4 epochs.\n",
      "Epoch 4 / 500\n"
     ]
    },
    {
     "name": "stderr",
     "output_type": "stream",
     "text": [
      "100%|██████████| 640/640 [04:45<00:00,  2.24it/s]\n",
      "100%|██████████| 160/160 [00:25<00:00,  6.19it/s]\n"
     ]
    },
    {
     "name": "stdout",
     "output_type": "stream",
     "text": [
      "Patience left: 3 epochs.\n",
      "Epoch 5 / 500\n"
     ]
    },
    {
     "name": "stderr",
     "output_type": "stream",
     "text": [
      "100%|██████████| 640/640 [04:48<00:00,  2.22it/s]\n",
      "100%|██████████| 160/160 [00:26<00:00,  6.15it/s]\n"
     ]
    },
    {
     "name": "stdout",
     "output_type": "stream",
     "text": [
      "Patience left: 2 epochs.\n",
      "Epoch 6 / 500\n"
     ]
    },
    {
     "name": "stderr",
     "output_type": "stream",
     "text": [
      "100%|██████████| 640/640 [04:41<00:00,  2.28it/s]\n",
      "100%|██████████| 160/160 [00:25<00:00,  6.27it/s]\n"
     ]
    },
    {
     "name": "stdout",
     "output_type": "stream",
     "text": [
      "Patience left: 1 epochs.\n",
      "Epoch 7 / 500\n"
     ]
    },
    {
     "name": "stderr",
     "output_type": "stream",
     "text": [
      "100%|██████████| 640/640 [04:48<00:00,  2.22it/s]\n",
      "100%|██████████| 160/160 [00:25<00:00,  6.38it/s]\n"
     ]
    },
    {
     "name": "stdout",
     "output_type": "stream",
     "text": [
      "Patience left: 0 epochs.\n",
      "[Early-Stopping]: Leaving training loop...\n"
     ]
    },
    {
     "name": "stderr",
     "output_type": "stream",
     "text": [
      "100%|██████████| 200/200 [00:31<00:00,  6.39it/s]\n"
     ]
    },
    {
     "name": "stdout",
     "output_type": "stream",
     "text": [
      "[NEW FOLD: 2/5]\n",
      "Computing initial model performance...\n"
     ]
    },
    {
     "name": "stderr",
     "output_type": "stream",
     "text": [
      "100%|██████████| 160/160 [00:25<00:00,  6.36it/s]\n"
     ]
    },
    {
     "name": "stdout",
     "output_type": "stream",
     "text": [
      "Epoch 1 / 500\n"
     ]
    },
    {
     "name": "stderr",
     "output_type": "stream",
     "text": [
      "100%|██████████| 640/640 [04:50<00:00,  2.20it/s]\n",
      "100%|██████████| 160/160 [00:25<00:00,  6.29it/s]\n"
     ]
    },
    {
     "name": "stdout",
     "output_type": "stream",
     "text": [
      "Saving new model...\n",
      "Epoch 2 / 500\n"
     ]
    },
    {
     "name": "stderr",
     "output_type": "stream",
     "text": [
      "100%|██████████| 640/640 [04:47<00:00,  2.22it/s]\n",
      "100%|██████████| 160/160 [00:25<00:00,  6.30it/s]\n"
     ]
    },
    {
     "name": "stdout",
     "output_type": "stream",
     "text": [
      "Patience left: 4 epochs.\n",
      "Epoch 3 / 500\n"
     ]
    },
    {
     "name": "stderr",
     "output_type": "stream",
     "text": [
      "100%|██████████| 640/640 [04:47<00:00,  2.22it/s]\n",
      "100%|██████████| 160/160 [00:25<00:00,  6.27it/s]\n"
     ]
    },
    {
     "name": "stdout",
     "output_type": "stream",
     "text": [
      "Saving new model...\n",
      "Epoch 4 / 500\n"
     ]
    },
    {
     "name": "stderr",
     "output_type": "stream",
     "text": [
      "100%|██████████| 640/640 [04:49<00:00,  2.21it/s]\n",
      "100%|██████████| 160/160 [00:25<00:00,  6.25it/s]\n"
     ]
    },
    {
     "name": "stdout",
     "output_type": "stream",
     "text": [
      "Patience left: 4 epochs.\n",
      "Epoch 5 / 500\n"
     ]
    },
    {
     "name": "stderr",
     "output_type": "stream",
     "text": [
      "100%|██████████| 640/640 [04:50<00:00,  2.21it/s]\n",
      "100%|██████████| 160/160 [00:25<00:00,  6.27it/s]\n"
     ]
    },
    {
     "name": "stdout",
     "output_type": "stream",
     "text": [
      "Patience left: 3 epochs.\n",
      "Epoch 6 / 500\n"
     ]
    },
    {
     "name": "stderr",
     "output_type": "stream",
     "text": [
      "100%|██████████| 640/640 [04:50<00:00,  2.20it/s]\n",
      "100%|██████████| 160/160 [00:25<00:00,  6.19it/s]\n"
     ]
    },
    {
     "name": "stdout",
     "output_type": "stream",
     "text": [
      "Patience left: 2 epochs.\n",
      "Epoch 7 / 500\n"
     ]
    },
    {
     "name": "stderr",
     "output_type": "stream",
     "text": [
      "100%|██████████| 640/640 [04:41<00:00,  2.27it/s]\n",
      "100%|██████████| 160/160 [00:24<00:00,  6.48it/s]\n"
     ]
    },
    {
     "name": "stdout",
     "output_type": "stream",
     "text": [
      "Patience left: 1 epochs.\n",
      "Epoch 8 / 500\n"
     ]
    },
    {
     "name": "stderr",
     "output_type": "stream",
     "text": [
      "100%|██████████| 640/640 [04:24<00:00,  2.42it/s]\n",
      "100%|██████████| 160/160 [00:24<00:00,  6.55it/s]\n"
     ]
    },
    {
     "name": "stdout",
     "output_type": "stream",
     "text": [
      "Patience left: 0 epochs.\n",
      "[Early-Stopping]: Leaving training loop...\n"
     ]
    },
    {
     "name": "stderr",
     "output_type": "stream",
     "text": [
      "100%|██████████| 200/200 [00:29<00:00,  6.79it/s]\n"
     ]
    },
    {
     "name": "stdout",
     "output_type": "stream",
     "text": [
      "[NEW FOLD: 3/5]\n",
      "Computing initial model performance...\n"
     ]
    },
    {
     "name": "stderr",
     "output_type": "stream",
     "text": [
      "100%|██████████| 160/160 [00:23<00:00,  6.75it/s]\n"
     ]
    },
    {
     "name": "stdout",
     "output_type": "stream",
     "text": [
      "Epoch 1 / 500\n"
     ]
    },
    {
     "name": "stderr",
     "output_type": "stream",
     "text": [
      "100%|██████████| 640/640 [04:24<00:00,  2.42it/s]\n",
      "100%|██████████| 160/160 [00:24<00:00,  6.57it/s]\n"
     ]
    },
    {
     "name": "stdout",
     "output_type": "stream",
     "text": [
      "Saving new model...\n",
      "Epoch 2 / 500\n"
     ]
    },
    {
     "name": "stderr",
     "output_type": "stream",
     "text": [
      "100%|██████████| 640/640 [04:24<00:00,  2.42it/s]\n",
      "100%|██████████| 160/160 [00:24<00:00,  6.55it/s]\n"
     ]
    },
    {
     "name": "stdout",
     "output_type": "stream",
     "text": [
      "Saving new model...\n",
      "Epoch 3 / 500\n"
     ]
    },
    {
     "name": "stderr",
     "output_type": "stream",
     "text": [
      "100%|██████████| 640/640 [04:24<00:00,  2.42it/s]\n",
      "100%|██████████| 160/160 [00:24<00:00,  6.52it/s]\n"
     ]
    },
    {
     "name": "stdout",
     "output_type": "stream",
     "text": [
      "Patience left: 4 epochs.\n",
      "Epoch 4 / 500\n"
     ]
    },
    {
     "name": "stderr",
     "output_type": "stream",
     "text": [
      "100%|██████████| 640/640 [04:24<00:00,  2.42it/s]\n",
      "100%|██████████| 160/160 [00:24<00:00,  6.54it/s]\n"
     ]
    },
    {
     "name": "stdout",
     "output_type": "stream",
     "text": [
      "Patience left: 3 epochs.\n",
      "Epoch 5 / 500\n"
     ]
    },
    {
     "name": "stderr",
     "output_type": "stream",
     "text": [
      "100%|██████████| 640/640 [04:24<00:00,  2.42it/s]\n",
      "100%|██████████| 160/160 [00:24<00:00,  6.53it/s]\n"
     ]
    },
    {
     "name": "stdout",
     "output_type": "stream",
     "text": [
      "Patience left: 2 epochs.\n",
      "Epoch 6 / 500\n"
     ]
    },
    {
     "name": "stderr",
     "output_type": "stream",
     "text": [
      "100%|██████████| 640/640 [04:23<00:00,  2.43it/s]\n",
      "100%|██████████| 160/160 [00:24<00:00,  6.64it/s]\n"
     ]
    },
    {
     "name": "stdout",
     "output_type": "stream",
     "text": [
      "Patience left: 1 epochs.\n",
      "Epoch 7 / 500\n"
     ]
    },
    {
     "name": "stderr",
     "output_type": "stream",
     "text": [
      "100%|██████████| 640/640 [04:24<00:00,  2.42it/s]\n",
      "100%|██████████| 160/160 [00:24<00:00,  6.56it/s]\n"
     ]
    },
    {
     "name": "stdout",
     "output_type": "stream",
     "text": [
      "Patience left: 0 epochs.\n",
      "[Early-Stopping]: Leaving training loop...\n"
     ]
    },
    {
     "name": "stderr",
     "output_type": "stream",
     "text": [
      "100%|██████████| 200/200 [00:29<00:00,  6.82it/s]\n"
     ]
    },
    {
     "name": "stdout",
     "output_type": "stream",
     "text": [
      "[NEW FOLD: 4/5]\n",
      "Computing initial model performance...\n"
     ]
    },
    {
     "name": "stderr",
     "output_type": "stream",
     "text": [
      "100%|██████████| 160/160 [00:23<00:00,  6.69it/s]\n"
     ]
    },
    {
     "name": "stdout",
     "output_type": "stream",
     "text": [
      "Epoch 1 / 500\n"
     ]
    },
    {
     "name": "stderr",
     "output_type": "stream",
     "text": [
      "100%|██████████| 640/640 [04:23<00:00,  2.43it/s]\n",
      "100%|██████████| 160/160 [00:24<00:00,  6.57it/s]\n"
     ]
    },
    {
     "name": "stdout",
     "output_type": "stream",
     "text": [
      "Saving new model...\n",
      "Epoch 2 / 500\n"
     ]
    },
    {
     "name": "stderr",
     "output_type": "stream",
     "text": [
      "100%|██████████| 640/640 [04:24<00:00,  2.42it/s]\n",
      "100%|██████████| 160/160 [00:24<00:00,  6.51it/s]\n"
     ]
    },
    {
     "name": "stdout",
     "output_type": "stream",
     "text": [
      "Saving new model...\n",
      "Epoch 3 / 500\n"
     ]
    },
    {
     "name": "stderr",
     "output_type": "stream",
     "text": [
      "100%|██████████| 640/640 [04:24<00:00,  2.42it/s]\n",
      "100%|██████████| 160/160 [00:24<00:00,  6.55it/s]\n"
     ]
    },
    {
     "name": "stdout",
     "output_type": "stream",
     "text": [
      "Patience left: 4 epochs.\n",
      "Epoch 4 / 500\n"
     ]
    },
    {
     "name": "stderr",
     "output_type": "stream",
     "text": [
      "100%|██████████| 640/640 [04:24<00:00,  2.42it/s]\n",
      "100%|██████████| 160/160 [00:24<00:00,  6.57it/s]\n"
     ]
    },
    {
     "name": "stdout",
     "output_type": "stream",
     "text": [
      "Patience left: 3 epochs.\n",
      "Epoch 5 / 500\n"
     ]
    },
    {
     "name": "stderr",
     "output_type": "stream",
     "text": [
      "100%|██████████| 640/640 [04:24<00:00,  2.42it/s]\n",
      "100%|██████████| 160/160 [00:24<00:00,  6.54it/s]\n"
     ]
    },
    {
     "name": "stdout",
     "output_type": "stream",
     "text": [
      "Patience left: 2 epochs.\n",
      "Epoch 6 / 500\n"
     ]
    },
    {
     "name": "stderr",
     "output_type": "stream",
     "text": [
      "100%|██████████| 640/640 [04:22<00:00,  2.44it/s]\n",
      "100%|██████████| 160/160 [00:24<00:00,  6.57it/s]\n"
     ]
    },
    {
     "name": "stdout",
     "output_type": "stream",
     "text": [
      "Patience left: 1 epochs.\n",
      "Epoch 7 / 500\n"
     ]
    },
    {
     "name": "stderr",
     "output_type": "stream",
     "text": [
      "100%|██████████| 640/640 [04:23<00:00,  2.43it/s]\n",
      "100%|██████████| 160/160 [00:24<00:00,  6.56it/s]\n"
     ]
    },
    {
     "name": "stdout",
     "output_type": "stream",
     "text": [
      "Patience left: 0 epochs.\n",
      "[Early-Stopping]: Leaving training loop...\n"
     ]
    },
    {
     "name": "stderr",
     "output_type": "stream",
     "text": [
      "100%|██████████| 200/200 [00:29<00:00,  6.83it/s]\n"
     ]
    },
    {
     "name": "stdout",
     "output_type": "stream",
     "text": [
      "[NEW FOLD: 5/5]\n",
      "Computing initial model performance...\n"
     ]
    },
    {
     "name": "stderr",
     "output_type": "stream",
     "text": [
      "100%|██████████| 160/160 [00:23<00:00,  6.82it/s]\n"
     ]
    },
    {
     "name": "stdout",
     "output_type": "stream",
     "text": [
      "Epoch 1 / 500\n"
     ]
    },
    {
     "name": "stderr",
     "output_type": "stream",
     "text": [
      "100%|██████████| 640/640 [04:24<00:00,  2.42it/s]\n",
      "100%|██████████| 160/160 [00:24<00:00,  6.61it/s]\n"
     ]
    },
    {
     "name": "stdout",
     "output_type": "stream",
     "text": [
      "Saving new model...\n",
      "Epoch 2 / 500\n"
     ]
    },
    {
     "name": "stderr",
     "output_type": "stream",
     "text": [
      "100%|██████████| 640/640 [04:23<00:00,  2.43it/s]\n",
      "100%|██████████| 160/160 [00:24<00:00,  6.53it/s]\n"
     ]
    },
    {
     "name": "stdout",
     "output_type": "stream",
     "text": [
      "Saving new model...\n",
      "Epoch 3 / 500\n"
     ]
    },
    {
     "name": "stderr",
     "output_type": "stream",
     "text": [
      "100%|██████████| 640/640 [04:23<00:00,  2.43it/s]\n",
      "100%|██████████| 160/160 [00:24<00:00,  6.61it/s]\n"
     ]
    },
    {
     "name": "stdout",
     "output_type": "stream",
     "text": [
      "Patience left: 4 epochs.\n",
      "Epoch 4 / 500\n"
     ]
    },
    {
     "name": "stderr",
     "output_type": "stream",
     "text": [
      "100%|██████████| 640/640 [04:23<00:00,  2.43it/s]\n",
      "100%|██████████| 160/160 [00:24<00:00,  6.55it/s]\n"
     ]
    },
    {
     "name": "stdout",
     "output_type": "stream",
     "text": [
      "Patience left: 3 epochs.\n",
      "Epoch 5 / 500\n"
     ]
    },
    {
     "name": "stderr",
     "output_type": "stream",
     "text": [
      "100%|██████████| 640/640 [04:23<00:00,  2.43it/s]\n",
      "100%|██████████| 160/160 [00:23<00:00,  6.72it/s]\n"
     ]
    },
    {
     "name": "stdout",
     "output_type": "stream",
     "text": [
      "Patience left: 2 epochs.\n",
      "Epoch 6 / 500\n"
     ]
    },
    {
     "name": "stderr",
     "output_type": "stream",
     "text": [
      "100%|██████████| 640/640 [04:24<00:00,  2.42it/s]\n",
      "100%|██████████| 160/160 [00:24<00:00,  6.53it/s]\n"
     ]
    },
    {
     "name": "stdout",
     "output_type": "stream",
     "text": [
      "Patience left: 1 epochs.\n",
      "Epoch 7 / 500\n"
     ]
    },
    {
     "name": "stderr",
     "output_type": "stream",
     "text": [
      "100%|██████████| 640/640 [04:23<00:00,  2.42it/s]\n",
      "100%|██████████| 160/160 [00:24<00:00,  6.53it/s]\n"
     ]
    },
    {
     "name": "stdout",
     "output_type": "stream",
     "text": [
      "Patience left: 0 epochs.\n",
      "[Early-Stopping]: Leaving training loop...\n"
     ]
    },
    {
     "name": "stderr",
     "output_type": "stream",
     "text": [
      "100%|██████████| 200/200 [00:29<00:00,  6.88it/s]\n",
      "Some weights of the model checkpoint at bert-base-uncased were not used when initializing BertModel: ['cls.predictions.transform.LayerNorm.weight', 'cls.predictions.transform.LayerNorm.bias', 'cls.predictions.transform.dense.bias', 'cls.predictions.transform.dense.weight', 'cls.seq_relationship.weight', 'cls.predictions.bias', 'cls.seq_relationship.bias', 'cls.predictions.decoder.weight']\n",
      "- This IS expected if you are initializing BertModel from the checkpoint of a model trained on another task or with another architecture (e.g. initializing a BertForSequenceClassification model from a BertForPreTraining model).\n",
      "- This IS NOT expected if you are initializing BertModel from the checkpoint of a model that you expect to be exactly identical (initializing a BertForSequenceClassification model from a BertForSequenceClassification model).\n"
     ]
    },
    {
     "name": "stdout",
     "output_type": "stream",
     "text": [
      "[NEW FOLD: 1/5]\n",
      "Computing initial model performance...\n"
     ]
    },
    {
     "name": "stderr",
     "output_type": "stream",
     "text": [
      "100%|██████████| 160/160 [00:23<00:00,  6.85it/s]\n"
     ]
    },
    {
     "name": "stdout",
     "output_type": "stream",
     "text": [
      "Epoch 1 / 500\n"
     ]
    },
    {
     "name": "stderr",
     "output_type": "stream",
     "text": [
      "100%|██████████| 640/640 [04:26<00:00,  2.40it/s]\n",
      "100%|██████████| 160/160 [00:24<00:00,  6.47it/s]\n"
     ]
    },
    {
     "name": "stdout",
     "output_type": "stream",
     "text": [
      "Saving new model...\n",
      "Epoch 2 / 500\n"
     ]
    },
    {
     "name": "stderr",
     "output_type": "stream",
     "text": [
      "100%|██████████| 640/640 [04:24<00:00,  2.42it/s]\n",
      "100%|██████████| 160/160 [00:24<00:00,  6.51it/s]\n"
     ]
    },
    {
     "name": "stdout",
     "output_type": "stream",
     "text": [
      "Saving new model...\n",
      "Epoch 3 / 500\n"
     ]
    },
    {
     "name": "stderr",
     "output_type": "stream",
     "text": [
      "100%|██████████| 640/640 [04:24<00:00,  2.42it/s]\n",
      "100%|██████████| 160/160 [00:24<00:00,  6.46it/s]\n"
     ]
    },
    {
     "name": "stdout",
     "output_type": "stream",
     "text": [
      "Patience left: 4 epochs.\n",
      "Epoch 4 / 500\n"
     ]
    },
    {
     "name": "stderr",
     "output_type": "stream",
     "text": [
      "100%|██████████| 640/640 [04:24<00:00,  2.42it/s]\n",
      "100%|██████████| 160/160 [00:24<00:00,  6.63it/s]\n"
     ]
    },
    {
     "name": "stdout",
     "output_type": "stream",
     "text": [
      "Patience left: 3 epochs.\n",
      "Epoch 5 / 500\n"
     ]
    },
    {
     "name": "stderr",
     "output_type": "stream",
     "text": [
      "100%|██████████| 640/640 [04:24<00:00,  2.42it/s]\n",
      "100%|██████████| 160/160 [00:24<00:00,  6.57it/s]\n"
     ]
    },
    {
     "name": "stdout",
     "output_type": "stream",
     "text": [
      "Patience left: 2 epochs.\n",
      "Epoch 6 / 500\n"
     ]
    },
    {
     "name": "stderr",
     "output_type": "stream",
     "text": [
      "100%|██████████| 640/640 [04:24<00:00,  2.42it/s]\n",
      "100%|██████████| 160/160 [00:24<00:00,  6.49it/s]\n"
     ]
    },
    {
     "name": "stdout",
     "output_type": "stream",
     "text": [
      "Patience left: 1 epochs.\n",
      "Epoch 7 / 500\n"
     ]
    },
    {
     "name": "stderr",
     "output_type": "stream",
     "text": [
      "100%|██████████| 640/640 [04:24<00:00,  2.42it/s]\n",
      "100%|██████████| 160/160 [00:24<00:00,  6.50it/s]\n"
     ]
    },
    {
     "name": "stdout",
     "output_type": "stream",
     "text": [
      "Patience left: 0 epochs.\n",
      "[Early-Stopping]: Leaving training loop...\n"
     ]
    },
    {
     "name": "stderr",
     "output_type": "stream",
     "text": [
      "100%|██████████| 200/200 [00:29<00:00,  6.75it/s]\n"
     ]
    },
    {
     "name": "stdout",
     "output_type": "stream",
     "text": [
      "[NEW FOLD: 2/5]\n",
      "Computing initial model performance...\n"
     ]
    },
    {
     "name": "stderr",
     "output_type": "stream",
     "text": [
      "100%|██████████| 160/160 [00:23<00:00,  6.76it/s]\n"
     ]
    },
    {
     "name": "stdout",
     "output_type": "stream",
     "text": [
      "Epoch 1 / 500\n"
     ]
    },
    {
     "name": "stderr",
     "output_type": "stream",
     "text": [
      "100%|██████████| 640/640 [04:24<00:00,  2.42it/s]\n",
      "100%|██████████| 160/160 [00:24<00:00,  6.51it/s]\n"
     ]
    },
    {
     "name": "stdout",
     "output_type": "stream",
     "text": [
      "Saving new model...\n",
      "Epoch 2 / 500\n"
     ]
    },
    {
     "name": "stderr",
     "output_type": "stream",
     "text": [
      "100%|██████████| 640/640 [04:25<00:00,  2.41it/s]\n",
      "100%|██████████| 160/160 [00:24<00:00,  6.51it/s]\n"
     ]
    },
    {
     "name": "stdout",
     "output_type": "stream",
     "text": [
      "Patience left: 4 epochs.\n",
      "Epoch 3 / 500\n"
     ]
    },
    {
     "name": "stderr",
     "output_type": "stream",
     "text": [
      "100%|██████████| 640/640 [04:24<00:00,  2.42it/s]\n",
      "100%|██████████| 160/160 [00:24<00:00,  6.49it/s]\n"
     ]
    },
    {
     "name": "stdout",
     "output_type": "stream",
     "text": [
      "Saving new model...\n",
      "Epoch 4 / 500\n"
     ]
    },
    {
     "name": "stderr",
     "output_type": "stream",
     "text": [
      "100%|██████████| 640/640 [04:24<00:00,  2.42it/s]\n",
      "100%|██████████| 160/160 [00:24<00:00,  6.49it/s]\n"
     ]
    },
    {
     "name": "stdout",
     "output_type": "stream",
     "text": [
      "Patience left: 4 epochs.\n",
      "Epoch 5 / 500\n"
     ]
    },
    {
     "name": "stderr",
     "output_type": "stream",
     "text": [
      "100%|██████████| 640/640 [04:24<00:00,  2.42it/s]\n",
      "100%|██████████| 160/160 [00:24<00:00,  6.50it/s]\n"
     ]
    },
    {
     "name": "stdout",
     "output_type": "stream",
     "text": [
      "Patience left: 3 epochs.\n",
      "Epoch 6 / 500\n"
     ]
    },
    {
     "name": "stderr",
     "output_type": "stream",
     "text": [
      "100%|██████████| 640/640 [04:25<00:00,  2.41it/s]\n",
      "100%|██████████| 160/160 [00:24<00:00,  6.52it/s]\n"
     ]
    },
    {
     "name": "stdout",
     "output_type": "stream",
     "text": [
      "Patience left: 2 epochs.\n",
      "Epoch 7 / 500\n"
     ]
    },
    {
     "name": "stderr",
     "output_type": "stream",
     "text": [
      "100%|██████████| 640/640 [04:23<00:00,  2.43it/s]\n",
      "100%|██████████| 160/160 [00:24<00:00,  6.54it/s]\n"
     ]
    },
    {
     "name": "stdout",
     "output_type": "stream",
     "text": [
      "Patience left: 1 epochs.\n",
      "Epoch 8 / 500\n"
     ]
    },
    {
     "name": "stderr",
     "output_type": "stream",
     "text": [
      "100%|██████████| 640/640 [04:24<00:00,  2.42it/s]\n",
      "100%|██████████| 160/160 [00:24<00:00,  6.54it/s]\n"
     ]
    },
    {
     "name": "stdout",
     "output_type": "stream",
     "text": [
      "Patience left: 0 epochs.\n",
      "[Early-Stopping]: Leaving training loop...\n"
     ]
    },
    {
     "name": "stderr",
     "output_type": "stream",
     "text": [
      "100%|██████████| 200/200 [00:29<00:00,  6.77it/s]\n"
     ]
    },
    {
     "name": "stdout",
     "output_type": "stream",
     "text": [
      "[NEW FOLD: 3/5]\n",
      "Computing initial model performance...\n"
     ]
    },
    {
     "name": "stderr",
     "output_type": "stream",
     "text": [
      "100%|██████████| 160/160 [00:23<00:00,  6.76it/s]\n"
     ]
    },
    {
     "name": "stdout",
     "output_type": "stream",
     "text": [
      "Epoch 1 / 500\n"
     ]
    },
    {
     "name": "stderr",
     "output_type": "stream",
     "text": [
      "100%|██████████| 640/640 [04:23<00:00,  2.43it/s]\n",
      "100%|██████████| 160/160 [00:24<00:00,  6.52it/s]\n"
     ]
    },
    {
     "name": "stdout",
     "output_type": "stream",
     "text": [
      "Saving new model...\n",
      "Epoch 2 / 500\n"
     ]
    },
    {
     "name": "stderr",
     "output_type": "stream",
     "text": [
      "100%|██████████| 640/640 [04:24<00:00,  2.42it/s]\n",
      "100%|██████████| 160/160 [00:24<00:00,  6.53it/s]\n"
     ]
    },
    {
     "name": "stdout",
     "output_type": "stream",
     "text": [
      "Saving new model...\n",
      "Epoch 3 / 500\n"
     ]
    },
    {
     "name": "stderr",
     "output_type": "stream",
     "text": [
      "100%|██████████| 640/640 [04:24<00:00,  2.42it/s]\n",
      "100%|██████████| 160/160 [00:24<00:00,  6.50it/s]\n"
     ]
    },
    {
     "name": "stdout",
     "output_type": "stream",
     "text": [
      "Patience left: 4 epochs.\n",
      "Epoch 4 / 500\n"
     ]
    },
    {
     "name": "stderr",
     "output_type": "stream",
     "text": [
      "100%|██████████| 640/640 [04:23<00:00,  2.43it/s]\n",
      "100%|██████████| 160/160 [00:24<00:00,  6.56it/s]\n"
     ]
    },
    {
     "name": "stdout",
     "output_type": "stream",
     "text": [
      "Patience left: 3 epochs.\n",
      "Epoch 5 / 500\n"
     ]
    },
    {
     "name": "stderr",
     "output_type": "stream",
     "text": [
      "100%|██████████| 640/640 [04:23<00:00,  2.43it/s]\n",
      "100%|██████████| 160/160 [00:24<00:00,  6.52it/s]\n"
     ]
    },
    {
     "name": "stdout",
     "output_type": "stream",
     "text": [
      "Patience left: 2 epochs.\n",
      "Epoch 6 / 500\n"
     ]
    },
    {
     "name": "stderr",
     "output_type": "stream",
     "text": [
      "100%|██████████| 640/640 [04:23<00:00,  2.43it/s]\n",
      "100%|██████████| 160/160 [00:24<00:00,  6.55it/s]\n"
     ]
    },
    {
     "name": "stdout",
     "output_type": "stream",
     "text": [
      "Patience left: 1 epochs.\n",
      "Epoch 7 / 500\n"
     ]
    },
    {
     "name": "stderr",
     "output_type": "stream",
     "text": [
      "100%|██████████| 640/640 [04:23<00:00,  2.43it/s]\n",
      "100%|██████████| 160/160 [00:24<00:00,  6.54it/s]\n"
     ]
    },
    {
     "name": "stdout",
     "output_type": "stream",
     "text": [
      "Patience left: 0 epochs.\n",
      "[Early-Stopping]: Leaving training loop...\n"
     ]
    },
    {
     "name": "stderr",
     "output_type": "stream",
     "text": [
      "100%|██████████| 200/200 [00:29<00:00,  6.78it/s]\n"
     ]
    },
    {
     "name": "stdout",
     "output_type": "stream",
     "text": [
      "[NEW FOLD: 4/5]\n",
      "Computing initial model performance...\n"
     ]
    },
    {
     "name": "stderr",
     "output_type": "stream",
     "text": [
      "100%|██████████| 160/160 [00:23<00:00,  6.74it/s]\n"
     ]
    },
    {
     "name": "stdout",
     "output_type": "stream",
     "text": [
      "Epoch 1 / 500\n"
     ]
    },
    {
     "name": "stderr",
     "output_type": "stream",
     "text": [
      "100%|██████████| 640/640 [04:24<00:00,  2.42it/s]\n",
      "100%|██████████| 160/160 [00:24<00:00,  6.54it/s]\n"
     ]
    },
    {
     "name": "stdout",
     "output_type": "stream",
     "text": [
      "Saving new model...\n",
      "Epoch 2 / 500\n"
     ]
    },
    {
     "name": "stderr",
     "output_type": "stream",
     "text": [
      "100%|██████████| 640/640 [04:23<00:00,  2.43it/s]\n",
      "100%|██████████| 160/160 [00:24<00:00,  6.53it/s]\n"
     ]
    },
    {
     "name": "stdout",
     "output_type": "stream",
     "text": [
      "Saving new model...\n",
      "Epoch 3 / 500\n"
     ]
    },
    {
     "name": "stderr",
     "output_type": "stream",
     "text": [
      "100%|██████████| 640/640 [04:23<00:00,  2.43it/s]\n",
      "100%|██████████| 160/160 [00:24<00:00,  6.49it/s]\n"
     ]
    },
    {
     "name": "stdout",
     "output_type": "stream",
     "text": [
      "Patience left: 4 epochs.\n",
      "Epoch 4 / 500\n"
     ]
    },
    {
     "name": "stderr",
     "output_type": "stream",
     "text": [
      "100%|██████████| 640/640 [04:23<00:00,  2.43it/s]\n",
      "100%|██████████| 160/160 [00:24<00:00,  6.52it/s]\n"
     ]
    },
    {
     "name": "stdout",
     "output_type": "stream",
     "text": [
      "Patience left: 3 epochs.\n",
      "Epoch 5 / 500\n"
     ]
    },
    {
     "name": "stderr",
     "output_type": "stream",
     "text": [
      "100%|██████████| 640/640 [04:23<00:00,  2.43it/s]\n",
      "100%|██████████| 160/160 [00:24<00:00,  6.55it/s]\n"
     ]
    },
    {
     "name": "stdout",
     "output_type": "stream",
     "text": [
      "Patience left: 2 epochs.\n",
      "Epoch 6 / 500\n"
     ]
    },
    {
     "name": "stderr",
     "output_type": "stream",
     "text": [
      "100%|██████████| 640/640 [04:24<00:00,  2.42it/s]\n",
      "100%|██████████| 160/160 [00:24<00:00,  6.50it/s]\n"
     ]
    },
    {
     "name": "stdout",
     "output_type": "stream",
     "text": [
      "Patience left: 1 epochs.\n",
      "Epoch 7 / 500\n"
     ]
    },
    {
     "name": "stderr",
     "output_type": "stream",
     "text": [
      "100%|██████████| 640/640 [04:24<00:00,  2.42it/s]\n",
      "100%|██████████| 160/160 [00:24<00:00,  6.50it/s]\n"
     ]
    },
    {
     "name": "stdout",
     "output_type": "stream",
     "text": [
      "Patience left: 0 epochs.\n",
      "[Early-Stopping]: Leaving training loop...\n"
     ]
    },
    {
     "name": "stderr",
     "output_type": "stream",
     "text": [
      "100%|██████████| 200/200 [00:29<00:00,  6.77it/s]\n"
     ]
    },
    {
     "name": "stdout",
     "output_type": "stream",
     "text": [
      "[NEW FOLD: 5/5]\n",
      "Computing initial model performance...\n"
     ]
    },
    {
     "name": "stderr",
     "output_type": "stream",
     "text": [
      "100%|██████████| 160/160 [00:23<00:00,  6.76it/s]\n"
     ]
    },
    {
     "name": "stdout",
     "output_type": "stream",
     "text": [
      "Epoch 1 / 500\n"
     ]
    },
    {
     "name": "stderr",
     "output_type": "stream",
     "text": [
      "100%|██████████| 640/640 [04:24<00:00,  2.42it/s]\n",
      "100%|██████████| 160/160 [00:24<00:00,  6.52it/s]\n"
     ]
    },
    {
     "name": "stdout",
     "output_type": "stream",
     "text": [
      "Saving new model...\n",
      "Epoch 2 / 500\n"
     ]
    },
    {
     "name": "stderr",
     "output_type": "stream",
     "text": [
      "100%|██████████| 640/640 [04:24<00:00,  2.42it/s]\n",
      "100%|██████████| 160/160 [00:24<00:00,  6.49it/s]\n"
     ]
    },
    {
     "name": "stdout",
     "output_type": "stream",
     "text": [
      "Saving new model...\n",
      "Epoch 3 / 500\n"
     ]
    },
    {
     "name": "stderr",
     "output_type": "stream",
     "text": [
      "100%|██████████| 640/640 [04:24<00:00,  2.42it/s]\n",
      "100%|██████████| 160/160 [00:24<00:00,  6.51it/s]\n"
     ]
    },
    {
     "name": "stdout",
     "output_type": "stream",
     "text": [
      "Patience left: 4 epochs.\n",
      "Epoch 4 / 500\n"
     ]
    },
    {
     "name": "stderr",
     "output_type": "stream",
     "text": [
      "100%|██████████| 640/640 [04:23<00:00,  2.43it/s]\n",
      "100%|██████████| 160/160 [00:24<00:00,  6.53it/s]\n"
     ]
    },
    {
     "name": "stdout",
     "output_type": "stream",
     "text": [
      "Patience left: 3 epochs.\n",
      "Epoch 5 / 500\n"
     ]
    },
    {
     "name": "stderr",
     "output_type": "stream",
     "text": [
      "100%|██████████| 640/640 [04:24<00:00,  2.42it/s]\n",
      "100%|██████████| 160/160 [00:24<00:00,  6.58it/s]\n"
     ]
    },
    {
     "name": "stdout",
     "output_type": "stream",
     "text": [
      "Patience left: 2 epochs.\n",
      "Epoch 6 / 500\n"
     ]
    },
    {
     "name": "stderr",
     "output_type": "stream",
     "text": [
      "100%|██████████| 640/640 [04:25<00:00,  2.41it/s]\n",
      "100%|██████████| 160/160 [00:24<00:00,  6.46it/s]\n"
     ]
    },
    {
     "name": "stdout",
     "output_type": "stream",
     "text": [
      "Patience left: 1 epochs.\n",
      "Epoch 7 / 500\n"
     ]
    },
    {
     "name": "stderr",
     "output_type": "stream",
     "text": [
      "100%|██████████| 640/640 [04:24<00:00,  2.42it/s]\n",
      "100%|██████████| 160/160 [00:24<00:00,  6.51it/s]\n"
     ]
    },
    {
     "name": "stdout",
     "output_type": "stream",
     "text": [
      "Patience left: 0 epochs.\n",
      "[Early-Stopping]: Leaving training loop...\n"
     ]
    },
    {
     "name": "stderr",
     "output_type": "stream",
     "text": [
      "100%|██████████| 200/200 [00:29<00:00,  6.81it/s]\n",
      "Some weights of the model checkpoint at bert-base-uncased were not used when initializing BertModel: ['cls.predictions.transform.LayerNorm.weight', 'cls.predictions.transform.LayerNorm.bias', 'cls.predictions.transform.dense.bias', 'cls.predictions.transform.dense.weight', 'cls.seq_relationship.weight', 'cls.predictions.bias', 'cls.seq_relationship.bias', 'cls.predictions.decoder.weight']\n",
      "- This IS expected if you are initializing BertModel from the checkpoint of a model trained on another task or with another architecture (e.g. initializing a BertForSequenceClassification model from a BertForPreTraining model).\n",
      "- This IS NOT expected if you are initializing BertModel from the checkpoint of a model that you expect to be exactly identical (initializing a BertForSequenceClassification model from a BertForSequenceClassification model).\n"
     ]
    },
    {
     "name": "stdout",
     "output_type": "stream",
     "text": [
      "[NEW FOLD: 1/5]\n",
      "Computing initial model performance...\n"
     ]
    },
    {
     "name": "stderr",
     "output_type": "stream",
     "text": [
      "100%|██████████| 160/160 [00:23<00:00,  6.92it/s]\n"
     ]
    },
    {
     "name": "stdout",
     "output_type": "stream",
     "text": [
      "Epoch 1 / 500\n"
     ]
    },
    {
     "name": "stderr",
     "output_type": "stream",
     "text": [
      "100%|██████████| 640/640 [04:26<00:00,  2.40it/s]\n",
      "100%|██████████| 160/160 [00:24<00:00,  6.47it/s]\n"
     ]
    },
    {
     "name": "stdout",
     "output_type": "stream",
     "text": [
      "Saving new model...\n",
      "Epoch 2 / 500\n"
     ]
    },
    {
     "name": "stderr",
     "output_type": "stream",
     "text": [
      "100%|██████████| 640/640 [04:24<00:00,  2.42it/s]\n",
      "100%|██████████| 160/160 [00:24<00:00,  6.62it/s]\n"
     ]
    },
    {
     "name": "stdout",
     "output_type": "stream",
     "text": [
      "Saving new model...\n",
      "Epoch 3 / 500\n"
     ]
    },
    {
     "name": "stderr",
     "output_type": "stream",
     "text": [
      "100%|██████████| 640/640 [04:23<00:00,  2.43it/s]\n",
      "100%|██████████| 160/160 [00:24<00:00,  6.54it/s]\n"
     ]
    },
    {
     "name": "stdout",
     "output_type": "stream",
     "text": [
      "Patience left: 4 epochs.\n",
      "Epoch 4 / 500\n"
     ]
    },
    {
     "name": "stderr",
     "output_type": "stream",
     "text": [
      "100%|██████████| 640/640 [04:24<00:00,  2.42it/s]\n",
      "100%|██████████| 160/160 [00:24<00:00,  6.53it/s]\n"
     ]
    },
    {
     "name": "stdout",
     "output_type": "stream",
     "text": [
      "Patience left: 3 epochs.\n",
      "Epoch 5 / 500\n"
     ]
    },
    {
     "name": "stderr",
     "output_type": "stream",
     "text": [
      "100%|██████████| 640/640 [04:23<00:00,  2.43it/s]\n",
      "100%|██████████| 160/160 [00:24<00:00,  6.50it/s]\n"
     ]
    },
    {
     "name": "stdout",
     "output_type": "stream",
     "text": [
      "Patience left: 2 epochs.\n",
      "Epoch 6 / 500\n"
     ]
    },
    {
     "name": "stderr",
     "output_type": "stream",
     "text": [
      "100%|██████████| 640/640 [04:23<00:00,  2.42it/s]\n",
      "100%|██████████| 160/160 [00:24<00:00,  6.53it/s]\n"
     ]
    },
    {
     "name": "stdout",
     "output_type": "stream",
     "text": [
      "Patience left: 1 epochs.\n",
      "Epoch 7 / 500\n"
     ]
    },
    {
     "name": "stderr",
     "output_type": "stream",
     "text": [
      "100%|██████████| 640/640 [04:23<00:00,  2.43it/s]\n",
      "100%|██████████| 160/160 [00:24<00:00,  6.59it/s]\n"
     ]
    },
    {
     "name": "stdout",
     "output_type": "stream",
     "text": [
      "Patience left: 0 epochs.\n",
      "[Early-Stopping]: Leaving training loop...\n"
     ]
    },
    {
     "name": "stderr",
     "output_type": "stream",
     "text": [
      "100%|██████████| 200/200 [00:29<00:00,  6.78it/s]\n"
     ]
    },
    {
     "name": "stdout",
     "output_type": "stream",
     "text": [
      "[NEW FOLD: 2/5]\n",
      "Computing initial model performance...\n"
     ]
    },
    {
     "name": "stderr",
     "output_type": "stream",
     "text": [
      "100%|██████████| 160/160 [00:23<00:00,  6.79it/s]\n"
     ]
    },
    {
     "name": "stdout",
     "output_type": "stream",
     "text": [
      "Epoch 1 / 500\n"
     ]
    },
    {
     "name": "stderr",
     "output_type": "stream",
     "text": [
      "100%|██████████| 640/640 [04:23<00:00,  2.43it/s]\n",
      "100%|██████████| 160/160 [00:24<00:00,  6.52it/s]\n"
     ]
    },
    {
     "name": "stdout",
     "output_type": "stream",
     "text": [
      "Saving new model...\n",
      "Epoch 2 / 500\n"
     ]
    },
    {
     "name": "stderr",
     "output_type": "stream",
     "text": [
      "100%|██████████| 640/640 [04:22<00:00,  2.43it/s]\n",
      "100%|██████████| 160/160 [00:24<00:00,  6.54it/s]\n"
     ]
    },
    {
     "name": "stdout",
     "output_type": "stream",
     "text": [
      "Patience left: 4 epochs.\n",
      "Epoch 3 / 500\n"
     ]
    },
    {
     "name": "stderr",
     "output_type": "stream",
     "text": [
      "100%|██████████| 640/640 [04:24<00:00,  2.42it/s]\n",
      "100%|██████████| 160/160 [00:24<00:00,  6.52it/s]\n"
     ]
    },
    {
     "name": "stdout",
     "output_type": "stream",
     "text": [
      "Saving new model...\n",
      "Epoch 4 / 500\n"
     ]
    },
    {
     "name": "stderr",
     "output_type": "stream",
     "text": [
      "100%|██████████| 640/640 [04:24<00:00,  2.42it/s]\n",
      "100%|██████████| 160/160 [00:24<00:00,  6.56it/s]\n"
     ]
    },
    {
     "name": "stdout",
     "output_type": "stream",
     "text": [
      "Patience left: 4 epochs.\n",
      "Epoch 5 / 500\n"
     ]
    },
    {
     "name": "stderr",
     "output_type": "stream",
     "text": [
      "100%|██████████| 640/640 [04:23<00:00,  2.43it/s]\n",
      "100%|██████████| 160/160 [00:24<00:00,  6.61it/s]\n"
     ]
    },
    {
     "name": "stdout",
     "output_type": "stream",
     "text": [
      "Patience left: 3 epochs.\n",
      "Epoch 6 / 500\n"
     ]
    },
    {
     "name": "stderr",
     "output_type": "stream",
     "text": [
      "100%|██████████| 640/640 [04:23<00:00,  2.43it/s]\n",
      "100%|██████████| 160/160 [00:24<00:00,  6.55it/s]\n"
     ]
    },
    {
     "name": "stdout",
     "output_type": "stream",
     "text": [
      "Patience left: 2 epochs.\n",
      "Epoch 7 / 500\n"
     ]
    },
    {
     "name": "stderr",
     "output_type": "stream",
     "text": [
      "100%|██████████| 640/640 [04:23<00:00,  2.43it/s]\n",
      "100%|██████████| 160/160 [00:24<00:00,  6.54it/s]\n"
     ]
    },
    {
     "name": "stdout",
     "output_type": "stream",
     "text": [
      "Patience left: 1 epochs.\n",
      "Epoch 8 / 500\n"
     ]
    },
    {
     "name": "stderr",
     "output_type": "stream",
     "text": [
      "100%|██████████| 640/640 [04:24<00:00,  2.42it/s]\n",
      "100%|██████████| 160/160 [00:24<00:00,  6.56it/s]\n"
     ]
    },
    {
     "name": "stdout",
     "output_type": "stream",
     "text": [
      "Patience left: 0 epochs.\n",
      "[Early-Stopping]: Leaving training loop...\n"
     ]
    },
    {
     "name": "stderr",
     "output_type": "stream",
     "text": [
      "100%|██████████| 200/200 [00:29<00:00,  6.84it/s]\n"
     ]
    },
    {
     "name": "stdout",
     "output_type": "stream",
     "text": [
      "[NEW FOLD: 3/5]\n",
      "Computing initial model performance...\n"
     ]
    },
    {
     "name": "stderr",
     "output_type": "stream",
     "text": [
      "100%|██████████| 160/160 [00:23<00:00,  6.76it/s]\n"
     ]
    },
    {
     "name": "stdout",
     "output_type": "stream",
     "text": [
      "Epoch 1 / 500\n"
     ]
    },
    {
     "name": "stderr",
     "output_type": "stream",
     "text": [
      "100%|██████████| 640/640 [04:23<00:00,  2.43it/s]\n",
      "100%|██████████| 160/160 [00:24<00:00,  6.53it/s]\n"
     ]
    },
    {
     "name": "stdout",
     "output_type": "stream",
     "text": [
      "Saving new model...\n",
      "Epoch 2 / 500\n"
     ]
    },
    {
     "name": "stderr",
     "output_type": "stream",
     "text": [
      "100%|██████████| 640/640 [04:23<00:00,  2.43it/s]\n",
      "100%|██████████| 160/160 [00:24<00:00,  6.60it/s]\n"
     ]
    },
    {
     "name": "stdout",
     "output_type": "stream",
     "text": [
      "Saving new model...\n",
      "Epoch 3 / 500\n"
     ]
    },
    {
     "name": "stderr",
     "output_type": "stream",
     "text": [
      "100%|██████████| 640/640 [04:23<00:00,  2.43it/s]\n",
      "100%|██████████| 160/160 [00:24<00:00,  6.61it/s]\n"
     ]
    },
    {
     "name": "stdout",
     "output_type": "stream",
     "text": [
      "Patience left: 4 epochs.\n",
      "Epoch 4 / 500\n"
     ]
    },
    {
     "name": "stderr",
     "output_type": "stream",
     "text": [
      "100%|██████████| 640/640 [04:23<00:00,  2.43it/s]\n",
      "100%|██████████| 160/160 [00:24<00:00,  6.54it/s]\n"
     ]
    },
    {
     "name": "stdout",
     "output_type": "stream",
     "text": [
      "Patience left: 3 epochs.\n",
      "Epoch 5 / 500\n"
     ]
    },
    {
     "name": "stderr",
     "output_type": "stream",
     "text": [
      "100%|██████████| 640/640 [04:23<00:00,  2.43it/s]\n",
      "100%|██████████| 160/160 [00:24<00:00,  6.59it/s]\n"
     ]
    },
    {
     "name": "stdout",
     "output_type": "stream",
     "text": [
      "Patience left: 2 epochs.\n",
      "Epoch 6 / 500\n"
     ]
    },
    {
     "name": "stderr",
     "output_type": "stream",
     "text": [
      "100%|██████████| 640/640 [04:24<00:00,  2.42it/s]\n",
      "100%|██████████| 160/160 [00:24<00:00,  6.53it/s]\n"
     ]
    },
    {
     "name": "stdout",
     "output_type": "stream",
     "text": [
      "Patience left: 1 epochs.\n",
      "Epoch 7 / 500\n"
     ]
    },
    {
     "name": "stderr",
     "output_type": "stream",
     "text": [
      "100%|██████████| 640/640 [04:24<00:00,  2.42it/s]\n",
      "100%|██████████| 160/160 [00:24<00:00,  6.60it/s]\n"
     ]
    },
    {
     "name": "stdout",
     "output_type": "stream",
     "text": [
      "Patience left: 0 epochs.\n",
      "[Early-Stopping]: Leaving training loop...\n"
     ]
    },
    {
     "name": "stderr",
     "output_type": "stream",
     "text": [
      "100%|██████████| 200/200 [00:29<00:00,  6.80it/s]\n"
     ]
    },
    {
     "name": "stdout",
     "output_type": "stream",
     "text": [
      "[NEW FOLD: 4/5]\n",
      "Computing initial model performance...\n"
     ]
    },
    {
     "name": "stderr",
     "output_type": "stream",
     "text": [
      "100%|██████████| 160/160 [00:23<00:00,  6.74it/s]\n"
     ]
    },
    {
     "name": "stdout",
     "output_type": "stream",
     "text": [
      "Epoch 1 / 500\n"
     ]
    },
    {
     "name": "stderr",
     "output_type": "stream",
     "text": [
      "100%|██████████| 640/640 [04:24<00:00,  2.42it/s]\n",
      "100%|██████████| 160/160 [00:24<00:00,  6.54it/s]\n"
     ]
    },
    {
     "name": "stdout",
     "output_type": "stream",
     "text": [
      "Saving new model...\n",
      "Epoch 2 / 500\n"
     ]
    },
    {
     "name": "stderr",
     "output_type": "stream",
     "text": [
      "100%|██████████| 640/640 [04:24<00:00,  2.42it/s]\n",
      "100%|██████████| 160/160 [00:24<00:00,  6.56it/s]\n"
     ]
    },
    {
     "name": "stdout",
     "output_type": "stream",
     "text": [
      "Saving new model...\n",
      "Epoch 3 / 500\n"
     ]
    },
    {
     "name": "stderr",
     "output_type": "stream",
     "text": [
      "100%|██████████| 640/640 [04:24<00:00,  2.42it/s]\n",
      "100%|██████████| 160/160 [00:24<00:00,  6.53it/s]\n"
     ]
    },
    {
     "name": "stdout",
     "output_type": "stream",
     "text": [
      "Patience left: 4 epochs.\n",
      "Epoch 4 / 500\n"
     ]
    },
    {
     "name": "stderr",
     "output_type": "stream",
     "text": [
      "100%|██████████| 640/640 [04:24<00:00,  2.42it/s]\n",
      "100%|██████████| 160/160 [00:24<00:00,  6.62it/s]\n"
     ]
    },
    {
     "name": "stdout",
     "output_type": "stream",
     "text": [
      "Patience left: 3 epochs.\n",
      "Epoch 5 / 500\n"
     ]
    },
    {
     "name": "stderr",
     "output_type": "stream",
     "text": [
      "100%|██████████| 640/640 [04:23<00:00,  2.43it/s]\n",
      "100%|██████████| 160/160 [00:24<00:00,  6.55it/s]\n"
     ]
    },
    {
     "name": "stdout",
     "output_type": "stream",
     "text": [
      "Patience left: 2 epochs.\n",
      "Epoch 6 / 500\n"
     ]
    },
    {
     "name": "stderr",
     "output_type": "stream",
     "text": [
      "100%|██████████| 640/640 [04:24<00:00,  2.42it/s]\n",
      "100%|██████████| 160/160 [00:24<00:00,  6.65it/s]\n"
     ]
    },
    {
     "name": "stdout",
     "output_type": "stream",
     "text": [
      "Patience left: 1 epochs.\n",
      "Epoch 7 / 500\n"
     ]
    },
    {
     "name": "stderr",
     "output_type": "stream",
     "text": [
      "100%|██████████| 640/640 [04:23<00:00,  2.42it/s]\n",
      "100%|██████████| 160/160 [00:24<00:00,  6.57it/s]\n"
     ]
    },
    {
     "name": "stdout",
     "output_type": "stream",
     "text": [
      "Patience left: 0 epochs.\n",
      "[Early-Stopping]: Leaving training loop...\n"
     ]
    },
    {
     "name": "stderr",
     "output_type": "stream",
     "text": [
      "100%|██████████| 200/200 [00:29<00:00,  6.83it/s]\n"
     ]
    },
    {
     "name": "stdout",
     "output_type": "stream",
     "text": [
      "[NEW FOLD: 5/5]\n",
      "Computing initial model performance...\n"
     ]
    },
    {
     "name": "stderr",
     "output_type": "stream",
     "text": [
      "100%|██████████| 160/160 [00:23<00:00,  6.75it/s]\n"
     ]
    },
    {
     "name": "stdout",
     "output_type": "stream",
     "text": [
      "Epoch 1 / 500\n"
     ]
    },
    {
     "name": "stderr",
     "output_type": "stream",
     "text": [
      "100%|██████████| 640/640 [04:24<00:00,  2.42it/s]\n",
      "100%|██████████| 160/160 [00:24<00:00,  6.53it/s]\n"
     ]
    },
    {
     "name": "stdout",
     "output_type": "stream",
     "text": [
      "Saving new model...\n",
      "Epoch 2 / 500\n"
     ]
    },
    {
     "name": "stderr",
     "output_type": "stream",
     "text": [
      "100%|██████████| 640/640 [04:24<00:00,  2.42it/s]\n",
      "100%|██████████| 160/160 [00:24<00:00,  6.52it/s]\n"
     ]
    },
    {
     "name": "stdout",
     "output_type": "stream",
     "text": [
      "Saving new model...\n",
      "Epoch 3 / 500\n"
     ]
    },
    {
     "name": "stderr",
     "output_type": "stream",
     "text": [
      "100%|██████████| 640/640 [04:23<00:00,  2.43it/s]\n",
      "100%|██████████| 160/160 [00:24<00:00,  6.59it/s]\n"
     ]
    },
    {
     "name": "stdout",
     "output_type": "stream",
     "text": [
      "Patience left: 4 epochs.\n",
      "Epoch 4 / 500\n"
     ]
    },
    {
     "name": "stderr",
     "output_type": "stream",
     "text": [
      "100%|██████████| 640/640 [04:23<00:00,  2.43it/s]\n",
      "100%|██████████| 160/160 [00:24<00:00,  6.61it/s]\n"
     ]
    },
    {
     "name": "stdout",
     "output_type": "stream",
     "text": [
      "Patience left: 3 epochs.\n",
      "Epoch 5 / 500\n"
     ]
    },
    {
     "name": "stderr",
     "output_type": "stream",
     "text": [
      "100%|██████████| 640/640 [04:23<00:00,  2.43it/s]\n",
      "100%|██████████| 160/160 [00:24<00:00,  6.62it/s]\n"
     ]
    },
    {
     "name": "stdout",
     "output_type": "stream",
     "text": [
      "Patience left: 2 epochs.\n",
      "Epoch 6 / 500\n"
     ]
    },
    {
     "name": "stderr",
     "output_type": "stream",
     "text": [
      "100%|██████████| 640/640 [04:24<00:00,  2.42it/s]\n",
      "100%|██████████| 160/160 [00:24<00:00,  6.57it/s]\n"
     ]
    },
    {
     "name": "stdout",
     "output_type": "stream",
     "text": [
      "Patience left: 1 epochs.\n",
      "Epoch 7 / 500\n"
     ]
    },
    {
     "name": "stderr",
     "output_type": "stream",
     "text": [
      "100%|██████████| 640/640 [04:24<00:00,  2.42it/s]\n",
      "100%|██████████| 160/160 [00:24<00:00,  6.54it/s]\n"
     ]
    },
    {
     "name": "stdout",
     "output_type": "stream",
     "text": [
      "Patience left: 0 epochs.\n",
      "[Early-Stopping]: Leaving training loop...\n"
     ]
    },
    {
     "name": "stderr",
     "output_type": "stream",
     "text": [
      "100%|██████████| 200/200 [00:29<00:00,  6.81it/s]\n"
     ]
    }
   ],
   "source": [
    "# Clustering\n",
    "from tools.dim_reduction import Umap\n",
    "from tools.clustering import Hdbscan\n",
    "from tools.linguistics import tf_idf\n",
    "import pickle\n",
    "\n",
    "nb_words = [1, 3, 5]\n",
    "results = {k: None for k in nb_words}\n",
    "X_u = Umap(5, nneighs=25)(X)\n",
    "clusterer = Hdbscan(8)\n",
    "clusterer.fit(X_u)\n",
    "docs = clusterer.build_as_documents(sentences)\n",
    "\n",
    "for nb in nb_words:\n",
    "    top_words = tf_idf(docs, top_k=nb)\n",
    "    with open(f'tf_idf-{nb}-terms.pkl', 'wb') as f:\n",
    "        pickle.dump(top_words, f)\n",
    "\n",
    "    unique_terms = list(set([w for top in top_words.values() for w in top]))\n",
    "\n",
    "    tokenizer_wrap = CustomBertTokenizer('bert-base-uncased')\n",
    "    tokenizer_wrap.tokenizer.add_tokens(unique_terms)\n",
    "\n",
    "    model = CustomBert(num_classes=1, finetune=False, multisentence=False)\n",
    "    model.resize_embeddings_layer(len(tokenizer_wrap))\n",
    "    #\n",
    "    regression_metrics = RegressionMetrics()\n",
    "    experiment = KFoldExperiment(data_reader=SentencesDataset,\n",
    "                             metrics=regression_metrics,\n",
    "                             monitor_metric=CONTROL_METRIC,\n",
    "                             patience=PATIENCE,\n",
    "                             tokenizer=tokenizer_wrap.tokenizer)\n",
    "\n",
    "    results_logging = experiment.run(X=videomem.df['description'],\n",
    "                                 target=videomem.df[LABELS_FIELD],\n",
    "                                 model=model,\n",
    "                                 loss_fn=MSELoss(),\n",
    "                                 batch_size=BATCH_SIZE)\n",
    "\n",
    "    results[nb] = results_logging"
   ],
   "metadata": {
    "collapsed": false,
    "pycharm": {
     "name": "#%%\n"
    }
   }
  },
  {
   "cell_type": "code",
   "execution_count": 5,
   "outputs": [],
   "source": [
    "with open('tf-idf.pkl', 'wb') as f:\n",
    "    pickle.dump(results, f)"
   ],
   "metadata": {
    "collapsed": false,
    "pycharm": {
     "name": "#%%\n"
    }
   }
  },
  {
   "cell_type": "code",
   "execution_count": null,
   "outputs": [],
   "source": [],
   "metadata": {
    "collapsed": false,
    "pycharm": {
     "name": "#%%\n"
    }
   }
  },
  {
   "cell_type": "code",
   "execution_count": null,
   "outputs": [],
   "source": [],
   "metadata": {
    "collapsed": false,
    "pycharm": {
     "name": "#%%\n"
    }
   }
  },
  {
   "cell_type": "code",
   "execution_count": null,
   "outputs": [],
   "source": [
    "tfidf = pickle.load(open('tf-idf.pkl', 'rb'))\n",
    "tfidf"
   ],
   "metadata": {
    "collapsed": false,
    "pycharm": {
     "name": "#%%\n"
    }
   }
  },
  {
   "cell_type": "markdown",
   "source": [
    "## Hypernyms\n"
   ],
   "metadata": {
    "collapsed": false,
    "pycharm": {
     "name": "#%% md\n"
    }
   }
  },
  {
   "cell_type": "code",
   "execution_count": 38,
   "outputs": [
    {
     "name": "stdout",
     "output_type": "stream",
     "text": [
      "[Synset('jumping.n.01'), Synset('jump.n.06'), Synset('jump.v.01'), Synset('startle.v.02'), Synset('jump.v.03'), Synset('jump.v.04'), Synset('leap_out.v.01'), Synset('jump.v.06'), Synset('rise.v.11'), Synset('jump.v.08'), Synset('derail.v.02'), Synset('chute.v.01'), Synset('jump.v.11'), Synset('jumpstart.v.01'), Synset('jump.v.13'), Synset('leap.v.02'), Synset('alternate.v.01')]\n",
      "[Synset('track_and_field.n.01')]\n"
     ]
    }
   ],
   "source": [
    "sysn = wordnet.synsets(\"jumping\")\n",
    "print(sysn)\n",
    "print(sysn[0].hypernyms())\n"
   ],
   "metadata": {
    "collapsed": false,
    "pycharm": {
     "name": "#%%\n"
    }
   }
  },
  {
   "cell_type": "code",
   "execution_count": null,
   "outputs": [],
   "source": [],
   "metadata": {
    "collapsed": false,
    "pycharm": {
     "name": "#%%\n"
    }
   }
  }
 ],
 "metadata": {
  "kernelspec": {
   "display_name": "Python 3",
   "language": "python",
   "name": "python3"
  },
  "language_info": {
   "codemirror_mode": {
    "name": "ipython",
    "version": 2
   },
   "file_extension": ".py",
   "mimetype": "text/x-python",
   "name": "python",
   "nbconvert_exporter": "python",
   "pygments_lexer": "ipython2",
   "version": "2.7.6"
  }
 },
 "nbformat": 4,
 "nbformat_minor": 0
}