{
 "cells": [
  {
   "cell_type": "markdown",
   "metadata": {
    "collapsed": true,
    "pycharm": {
     "name": "#%% md\n"
    }
   },
   "source": [
    "# Information Loss Text\n",
    "\n",
    "When we employ a pretrained CLIP model, we are constraint to use a\n",
    "max_length of tokens of 77 (not necessarily representing 77 words). However,\n",
    " how many sentences in Artemis and SemArt are longer than that? And on those\n",
    " that are longer and hence and not encoded 100%, how much information are we\n",
    "  missing?"
   ]
  },
  {
   "cell_type": "code",
   "execution_count": 5,
   "outputs": [],
   "source": [
    "import pandas\n",
    "\n",
    "from pathlib import Path\n",
    "from nltk.tokenize import word_tokenize\n",
    "from data_preprocess.tokenizers import BPETokenizer"
   ],
   "metadata": {
    "collapsed": false,
    "pycharm": {
     "name": "#%%\n"
    }
   }
  },
  {
   "cell_type": "code",
   "execution_count": 6,
   "outputs": [
    {
     "data": {
      "text/plain": "                 art_style                                           painting  \\\n0       Post_Impressionism  vincent-van-gogh_portrait-of-madame-ginoux-l-a...   \n1       Post_Impressionism  vincent-van-gogh_portrait-of-madame-ginoux-l-a...   \n2       Post_Impressionism  vincent-van-gogh_portrait-of-madame-ginoux-l-a...   \n3       Post_Impressionism  vincent-van-gogh_portrait-of-madame-ginoux-l-a...   \n4       Post_Impressionism  vincent-van-gogh_portrait-of-madame-ginoux-l-a...   \n...                    ...                                                ...   \n454679              Cubism                           gino-severini_a-dancer-1   \n454680         Romanticism                  ivan-aivazovsky_sea-at-night-1861   \n454681         Romanticism                  ivan-aivazovsky_sea-at-night-1861   \n454682         Romanticism                  ivan-aivazovsky_sea-at-night-1861   \n454683              Cubism                      joan-miro_not_detected_227963   \n\n               emotion                                          utterance  \\\n0       something else  She seems very happy in the picture, and you w...   \n1              sadness  This woman has really knotty hands which makes...   \n2       something else  When looking at this woman, I am filled with c...   \n3          contentment  A woman looking at ease, peaceful, and satisfi...   \n4                  awe  She looks like a lady from that past that migh...   \n...                ...                                                ...   \n454679             awe  the collection and collage of different colors...   \n454680             awe  The peaceful reflections of the moonlight on t...   \n454681      excitement  I can imagine the sailors resting this peacefu...   \n454682     contentment  The steep mountains and the moonlight provide ...   \n454683            fear  If you look at the colors individually they ar...   \n\n        repetition  \n0               10  \n1               10  \n2               10  \n3               10  \n4               10  \n...            ...  \n454679          48  \n454680           8  \n454681           8  \n454682           8  \n454683          10  \n\n[454684 rows x 5 columns]",
      "text/html": "<div>\n<style scoped>\n    .dataframe tbody tr th:only-of-type {\n        vertical-align: middle;\n    }\n\n    .dataframe tbody tr th {\n        vertical-align: top;\n    }\n\n    .dataframe thead th {\n        text-align: right;\n    }\n</style>\n<table border=\"1\" class=\"dataframe\">\n  <thead>\n    <tr style=\"text-align: right;\">\n      <th></th>\n      <th>art_style</th>\n      <th>painting</th>\n      <th>emotion</th>\n      <th>utterance</th>\n      <th>repetition</th>\n    </tr>\n  </thead>\n  <tbody>\n    <tr>\n      <th>0</th>\n      <td>Post_Impressionism</td>\n      <td>vincent-van-gogh_portrait-of-madame-ginoux-l-a...</td>\n      <td>something else</td>\n      <td>She seems very happy in the picture, and you w...</td>\n      <td>10</td>\n    </tr>\n    <tr>\n      <th>1</th>\n      <td>Post_Impressionism</td>\n      <td>vincent-van-gogh_portrait-of-madame-ginoux-l-a...</td>\n      <td>sadness</td>\n      <td>This woman has really knotty hands which makes...</td>\n      <td>10</td>\n    </tr>\n    <tr>\n      <th>2</th>\n      <td>Post_Impressionism</td>\n      <td>vincent-van-gogh_portrait-of-madame-ginoux-l-a...</td>\n      <td>something else</td>\n      <td>When looking at this woman, I am filled with c...</td>\n      <td>10</td>\n    </tr>\n    <tr>\n      <th>3</th>\n      <td>Post_Impressionism</td>\n      <td>vincent-van-gogh_portrait-of-madame-ginoux-l-a...</td>\n      <td>contentment</td>\n      <td>A woman looking at ease, peaceful, and satisfi...</td>\n      <td>10</td>\n    </tr>\n    <tr>\n      <th>4</th>\n      <td>Post_Impressionism</td>\n      <td>vincent-van-gogh_portrait-of-madame-ginoux-l-a...</td>\n      <td>awe</td>\n      <td>She looks like a lady from that past that migh...</td>\n      <td>10</td>\n    </tr>\n    <tr>\n      <th>...</th>\n      <td>...</td>\n      <td>...</td>\n      <td>...</td>\n      <td>...</td>\n      <td>...</td>\n    </tr>\n    <tr>\n      <th>454679</th>\n      <td>Cubism</td>\n      <td>gino-severini_a-dancer-1</td>\n      <td>awe</td>\n      <td>the collection and collage of different colors...</td>\n      <td>48</td>\n    </tr>\n    <tr>\n      <th>454680</th>\n      <td>Romanticism</td>\n      <td>ivan-aivazovsky_sea-at-night-1861</td>\n      <td>awe</td>\n      <td>The peaceful reflections of the moonlight on t...</td>\n      <td>8</td>\n    </tr>\n    <tr>\n      <th>454681</th>\n      <td>Romanticism</td>\n      <td>ivan-aivazovsky_sea-at-night-1861</td>\n      <td>excitement</td>\n      <td>I can imagine the sailors resting this peacefu...</td>\n      <td>8</td>\n    </tr>\n    <tr>\n      <th>454682</th>\n      <td>Romanticism</td>\n      <td>ivan-aivazovsky_sea-at-night-1861</td>\n      <td>contentment</td>\n      <td>The steep mountains and the moonlight provide ...</td>\n      <td>8</td>\n    </tr>\n    <tr>\n      <th>454683</th>\n      <td>Cubism</td>\n      <td>joan-miro_not_detected_227963</td>\n      <td>fear</td>\n      <td>If you look at the colors individually they ar...</td>\n      <td>10</td>\n    </tr>\n  </tbody>\n</table>\n<p>454684 rows × 5 columns</p>\n</div>"
     },
     "execution_count": 6,
     "metadata": {},
     "output_type": "execute_result"
    }
   ],
   "source": [
    "artemis_csv = Path(\"../../DATA/artemis/artemis_dataset_release_v0.csv\")\n",
    "artemis = pandas.read_csv(artemis_csv)\n",
    "artemis"
   ],
   "metadata": {
    "collapsed": false,
    "pycharm": {
     "name": "#%%\n"
    }
   }
  },
  {
   "cell_type": "code",
   "execution_count": 7,
   "outputs": [
    {
     "name": "stdout",
     "output_type": "stream",
     "text": [
      "Mean word count = 17.14858671077056\n"
     ]
    },
    {
     "data": {
      "text/plain": "<Figure size 432x288 with 1 Axes>",
      "image/png": "[encoded data removed]"
     },
     "metadata": {
      "needs_background": "light"
     },
     "output_type": "display_data"
    }
   ],
   "source": [
    "artemis['nb_words'] = artemis['utterance'].apply(\n",
    "    lambda s: len(word_tokenize(s))\n",
    ")\n",
    "artemis['nb_words'].hist(bins=100)\n",
    "print(f\"Mean word count = {artemis['nb_words'].mean()}\")"
   ],
   "metadata": {
    "collapsed": false,
    "pycharm": {
     "name": "#%%\n"
    }
   }
  },
  {
   "cell_type": "code",
   "execution_count": 8,
   "outputs": [
    {
     "name": "stderr",
     "output_type": "stream",
     "text": [
      "Token indices sequence length is longer than the specified maximum sequence length for this model (78 > 77). Running this sequence through the model will result in indexing errors\n"
     ]
    },
    {
     "name": "stdout",
     "output_type": "stream",
     "text": [
      "Mean token count = 19.72771419271406\n"
     ]
    },
    {
     "data": {
      "text/plain": "<Figure size 432x288 with 1 Axes>",
      "image/png": "[encoded data removed]"
     },
     "metadata": {
      "needs_background": "light"
     },
     "output_type": "display_data"
    }
   ],
   "source": [
    "tokenizer = BPETokenizer('clip')\n",
    "artemis['nb_tokens'] = artemis['utterance'].apply(\n",
    "    lambda s: len(tokenizer(s)['input_ids'])\n",
    ")\n",
    "print(f\"Mean token count = {artemis['nb_tokens'].mean()}\")\n",
    "artemis['nb_tokens'].hist(bins=100)"
   ],
   "metadata": {
    "collapsed": false,
    "pycharm": {
     "name": "#%%\n"
    }
   }
  },
  {
   "cell_type": "code",
   "execution_count": 9,
   "outputs": [
    {
     "name": "stdout",
     "output_type": "stream",
     "text": [
      "Sentences with tokens left out = 949/454684 = 0.00\n",
      "Mean token excess = 20.575342465753426\n"
     ]
    },
    {
     "data": {
      "text/plain": "<Figure size 432x288 with 1 Axes>",
      "image/png": "[encoded data removed]"
     },
     "metadata": {
      "needs_background": "light"
     },
     "output_type": "display_data"
    }
   ],
   "source": [
    "max_len = tokenizer.tokenizer.model_max_length\n",
    "longest = artemis[artemis['nb_tokens'] > max_len]['nb_tokens'] - max_len\n",
    "ratio = len(longest)/len(artemis)\n",
    "longest.hist(bins=100)\n",
    "print(f\"Sentences with tokens left out = {len(longest)}/{(len(artemis))} = \"\n",
    "      f\"{ratio:.2f}\")\n",
    "print(f\"Mean token excess = {longest.mean()}\")"
   ],
   "metadata": {
    "collapsed": false,
    "pycharm": {
     "name": "#%%\n"
    }
   }
  },
  {
   "cell_type": "markdown",
   "source": [
    "## Semart"
   ],
   "metadata": {
    "collapsed": false,
    "pycharm": {
     "name": "#%% md\n"
    }
   }
  },
  {
   "cell_type": "code",
   "execution_count": 10,
   "outputs": [
    {
     "data": {
      "text/plain": "               IMAGE_FILE                                        DESCRIPTION  \\\n0         42725-view2.jpg  The two Mediterranean views, \"Le Soir: A Medit...   \n1         42725-view2.jpg  Vernet made of the moonlit landscape a whole n...   \n2      05032-femminie.jpg  This painting is a rare, 18th-century depictio...   \n3      05032-femminie.jpg   These men were usually the youngest child of ...   \n4      05032-femminie.jpg   They were met with good humour rather than de...   \n...                   ...                                                ...   \n98570  23837-2manet16.jpg   He is also notable for his involvement in the...   \n98571  23837-2manet16.jpg  Manet demonstratively placed a small study for...   \n98572  23837-2manet16.jpg   The pamphlet can be seen to the right on the ...   \n98573  23837-2manet16.jpg   Zola himself makes a well-groomed rather than...   \n98574  23837-2manet16.jpg   The portrait also includes other programmatic...   \n\n                      AUTHOR             TITLE                    TECHNIQUE  \\\n0      VERNET, Claude-Joseph   \"Clair de Lune\"    Oil on canvas, 72 x 99 cm   \n1      VERNET, Claude-Joseph   \"Clair de Lune\"    Oil on canvas, 72 x 99 cm   \n2           BONITO, Giuseppe  \"Il Femminiello\"    Oil on canvas, 77 x 63 cm   \n3           BONITO, Giuseppe  \"Il Femminiello\"    Oil on canvas, 77 x 63 cm   \n4           BONITO, Giuseppe  \"Il Femminiello\"    Oil on canvas, 77 x 63 cm   \n...                      ...               ...                          ...   \n98570         MANET, Edouard        Émile Zola  Oil on canvas, 146 x 114 cm   \n98571         MANET, Edouard        Émile Zola  Oil on canvas, 146 x 114 cm   \n98572         MANET, Edouard        Émile Zola  Oil on canvas, 146 x 114 cm   \n98573         MANET, Edouard        Émile Zola  Oil on canvas, 146 x 114 cm   \n98574         MANET, Edouard        Émile Zola  Oil on canvas, 146 x 114 cm   \n\n       DATE       TYPE   SCHOOL  TIMEFRAME  \\\n0      1752  landscape   French  1751-1800   \n1      1752  landscape   French  1751-1800   \n2         -      genre  Italian  1701-1750   \n3         -      genre  Italian  1701-1750   \n4         -      genre  Italian  1701-1750   \n...     ...        ...      ...        ...   \n98570  1868   portrait   French  1851-1900   \n98571  1868   portrait   French  1851-1900   \n98572  1868   portrait   French  1851-1900   \n98573  1868   portrait   French  1851-1900   \n98574  1868   portrait   French  1851-1900   \n\n                                            localpath  \n0         /mnt/HDD/DATA/SEMART/Images/42725-view2.jpg  \n1         /mnt/HDD/DATA/SEMART/Images/42725-view2.jpg  \n2      /mnt/HDD/DATA/SEMART/Images/05032-femminie.jpg  \n3      /mnt/HDD/DATA/SEMART/Images/05032-femminie.jpg  \n4      /mnt/HDD/DATA/SEMART/Images/05032-femminie.jpg  \n...                                               ...  \n98570  /mnt/HDD/DATA/SEMART/Images/23837-2manet16.jpg  \n98571  /mnt/HDD/DATA/SEMART/Images/23837-2manet16.jpg  \n98572  /mnt/HDD/DATA/SEMART/Images/23837-2manet16.jpg  \n98573  /mnt/HDD/DATA/SEMART/Images/23837-2manet16.jpg  \n98574  /mnt/HDD/DATA/SEMART/Images/23837-2manet16.jpg  \n\n[96368 rows x 10 columns]",
      "text/html": "<div>\n<style scoped>\n    .dataframe tbody tr th:only-of-type {\n        vertical-align: middle;\n    }\n\n    .dataframe tbody tr th {\n        vertical-align: top;\n    }\n\n    .dataframe thead th {\n        text-align: right;\n    }\n</style>\n<table border=\"1\" class=\"dataframe\">\n  <thead>\n    <tr style=\"text-align: right;\">\n      <th></th>\n      <th>IMAGE_FILE</th>\n      <th>DESCRIPTION</th>\n      <th>AUTHOR</th>\n      <th>TITLE</th>\n      <th>TECHNIQUE</th>\n      <th>DATE</th>\n      <th>TYPE</th>\n      <th>SCHOOL</th>\n      <th>TIMEFRAME</th>\n      <th>localpath</th>\n    </tr>\n  </thead>\n  <tbody>\n    <tr>\n      <th>0</th>\n      <td>42725-view2.jpg</td>\n      <td>The two Mediterranean views, \"Le Soir: A Medit...</td>\n      <td>VERNET, Claude-Joseph</td>\n      <td>\"Clair de Lune\"</td>\n      <td>Oil on canvas, 72 x 99 cm</td>\n      <td>1752</td>\n      <td>landscape</td>\n      <td>French</td>\n      <td>1751-1800</td>\n      <td>/mnt/HDD/DATA/SEMART/Images/42725-view2.jpg</td>\n    </tr>\n    <tr>\n      <th>1</th>\n      <td>42725-view2.jpg</td>\n      <td>Vernet made of the moonlit landscape a whole n...</td>\n      <td>VERNET, Claude-Joseph</td>\n      <td>\"Clair de Lune\"</td>\n      <td>Oil on canvas, 72 x 99 cm</td>\n      <td>1752</td>\n      <td>landscape</td>\n      <td>French</td>\n      <td>1751-1800</td>\n      <td>/mnt/HDD/DATA/SEMART/Images/42725-view2.jpg</td>\n    </tr>\n    <tr>\n      <th>2</th>\n      <td>05032-femminie.jpg</td>\n      <td>This painting is a rare, 18th-century depictio...</td>\n      <td>BONITO, Giuseppe</td>\n      <td>\"Il Femminiello\"</td>\n      <td>Oil on canvas, 77 x 63 cm</td>\n      <td>-</td>\n      <td>genre</td>\n      <td>Italian</td>\n      <td>1701-1750</td>\n      <td>/mnt/HDD/DATA/SEMART/Images/05032-femminie.jpg</td>\n    </tr>\n    <tr>\n      <th>3</th>\n      <td>05032-femminie.jpg</td>\n      <td>These men were usually the youngest child of ...</td>\n      <td>BONITO, Giuseppe</td>\n      <td>\"Il Femminiello\"</td>\n      <td>Oil on canvas, 77 x 63 cm</td>\n      <td>-</td>\n      <td>genre</td>\n      <td>Italian</td>\n      <td>1701-1750</td>\n      <td>/mnt/HDD/DATA/SEMART/Images/05032-femminie.jpg</td>\n    </tr>\n    <tr>\n      <th>4</th>\n      <td>05032-femminie.jpg</td>\n      <td>They were met with good humour rather than de...</td>\n      <td>BONITO, Giuseppe</td>\n      <td>\"Il Femminiello\"</td>\n      <td>Oil on canvas, 77 x 63 cm</td>\n      <td>-</td>\n      <td>genre</td>\n      <td>Italian</td>\n      <td>1701-1750</td>\n      <td>/mnt/HDD/DATA/SEMART/Images/05032-femminie.jpg</td>\n    </tr>\n    <tr>\n      <th>...</th>\n      <td>...</td>\n      <td>...</td>\n      <td>...</td>\n      <td>...</td>\n      <td>...</td>\n      <td>...</td>\n      <td>...</td>\n      <td>...</td>\n      <td>...</td>\n      <td>...</td>\n    </tr>\n    <tr>\n      <th>98570</th>\n      <td>23837-2manet16.jpg</td>\n      <td>He is also notable for his involvement in the...</td>\n      <td>MANET, Edouard</td>\n      <td>Émile Zola</td>\n      <td>Oil on canvas, 146 x 114 cm</td>\n      <td>1868</td>\n      <td>portrait</td>\n      <td>French</td>\n      <td>1851-1900</td>\n      <td>/mnt/HDD/DATA/SEMART/Images/23837-2manet16.jpg</td>\n    </tr>\n    <tr>\n      <th>98571</th>\n      <td>23837-2manet16.jpg</td>\n      <td>Manet demonstratively placed a small study for...</td>\n      <td>MANET, Edouard</td>\n      <td>Émile Zola</td>\n      <td>Oil on canvas, 146 x 114 cm</td>\n      <td>1868</td>\n      <td>portrait</td>\n      <td>French</td>\n      <td>1851-1900</td>\n      <td>/mnt/HDD/DATA/SEMART/Images/23837-2manet16.jpg</td>\n    </tr>\n    <tr>\n      <th>98572</th>\n      <td>23837-2manet16.jpg</td>\n      <td>The pamphlet can be seen to the right on the ...</td>\n      <td>MANET, Edouard</td>\n      <td>Émile Zola</td>\n      <td>Oil on canvas, 146 x 114 cm</td>\n      <td>1868</td>\n      <td>portrait</td>\n      <td>French</td>\n      <td>1851-1900</td>\n      <td>/mnt/HDD/DATA/SEMART/Images/23837-2manet16.jpg</td>\n    </tr>\n    <tr>\n      <th>98573</th>\n      <td>23837-2manet16.jpg</td>\n      <td>Zola himself makes a well-groomed rather than...</td>\n      <td>MANET, Edouard</td>\n      <td>Émile Zola</td>\n      <td>Oil on canvas, 146 x 114 cm</td>\n      <td>1868</td>\n      <td>portrait</td>\n      <td>French</td>\n      <td>1851-1900</td>\n      <td>/mnt/HDD/DATA/SEMART/Images/23837-2manet16.jpg</td>\n    </tr>\n    <tr>\n      <th>98574</th>\n      <td>23837-2manet16.jpg</td>\n      <td>The portrait also includes other programmatic...</td>\n      <td>MANET, Edouard</td>\n      <td>Émile Zola</td>\n      <td>Oil on canvas, 146 x 114 cm</td>\n      <td>1868</td>\n      <td>portrait</td>\n      <td>French</td>\n      <td>1851-1900</td>\n      <td>/mnt/HDD/DATA/SEMART/Images/23837-2manet16.jpg</td>\n    </tr>\n  </tbody>\n</table>\n<p>96368 rows × 10 columns</p>\n</div>"
     },
     "execution_count": 10,
     "metadata": {},
     "output_type": "execute_result"
    }
   ],
   "source": [
    "semart_csv = Path(\"../semart.csv\")\n",
    "semart = pandas.read_csv(semart_csv)\n",
    "semart.dropna(subset=[\"DESCRIPTION\"], inplace=True)\n",
    "semart"
   ],
   "metadata": {
    "collapsed": false,
    "pycharm": {
     "name": "#%%\n"
    }
   }
  },
  {
   "cell_type": "code",
   "execution_count": 11,
   "outputs": [
    {
     "name": "stdout",
     "output_type": "stream",
     "text": [
      "Mean word count = 23.592686368919143\n"
     ]
    },
    {
     "data": {
      "text/plain": "<Figure size 432x288 with 1 Axes>",
      "image/png": "[encoded data removed]"
     },
     "metadata": {
      "needs_background": "light"
     },
     "output_type": "display_data"
    }
   ],
   "source": [
    "semart['nb_words'] = semart['DESCRIPTION'].apply(\n",
    "    lambda s: len(word_tokenize(s))\n",
    ")\n",
    "semart['nb_words'].hist(bins=100)\n",
    "print(f\"Mean word count = {semart['nb_words'].mean()}\")"
   ],
   "metadata": {
    "collapsed": false,
    "pycharm": {
     "name": "#%%\n"
    }
   }
  },
  {
   "cell_type": "code",
   "execution_count": 12,
   "outputs": [
    {
     "name": "stderr",
     "output_type": "stream",
     "text": [
      "Token indices sequence length is longer than the specified maximum sequence length for this model (85 > 77). Running this sequence through the model will result in indexing errors\n"
     ]
    },
    {
     "name": "stdout",
     "output_type": "stream",
     "text": [
      "Mean token count = 29.380945957164204\n"
     ]
    },
    {
     "data": {
      "text/plain": "<Figure size 432x288 with 1 Axes>",
      "image/png": "[encoded data removed]"
     },
     "metadata": {
      "needs_background": "light"
     },
     "output_type": "display_data"
    }
   ],
   "source": [
    "tokenizer = BPETokenizer('clip')\n",
    "semart['nb_tokens'] = semart['DESCRIPTION'].apply(\n",
    "    lambda s: len(tokenizer(s)['input_ids'])\n",
    ")\n",
    "semart['nb_tokens'].hist(bins=100)\n",
    "print(f\"Mean token count = {semart['nb_tokens'].mean()}\")"
   ],
   "metadata": {
    "collapsed": false,
    "pycharm": {
     "name": "#%%\n"
    }
   }
  },
  {
   "cell_type": "code",
   "execution_count": 13,
   "outputs": [
    {
     "name": "stdout",
     "output_type": "stream",
     "text": [
      "Sentences with tokens left out = 851/96368 = 0.01\n",
      "Mean token excess = 14.135135135135135\n"
     ]
    },
    {
     "data": {
      "text/plain": "<Figure size 432x288 with 1 Axes>",
      "image/png": "[encoded data removed]"
     },
     "metadata": {
      "needs_background": "light"
     },
     "output_type": "display_data"
    }
   ],
   "source": [
    "max_len = tokenizer.tokenizer.model_max_length\n",
    "longest = semart[semart['nb_tokens'] > max_len]['nb_tokens'] - max_len\n",
    "ratio = len(longest)/len(semart)\n",
    "longest.hist(bins=100)\n",
    "print(f\"Sentences with tokens left out = {len(longest)}/{(len(semart))} = \"\n",
    "      f\"{ratio:.2f}\")\n",
    "print(f\"Mean token excess = {longest.mean()}\")"
   ],
   "metadata": {
    "collapsed": false,
    "pycharm": {
     "name": "#%%\n"
    }
   }
  }
 ],
 "metadata": {
  "kernelspec": {
   "display_name": "Python 3",
   "language": "python",
   "name": "python3"
  },
  "language_info": {
   "codemirror_mode": {
    "name": "ipython",
    "version": 2
   },
   "file_extension": ".py",
   "mimetype": "text/x-python",
   "name": "python",
   "nbconvert_exporter": "python",
   "pygments_lexer": "ipython2",
   "version": "2.7.6"
  }
 },
 "nbformat": 4,
 "nbformat_minor": 0
}