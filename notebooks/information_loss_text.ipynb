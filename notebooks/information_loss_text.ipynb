{
 "cells": [
  {
   "cell_type": "markdown",
   "metadata": {
    "collapsed": true,
    "pycharm": {
     "name": "#%% md\n"
    }
   },
   "source": [
    "# Information Loss Text\n",
    "\n",
    "When we employ a pretrained CLIP model, we are constraint to use a\n",
    "max_length of tokens of 77 (not necessarily representing 77 words). However,\n",
    " how many sentences in Artemis and SemArt are longer than that? And on those\n",
    " that are longer and hence and not encoded 100%, how much information are we\n",
    "  missing?"
   ]
  },
  {
   "cell_type": "code",
   "execution_count": 1,
   "outputs": [],
   "source": [
    "import pandas\n",
    "\n",
    "from pathlib import Path\n",
    "from nltk.tokenize import word_tokenize\n",
    "from data_preprocess.tokenizers import BPETokenizer"
   ],
   "metadata": {
    "collapsed": false,
    "pycharm": {
     "name": "#%%\n"
    }
   }
  },
  {
   "cell_type": "code",
   "execution_count": 2,
   "outputs": [
    {
     "data": {
      "text/plain": "                 art_style                                           painting  \\\n0       Post_Impressionism  vincent-van-gogh_portrait-of-madame-ginoux-l-a...   \n1       Post_Impressionism  vincent-van-gogh_portrait-of-madame-ginoux-l-a...   \n2       Post_Impressionism  vincent-van-gogh_portrait-of-madame-ginoux-l-a...   \n3       Post_Impressionism  vincent-van-gogh_portrait-of-madame-ginoux-l-a...   \n4       Post_Impressionism  vincent-van-gogh_portrait-of-madame-ginoux-l-a...   \n...                    ...                                                ...   \n454679              Cubism                           gino-severini_a-dancer-1   \n454680         Romanticism                  ivan-aivazovsky_sea-at-night-1861   \n454681         Romanticism                  ivan-aivazovsky_sea-at-night-1861   \n454682         Romanticism                  ivan-aivazovsky_sea-at-night-1861   \n454683              Cubism                      joan-miro_not_detected_227963   \n\n               emotion                                          utterance  \\\n0       something else  She seems very happy in the picture, and you w...   \n1              sadness  This woman has really knotty hands which makes...   \n2       something else  When looking at this woman, I am filled with c...   \n3          contentment  A woman looking at ease, peaceful, and satisfi...   \n4                  awe  She looks like a lady from that past that migh...   \n...                ...                                                ...   \n454679             awe  the collection and collage of different colors...   \n454680             awe  The peaceful reflections of the moonlight on t...   \n454681      excitement  I can imagine the sailors resting this peacefu...   \n454682     contentment  The steep mountains and the moonlight provide ...   \n454683            fear  If you look at the colors individually they ar...   \n\n        repetition  split                                             tokens  \\\n0               10  train  ['she', 'seems', 'very', 'happy', 'in', 'the',...   \n1               10  train  ['this', 'woman', 'has', 'really', 'knotty', '...   \n2               10  train  ['when', 'looking', 'at', 'this', 'woman', 'i'...   \n3               10  train  ['a', 'woman', 'looking', 'at', 'ease', 'peace...   \n4               10  train  ['she', 'looks', 'like', 'a', 'lady', 'from', ...   \n...            ...    ...                                                ...   \n454679          48  train  ['the', 'collection', 'and', 'collage', 'of', ...   \n454680           8  train  ['the', 'peaceful', 'reflections', 'of', 'the'...   \n454681           8  train  ['i', 'can', 'imagine', 'the', 'sailors', 'res...   \n454682           8  train  ['the', 'steep', 'mountains', 'and', 'the', 'm...   \n454683          10    val  ['if', 'you', 'look', 'at', 'the', 'colors', '...   \n\n        tokens_len                                  utterance_spelled  \\\n0               18  she seems very happy in the picture and you wa...   \n1               14  this woman has really knotty hands which makes...   \n2               27  when looking at this woman i am filled with cu...   \n3               15  a woman looking at ease peaceful and satisfied...   \n4               33  she looks like a lady from that past that migh...   \n...            ...                                                ...   \n454679          12  the collection and collage of different colors...   \n454680          14  the peaceful reflections of the moonlight on t...   \n454681          13  i can imagine the sailors resting this peacefu...   \n454682          15  the steep mountains and the moonlight provide ...   \n454683          38  if you look at the colors individually they ar...   \n\n                                           tokens_encoded  emotion_label  \n0       [1, 4, 5, 6, 7, 8, 9, 10, 11, 12, 13, 14, 15, ...              8  \n1       [1, 20, 21, 22, 23, 24, 25, 26, 27, 28, 29, 30...              7  \n2       [1, 32, 33, 34, 20, 21, 35, 36, 37, 38, 39, 40...              8  \n3       [1, 45, 21, 33, 34, 48, 49, 11, 50, 51, 28, 52...              2  \n4       [1, 4, 56, 30, 45, 57, 58, 59, 60, 59, 61, 62,...              1  \n...                                                   ...            ...  \n454679  [1, 9, 4867, 11, 4370, 89, 272, 78, 11, 83, 10...              1  \n454680  [1, 9, 49, 4037, 89, 9, 456, 43, 9, 269, 126, ...              1  \n454681  [1, 35, 149, 760, 9, 6361, 1942, 20, 49, 222, ...              3  \n454682  [1, 9, 2751, 894, 11, 9, 456, 292, 474, 14, 9,...              2  \n454683  [1, 264, 12, 29, 34, 9, 78, 9240, 239, 116, 20...              6  \n\n[454684 rows x 11 columns]",
      "text/html": "<div>\n<style scoped>\n    .dataframe tbody tr th:only-of-type {\n        vertical-align: middle;\n    }\n\n    .dataframe tbody tr th {\n        vertical-align: top;\n    }\n\n    .dataframe thead th {\n        text-align: right;\n    }\n</style>\n<table border=\"1\" class=\"dataframe\">\n  <thead>\n    <tr style=\"text-align: right;\">\n      <th></th>\n      <th>art_style</th>\n      <th>painting</th>\n      <th>emotion</th>\n      <th>utterance</th>\n      <th>repetition</th>\n      <th>split</th>\n      <th>tokens</th>\n      <th>tokens_len</th>\n      <th>utterance_spelled</th>\n      <th>tokens_encoded</th>\n      <th>emotion_label</th>\n    </tr>\n  </thead>\n  <tbody>\n    <tr>\n      <th>0</th>\n      <td>Post_Impressionism</td>\n      <td>vincent-van-gogh_portrait-of-madame-ginoux-l-a...</td>\n      <td>something else</td>\n      <td>She seems very happy in the picture, and you w...</td>\n      <td>10</td>\n      <td>train</td>\n      <td>['she', 'seems', 'very', 'happy', 'in', 'the',...</td>\n      <td>18</td>\n      <td>she seems very happy in the picture and you wa...</td>\n      <td>[1, 4, 5, 6, 7, 8, 9, 10, 11, 12, 13, 14, 15, ...</td>\n      <td>8</td>\n    </tr>\n    <tr>\n      <th>1</th>\n      <td>Post_Impressionism</td>\n      <td>vincent-van-gogh_portrait-of-madame-ginoux-l-a...</td>\n      <td>sadness</td>\n      <td>This woman has really knotty hands which makes...</td>\n      <td>10</td>\n      <td>train</td>\n      <td>['this', 'woman', 'has', 'really', 'knotty', '...</td>\n      <td>14</td>\n      <td>this woman has really knotty hands which makes...</td>\n      <td>[1, 20, 21, 22, 23, 24, 25, 26, 27, 28, 29, 30...</td>\n      <td>7</td>\n    </tr>\n    <tr>\n      <th>2</th>\n      <td>Post_Impressionism</td>\n      <td>vincent-van-gogh_portrait-of-madame-ginoux-l-a...</td>\n      <td>something else</td>\n      <td>When looking at this woman, I am filled with c...</td>\n      <td>10</td>\n      <td>train</td>\n      <td>['when', 'looking', 'at', 'this', 'woman', 'i'...</td>\n      <td>27</td>\n      <td>when looking at this woman i am filled with cu...</td>\n      <td>[1, 32, 33, 34, 20, 21, 35, 36, 37, 38, 39, 40...</td>\n      <td>8</td>\n    </tr>\n    <tr>\n      <th>3</th>\n      <td>Post_Impressionism</td>\n      <td>vincent-van-gogh_portrait-of-madame-ginoux-l-a...</td>\n      <td>contentment</td>\n      <td>A woman looking at ease, peaceful, and satisfi...</td>\n      <td>10</td>\n      <td>train</td>\n      <td>['a', 'woman', 'looking', 'at', 'ease', 'peace...</td>\n      <td>15</td>\n      <td>a woman looking at ease peaceful and satisfied...</td>\n      <td>[1, 45, 21, 33, 34, 48, 49, 11, 50, 51, 28, 52...</td>\n      <td>2</td>\n    </tr>\n    <tr>\n      <th>4</th>\n      <td>Post_Impressionism</td>\n      <td>vincent-van-gogh_portrait-of-madame-ginoux-l-a...</td>\n      <td>awe</td>\n      <td>She looks like a lady from that past that migh...</td>\n      <td>10</td>\n      <td>train</td>\n      <td>['she', 'looks', 'like', 'a', 'lady', 'from', ...</td>\n      <td>33</td>\n      <td>she looks like a lady from that past that migh...</td>\n      <td>[1, 4, 56, 30, 45, 57, 58, 59, 60, 59, 61, 62,...</td>\n      <td>1</td>\n    </tr>\n    <tr>\n      <th>...</th>\n      <td>...</td>\n      <td>...</td>\n      <td>...</td>\n      <td>...</td>\n      <td>...</td>\n      <td>...</td>\n      <td>...</td>\n      <td>...</td>\n      <td>...</td>\n      <td>...</td>\n      <td>...</td>\n    </tr>\n    <tr>\n      <th>454679</th>\n      <td>Cubism</td>\n      <td>gino-severini_a-dancer-1</td>\n      <td>awe</td>\n      <td>the collection and collage of different colors...</td>\n      <td>48</td>\n      <td>train</td>\n      <td>['the', 'collection', 'and', 'collage', 'of', ...</td>\n      <td>12</td>\n      <td>the collection and collage of different colors...</td>\n      <td>[1, 9, 4867, 11, 4370, 89, 272, 78, 11, 83, 10...</td>\n      <td>1</td>\n    </tr>\n    <tr>\n      <th>454680</th>\n      <td>Romanticism</td>\n      <td>ivan-aivazovsky_sea-at-night-1861</td>\n      <td>awe</td>\n      <td>The peaceful reflections of the moonlight on t...</td>\n      <td>8</td>\n      <td>train</td>\n      <td>['the', 'peaceful', 'reflections', 'of', 'the'...</td>\n      <td>14</td>\n      <td>the peaceful reflections of the moonlight on t...</td>\n      <td>[1, 9, 49, 4037, 89, 9, 456, 43, 9, 269, 126, ...</td>\n      <td>1</td>\n    </tr>\n    <tr>\n      <th>454681</th>\n      <td>Romanticism</td>\n      <td>ivan-aivazovsky_sea-at-night-1861</td>\n      <td>excitement</td>\n      <td>I can imagine the sailors resting this peacefu...</td>\n      <td>8</td>\n      <td>train</td>\n      <td>['i', 'can', 'imagine', 'the', 'sailors', 'res...</td>\n      <td>13</td>\n      <td>i can imagine the sailors resting this peacefu...</td>\n      <td>[1, 35, 149, 760, 9, 6361, 1942, 20, 49, 222, ...</td>\n      <td>3</td>\n    </tr>\n    <tr>\n      <th>454682</th>\n      <td>Romanticism</td>\n      <td>ivan-aivazovsky_sea-at-night-1861</td>\n      <td>contentment</td>\n      <td>The steep mountains and the moonlight provide ...</td>\n      <td>8</td>\n      <td>train</td>\n      <td>['the', 'steep', 'mountains', 'and', 'the', 'm...</td>\n      <td>15</td>\n      <td>the steep mountains and the moonlight provide ...</td>\n      <td>[1, 9, 2751, 894, 11, 9, 456, 292, 474, 14, 9,...</td>\n      <td>2</td>\n    </tr>\n    <tr>\n      <th>454683</th>\n      <td>Cubism</td>\n      <td>joan-miro_not_detected_227963</td>\n      <td>fear</td>\n      <td>If you look at the colors individually they ar...</td>\n      <td>10</td>\n      <td>val</td>\n      <td>['if', 'you', 'look', 'at', 'the', 'colors', '...</td>\n      <td>38</td>\n      <td>if you look at the colors individually they ar...</td>\n      <td>[1, 264, 12, 29, 34, 9, 78, 9240, 239, 116, 20...</td>\n      <td>6</td>\n    </tr>\n  </tbody>\n</table>\n<p>454684 rows × 11 columns</p>\n</div>"
     },
     "execution_count": 2,
     "metadata": {},
     "output_type": "execute_result"
    }
   ],
   "source": [
    "artemis_csv = Path(\"../../DATA/artemis/artemis_preprocessed.csv\")\n",
    "artemis = pandas.read_csv(artemis_csv)\n",
    "artemis"
   ],
   "metadata": {
    "collapsed": false,
    "pycharm": {
     "name": "#%%\n"
    }
   }
  },
  {
   "cell_type": "code",
   "execution_count": 3,
   "outputs": [
    {
     "name": "stdout",
     "output_type": "stream",
     "text": [
      "Mean word count = 15.920571209895224\n"
     ]
    },
    {
     "data": {
      "text/plain": "<Figure size 432x288 with 1 Axes>",
      "image/png": "[encoded data removed]"
     },
     "metadata": {
      "needs_background": "light"
     },
     "output_type": "display_data"
    }
   ],
   "source": [
    "artemis['nb_words'] = artemis['utterance_spelled'].apply(\n",
    "    lambda s: len(word_tokenize(s))\n",
    ")\n",
    "artemis['nb_words'].hist(bins=50)\n",
    "print(f\"Mean word count = {artemis['nb_words'].mean()}\")"
   ],
   "metadata": {
    "collapsed": false,
    "pycharm": {
     "name": "#%%\n"
    }
   }
  },
  {
   "cell_type": "code",
   "execution_count": 4,
   "outputs": [
    {
     "name": "stderr",
     "output_type": "stream",
     "text": [
      "Token indices sequence length is longer than the specified maximum sequence length for this model (79 > 77). Running this sequence through the model will result in indexing errors\n"
     ]
    },
    {
     "name": "stdout",
     "output_type": "stream",
     "text": [
      "Mean token count = 18.40034177582673\n"
     ]
    },
    {
     "data": {
      "text/plain": "<AxesSubplot:>"
     },
     "execution_count": 4,
     "metadata": {},
     "output_type": "execute_result"
    },
    {
     "data": {
      "text/plain": "<Figure size 432x288 with 1 Axes>",
      "image/png": "[encoded data removed]"
     },
     "metadata": {
      "needs_background": "light"
     },
     "output_type": "display_data"
    }
   ],
   "source": [
    "tokenizer = BPETokenizer('clip')\n",
    "artemis['nb_tokens'] = artemis['utterance_spelled'].apply(\n",
    "    lambda s: len(tokenizer(s)['input_ids'])\n",
    ")\n",
    "print(f\"Mean token count = {artemis['nb_tokens'].mean()}\")\n",
    "artemis['nb_tokens'].hist(bins=50)"
   ],
   "metadata": {
    "collapsed": false,
    "pycharm": {
     "name": "#%%\n"
    }
   }
  },
  {
   "cell_type": "code",
   "execution_count": 5,
   "outputs": [
    {
     "name": "stdout",
     "output_type": "stream",
     "text": [
      "Sentences with tokens left out = 631/454684 = 0.00\n",
      "Mean token excess = 19.415213946117273\n"
     ]
    },
    {
     "data": {
      "text/plain": "<Figure size 432x288 with 1 Axes>",
      "image/png": "[encoded data removed]"
     },
     "metadata": {
      "needs_background": "light"
     },
     "output_type": "display_data"
    }
   ],
   "source": [
    "max_len = tokenizer.tokenizer.model_max_length\n",
    "longest = artemis[artemis['nb_tokens'] > max_len]['nb_tokens'] - max_len\n",
    "ratio = len(longest)/len(artemis)\n",
    "longest.hist(bins=100)\n",
    "print(f\"Sentences with tokens left out = {len(longest)}/{(len(artemis))} = \"\n",
    "      f\"{ratio:.2f}\")\n",
    "print(f\"Mean token excess = {longest.mean()}\")"
   ],
   "metadata": {
    "collapsed": false,
    "pycharm": {
     "name": "#%%\n"
    }
   }
  },
  {
   "cell_type": "markdown",
   "source": [
    "## Semart"
   ],
   "metadata": {
    "collapsed": false,
    "pycharm": {
     "name": "#%% md\n"
    }
   }
  },
  {
   "cell_type": "code",
   "execution_count": 6,
   "outputs": [
    {
     "data": {
      "text/plain": "               IMAGE_FILE                                        DESCRIPTION  \\\n0         42725-view2.jpg  The two Mediterranean views, \"Le Soir: A Medit...   \n1         42725-view2.jpg  Vernet made of the moonlit landscape a whole n...   \n2      05032-femminie.jpg  This painting is a rare, 18th-century depictio...   \n3      05032-femminie.jpg  These men were usually the youngest child of i...   \n4      05032-femminie.jpg  They were met with good humour rather than der...   \n...                   ...                                                ...   \n94591  23837-2manet16.jpg  He is also notable for his involvement in the ...   \n94592  23837-2manet16.jpg  Manet demonstratively placed a small study for...   \n94593  23837-2manet16.jpg  The pamphlet can be seen to the right on the w...   \n94594  23837-2manet16.jpg  Zola himself makes a well-groomed rather than ...   \n94595  23837-2manet16.jpg  The portrait also includes other programmatic ...   \n\n                      AUTHOR             TITLE                    TECHNIQUE  \\\n0      VERNET, Claude-Joseph   \"Clair de Lune\"    Oil on canvas, 72 x 99 cm   \n1      VERNET, Claude-Joseph   \"Clair de Lune\"    Oil on canvas, 72 x 99 cm   \n2           BONITO, Giuseppe  \"Il Femminiello\"    Oil on canvas, 77 x 63 cm   \n3           BONITO, Giuseppe  \"Il Femminiello\"    Oil on canvas, 77 x 63 cm   \n4           BONITO, Giuseppe  \"Il Femminiello\"    Oil on canvas, 77 x 63 cm   \n...                      ...               ...                          ...   \n94591         MANET, Edouard        Émile Zola  Oil on canvas, 146 x 114 cm   \n94592         MANET, Edouard        Émile Zola  Oil on canvas, 146 x 114 cm   \n94593         MANET, Edouard        Émile Zola  Oil on canvas, 146 x 114 cm   \n94594         MANET, Edouard        Émile Zola  Oil on canvas, 146 x 114 cm   \n94595         MANET, Edouard        Émile Zola  Oil on canvas, 146 x 114 cm   \n\n       DATE       TYPE   SCHOOL  TIMEFRAME  \\\n0      1752  landscape   French  1751-1800   \n1      1752  landscape   French  1751-1800   \n2         -      genre  Italian  1701-1750   \n3         -      genre  Italian  1701-1750   \n4         -      genre  Italian  1701-1750   \n...     ...        ...      ...        ...   \n94591  1868   portrait   French  1851-1900   \n94592  1868   portrait   French  1851-1900   \n94593  1868   portrait   French  1851-1900   \n94594  1868   portrait   French  1851-1900   \n94595  1868   portrait   French  1851-1900   \n\n                                            localpath  \n0         /mnt/HDD/DATA/SEMART/Images/42725-view2.jpg  \n1         /mnt/HDD/DATA/SEMART/Images/42725-view2.jpg  \n2      /mnt/HDD/DATA/SEMART/Images/05032-femminie.jpg  \n3      /mnt/HDD/DATA/SEMART/Images/05032-femminie.jpg  \n4      /mnt/HDD/DATA/SEMART/Images/05032-femminie.jpg  \n...                                               ...  \n94591  /mnt/HDD/DATA/SEMART/Images/23837-2manet16.jpg  \n94592  /mnt/HDD/DATA/SEMART/Images/23837-2manet16.jpg  \n94593  /mnt/HDD/DATA/SEMART/Images/23837-2manet16.jpg  \n94594  /mnt/HDD/DATA/SEMART/Images/23837-2manet16.jpg  \n94595  /mnt/HDD/DATA/SEMART/Images/23837-2manet16.jpg  \n\n[94596 rows x 10 columns]",
      "text/html": "<div>\n<style scoped>\n    .dataframe tbody tr th:only-of-type {\n        vertical-align: middle;\n    }\n\n    .dataframe tbody tr th {\n        vertical-align: top;\n    }\n\n    .dataframe thead th {\n        text-align: right;\n    }\n</style>\n<table border=\"1\" class=\"dataframe\">\n  <thead>\n    <tr style=\"text-align: right;\">\n      <th></th>\n      <th>IMAGE_FILE</th>\n      <th>DESCRIPTION</th>\n      <th>AUTHOR</th>\n      <th>TITLE</th>\n      <th>TECHNIQUE</th>\n      <th>DATE</th>\n      <th>TYPE</th>\n      <th>SCHOOL</th>\n      <th>TIMEFRAME</th>\n      <th>localpath</th>\n    </tr>\n  </thead>\n  <tbody>\n    <tr>\n      <th>0</th>\n      <td>42725-view2.jpg</td>\n      <td>The two Mediterranean views, \"Le Soir: A Medit...</td>\n      <td>VERNET, Claude-Joseph</td>\n      <td>\"Clair de Lune\"</td>\n      <td>Oil on canvas, 72 x 99 cm</td>\n      <td>1752</td>\n      <td>landscape</td>\n      <td>French</td>\n      <td>1751-1800</td>\n      <td>/mnt/HDD/DATA/SEMART/Images/42725-view2.jpg</td>\n    </tr>\n    <tr>\n      <th>1</th>\n      <td>42725-view2.jpg</td>\n      <td>Vernet made of the moonlit landscape a whole n...</td>\n      <td>VERNET, Claude-Joseph</td>\n      <td>\"Clair de Lune\"</td>\n      <td>Oil on canvas, 72 x 99 cm</td>\n      <td>1752</td>\n      <td>landscape</td>\n      <td>French</td>\n      <td>1751-1800</td>\n      <td>/mnt/HDD/DATA/SEMART/Images/42725-view2.jpg</td>\n    </tr>\n    <tr>\n      <th>2</th>\n      <td>05032-femminie.jpg</td>\n      <td>This painting is a rare, 18th-century depictio...</td>\n      <td>BONITO, Giuseppe</td>\n      <td>\"Il Femminiello\"</td>\n      <td>Oil on canvas, 77 x 63 cm</td>\n      <td>-</td>\n      <td>genre</td>\n      <td>Italian</td>\n      <td>1701-1750</td>\n      <td>/mnt/HDD/DATA/SEMART/Images/05032-femminie.jpg</td>\n    </tr>\n    <tr>\n      <th>3</th>\n      <td>05032-femminie.jpg</td>\n      <td>These men were usually the youngest child of i...</td>\n      <td>BONITO, Giuseppe</td>\n      <td>\"Il Femminiello\"</td>\n      <td>Oil on canvas, 77 x 63 cm</td>\n      <td>-</td>\n      <td>genre</td>\n      <td>Italian</td>\n      <td>1701-1750</td>\n      <td>/mnt/HDD/DATA/SEMART/Images/05032-femminie.jpg</td>\n    </tr>\n    <tr>\n      <th>4</th>\n      <td>05032-femminie.jpg</td>\n      <td>They were met with good humour rather than der...</td>\n      <td>BONITO, Giuseppe</td>\n      <td>\"Il Femminiello\"</td>\n      <td>Oil on canvas, 77 x 63 cm</td>\n      <td>-</td>\n      <td>genre</td>\n      <td>Italian</td>\n      <td>1701-1750</td>\n      <td>/mnt/HDD/DATA/SEMART/Images/05032-femminie.jpg</td>\n    </tr>\n    <tr>\n      <th>...</th>\n      <td>...</td>\n      <td>...</td>\n      <td>...</td>\n      <td>...</td>\n      <td>...</td>\n      <td>...</td>\n      <td>...</td>\n      <td>...</td>\n      <td>...</td>\n      <td>...</td>\n    </tr>\n    <tr>\n      <th>94591</th>\n      <td>23837-2manet16.jpg</td>\n      <td>He is also notable for his involvement in the ...</td>\n      <td>MANET, Edouard</td>\n      <td>Émile Zola</td>\n      <td>Oil on canvas, 146 x 114 cm</td>\n      <td>1868</td>\n      <td>portrait</td>\n      <td>French</td>\n      <td>1851-1900</td>\n      <td>/mnt/HDD/DATA/SEMART/Images/23837-2manet16.jpg</td>\n    </tr>\n    <tr>\n      <th>94592</th>\n      <td>23837-2manet16.jpg</td>\n      <td>Manet demonstratively placed a small study for...</td>\n      <td>MANET, Edouard</td>\n      <td>Émile Zola</td>\n      <td>Oil on canvas, 146 x 114 cm</td>\n      <td>1868</td>\n      <td>portrait</td>\n      <td>French</td>\n      <td>1851-1900</td>\n      <td>/mnt/HDD/DATA/SEMART/Images/23837-2manet16.jpg</td>\n    </tr>\n    <tr>\n      <th>94593</th>\n      <td>23837-2manet16.jpg</td>\n      <td>The pamphlet can be seen to the right on the w...</td>\n      <td>MANET, Edouard</td>\n      <td>Émile Zola</td>\n      <td>Oil on canvas, 146 x 114 cm</td>\n      <td>1868</td>\n      <td>portrait</td>\n      <td>French</td>\n      <td>1851-1900</td>\n      <td>/mnt/HDD/DATA/SEMART/Images/23837-2manet16.jpg</td>\n    </tr>\n    <tr>\n      <th>94594</th>\n      <td>23837-2manet16.jpg</td>\n      <td>Zola himself makes a well-groomed rather than ...</td>\n      <td>MANET, Edouard</td>\n      <td>Émile Zola</td>\n      <td>Oil on canvas, 146 x 114 cm</td>\n      <td>1868</td>\n      <td>portrait</td>\n      <td>French</td>\n      <td>1851-1900</td>\n      <td>/mnt/HDD/DATA/SEMART/Images/23837-2manet16.jpg</td>\n    </tr>\n    <tr>\n      <th>94595</th>\n      <td>23837-2manet16.jpg</td>\n      <td>The portrait also includes other programmatic ...</td>\n      <td>MANET, Edouard</td>\n      <td>Émile Zola</td>\n      <td>Oil on canvas, 146 x 114 cm</td>\n      <td>1868</td>\n      <td>portrait</td>\n      <td>French</td>\n      <td>1851-1900</td>\n      <td>/mnt/HDD/DATA/SEMART/Images/23837-2manet16.jpg</td>\n    </tr>\n  </tbody>\n</table>\n<p>94596 rows × 10 columns</p>\n</div>"
     },
     "execution_count": 6,
     "metadata": {},
     "output_type": "execute_result"
    }
   ],
   "source": [
    "semart_csv = Path(\"../semart.csv\")\n",
    "semart = pandas.read_csv(semart_csv)\n",
    "semart.dropna(subset=[\"DESCRIPTION\"], inplace=True)\n",
    "semart"
   ],
   "metadata": {
    "collapsed": false,
    "pycharm": {
     "name": "#%%\n"
    }
   }
  },
  {
   "cell_type": "code",
   "execution_count": 7,
   "outputs": [
    {
     "name": "stdout",
     "output_type": "stream",
     "text": [
      "Mean word count = 24.83207535202334\n"
     ]
    },
    {
     "data": {
      "text/plain": "<Figure size 432x288 with 1 Axes>",
      "image/png": "[encoded data removed]"
     },
     "metadata": {
      "needs_background": "light"
     },
     "output_type": "display_data"
    }
   ],
   "source": [
    "semart['nb_words'] = semart['DESCRIPTION'].apply(\n",
    "    lambda s: len(word_tokenize(s))\n",
    ")\n",
    "semart['nb_words'].hist(bins=100)\n",
    "print(f\"Mean word count = {semart['nb_words'].mean()}\")"
   ],
   "metadata": {
    "collapsed": false,
    "pycharm": {
     "name": "#%%\n"
    }
   }
  },
  {
   "cell_type": "code",
   "execution_count": 8,
   "outputs": [
    {
     "name": "stderr",
     "output_type": "stream",
     "text": [
      "Token indices sequence length is longer than the specified maximum sequence length for this model (86 > 77). Running this sequence through the model will result in indexing errors\n"
     ]
    },
    {
     "name": "stdout",
     "output_type": "stream",
     "text": [
      "Mean token count = 30.685409531058397\n"
     ]
    },
    {
     "data": {
      "text/plain": "<Figure size 432x288 with 1 Axes>",
      "image/png": "[encoded data removed]"
     },
     "metadata": {
      "needs_background": "light"
     },
     "output_type": "display_data"
    }
   ],
   "source": [
    "tokenizer = BPETokenizer('clip')\n",
    "semart['nb_tokens'] = semart['DESCRIPTION'].apply(\n",
    "    lambda s: len(tokenizer(s)['input_ids'])\n",
    ")\n",
    "semart['nb_tokens'].hist(bins=100)\n",
    "print(f\"Mean token count = {semart['nb_tokens'].mean()}\")"
   ],
   "metadata": {
    "collapsed": false,
    "pycharm": {
     "name": "#%%\n"
    }
   }
  },
  {
   "cell_type": "code",
   "execution_count": 9,
   "outputs": [
    {
     "name": "stdout",
     "output_type": "stream",
     "text": [
      "Sentences with tokens left out = 930/94596 = 0.01\n",
      "Mean token excess = 14.834408602150537\n"
     ]
    },
    {
     "data": {
      "text/plain": "<Figure size 432x288 with 1 Axes>",
      "image/png": "[encoded data removed]"
     },
     "metadata": {
      "needs_background": "light"
     },
     "output_type": "display_data"
    }
   ],
   "source": [
    "max_len = tokenizer.tokenizer.model_max_length\n",
    "longest = semart[semart['nb_tokens'] > max_len]['nb_tokens'] - max_len\n",
    "ratio = len(longest)/len(semart)\n",
    "longest.hist(bins=100)\n",
    "print(f\"Sentences with tokens left out = {len(longest)}/{(len(semart))} = \"\n",
    "      f\"{ratio:.2f}\")\n",
    "print(f\"Mean token excess = {longest.mean()}\")"
   ],
   "metadata": {
    "collapsed": false,
    "pycharm": {
     "name": "#%%\n"
    }
   }
  }
 ],
 "metadata": {
  "kernelspec": {
   "display_name": "Python 3",
   "language": "python",
   "name": "python3"
  },
  "language_info": {
   "codemirror_mode": {
    "name": "ipython",
    "version": 2
   },
   "file_extension": ".py",
   "mimetype": "text/x-python",
   "name": "python",
   "nbconvert_exporter": "python",
   "pygments_lexer": "ipython2",
   "version": "2.7.6"
  }
 },
 "nbformat": 4,
 "nbformat_minor": 0
}