{
 "cells": [
  {
   "cell_type": "markdown",
   "metadata": {
    "collapsed": true,
    "pycharm": {
     "name": "#%% md\n"
    }
   },
   "source": [
    "# Information Loss Text\n",
    "\n",
    "When we employ a pretrained CLIP model, we are constraint to use a\n",
    "max_length of tokens of 77 (not necessarily representing 77 words). However,\n",
    " how many sentences in Artemis and SemArt are longer than that? And on those\n",
    " that are longer and hence and not encoded 100%, how much information are we\n",
    "  missing?"
   ]
  },
  {
   "cell_type": "code",
   "execution_count": 6,
   "outputs": [],
   "source": [
    "import pandas\n",
    "\n",
    "from pathlib import Path\n",
    "from nltk.tokenize import word_tokenize, sent_tokenize\n",
    "from data_preprocess.tokenizers import BPETokenizer"
   ],
   "metadata": {
    "collapsed": false,
    "pycharm": {
     "name": "#%%\n"
    }
   }
  },
  {
   "cell_type": "code",
   "execution_count": 2,
   "outputs": [
    {
     "data": {
      "text/plain": "                 art_style                                           painting  \\\n0       Post_Impressionism  vincent-van-gogh_portrait-of-madame-ginoux-l-a...   \n1       Post_Impressionism  vincent-van-gogh_portrait-of-madame-ginoux-l-a...   \n2       Post_Impressionism  vincent-van-gogh_portrait-of-madame-ginoux-l-a...   \n3       Post_Impressionism  vincent-van-gogh_portrait-of-madame-ginoux-l-a...   \n4       Post_Impressionism  vincent-van-gogh_portrait-of-madame-ginoux-l-a...   \n...                    ...                                                ...   \n454679              Cubism                           gino-severini_a-dancer-1   \n454680         Romanticism                  ivan-aivazovsky_sea-at-night-1861   \n454681         Romanticism                  ivan-aivazovsky_sea-at-night-1861   \n454682         Romanticism                  ivan-aivazovsky_sea-at-night-1861   \n454683              Cubism                      joan-miro_not_detected_227963   \n\n               emotion                                          utterance  \\\n0       something else  She seems very happy in the picture, and you w...   \n1              sadness  This woman has really knotty hands which makes...   \n2       something else  When looking at this woman, I am filled with c...   \n3          contentment  A woman looking at ease, peaceful, and satisfi...   \n4                  awe  She looks like a lady from that past that migh...   \n...                ...                                                ...   \n454679             awe  the collection and collage of different colors...   \n454680             awe  The peaceful reflections of the moonlight on t...   \n454681      excitement  I can imagine the sailors resting this peacefu...   \n454682     contentment  The steep mountains and the moonlight provide ...   \n454683            fear  If you look at the colors individually they ar...   \n\n        repetition  split                                             tokens  \\\n0               10  train  ['she', 'seems', 'very', 'happy', 'in', 'the',...   \n1               10  train  ['this', 'woman', 'has', 'really', 'knotty', '...   \n2               10  train  ['when', 'looking', 'at', 'this', 'woman', 'i'...   \n3               10  train  ['a', 'woman', 'looking', 'at', 'ease', 'peace...   \n4               10  train  ['she', 'looks', 'like', 'a', 'lady', 'from', ...   \n...            ...    ...                                                ...   \n454679          48  train  ['the', 'collection', 'and', 'collage', 'of', ...   \n454680           8  train  ['the', 'peaceful', 'reflections', 'of', 'the'...   \n454681           8  train  ['i', 'can', 'imagine', 'the', 'sailors', 'res...   \n454682           8  train  ['the', 'steep', 'mountains', 'and', 'the', 'm...   \n454683          10    val  ['if', 'you', 'look', 'at', 'the', 'colors', '...   \n\n        tokens_len                                  utterance_spelled  \\\n0               18  she seems very happy in the picture and you wa...   \n1               14  this woman has really knotty hands which makes...   \n2               27  when looking at this woman i am filled with cu...   \n3               15  a woman looking at ease peaceful and satisfied...   \n4               33  she looks like a lady from that past that migh...   \n...            ...                                                ...   \n454679          12  the collection and collage of different colors...   \n454680          14  the peaceful reflections of the moonlight on t...   \n454681          13  i can imagine the sailors resting this peacefu...   \n454682          15  the steep mountains and the moonlight provide ...   \n454683          38  if you look at the colors individually they ar...   \n\n                                           tokens_encoded  emotion_label  \n0       [1, 4, 5, 6, 7, 8, 9, 10, 11, 12, 13, 14, 15, ...              8  \n1       [1, 20, 21, 22, 23, 24, 25, 26, 27, 28, 29, 30...              7  \n2       [1, 32, 33, 34, 20, 21, 35, 36, 37, 38, 39, 40...              8  \n3       [1, 45, 21, 33, 34, 48, 49, 11, 50, 51, 28, 52...              2  \n4       [1, 4, 56, 30, 45, 57, 58, 59, 60, 59, 61, 62,...              1  \n...                                                   ...            ...  \n454679  [1, 9, 4867, 11, 4370, 89, 272, 78, 11, 83, 10...              1  \n454680  [1, 9, 49, 4037, 89, 9, 456, 43, 9, 269, 126, ...              1  \n454681  [1, 35, 149, 760, 9, 6361, 1942, 20, 49, 222, ...              3  \n454682  [1, 9, 2751, 894, 11, 9, 456, 292, 474, 14, 9,...              2  \n454683  [1, 264, 12, 29, 34, 9, 78, 9240, 239, 116, 20...              6  \n\n[454684 rows x 11 columns]",
      "text/html": "<div>\n<style scoped>\n    .dataframe tbody tr th:only-of-type {\n        vertical-align: middle;\n    }\n\n    .dataframe tbody tr th {\n        vertical-align: top;\n    }\n\n    .dataframe thead th {\n        text-align: right;\n    }\n</style>\n<table border=\"1\" class=\"dataframe\">\n  <thead>\n    <tr style=\"text-align: right;\">\n      <th></th>\n      <th>art_style</th>\n      <th>painting</th>\n      <th>emotion</th>\n      <th>utterance</th>\n      <th>repetition</th>\n      <th>split</th>\n      <th>tokens</th>\n      <th>tokens_len</th>\n      <th>utterance_spelled</th>\n      <th>tokens_encoded</th>\n      <th>emotion_label</th>\n    </tr>\n  </thead>\n  <tbody>\n    <tr>\n      <th>0</th>\n      <td>Post_Impressionism</td>\n      <td>vincent-van-gogh_portrait-of-madame-ginoux-l-a...</td>\n      <td>something else</td>\n      <td>She seems very happy in the picture, and you w...</td>\n      <td>10</td>\n      <td>train</td>\n      <td>['she', 'seems', 'very', 'happy', 'in', 'the',...</td>\n      <td>18</td>\n      <td>she seems very happy in the picture and you wa...</td>\n      <td>[1, 4, 5, 6, 7, 8, 9, 10, 11, 12, 13, 14, 15, ...</td>\n      <td>8</td>\n    </tr>\n    <tr>\n      <th>1</th>\n      <td>Post_Impressionism</td>\n      <td>vincent-van-gogh_portrait-of-madame-ginoux-l-a...</td>\n      <td>sadness</td>\n      <td>This woman has really knotty hands which makes...</td>\n      <td>10</td>\n      <td>train</td>\n      <td>['this', 'woman', 'has', 'really', 'knotty', '...</td>\n      <td>14</td>\n      <td>this woman has really knotty hands which makes...</td>\n      <td>[1, 20, 21, 22, 23, 24, 25, 26, 27, 28, 29, 30...</td>\n      <td>7</td>\n    </tr>\n    <tr>\n      <th>2</th>\n      <td>Post_Impressionism</td>\n      <td>vincent-van-gogh_portrait-of-madame-ginoux-l-a...</td>\n      <td>something else</td>\n      <td>When looking at this woman, I am filled with c...</td>\n      <td>10</td>\n      <td>train</td>\n      <td>['when', 'looking', 'at', 'this', 'woman', 'i'...</td>\n      <td>27</td>\n      <td>when looking at this woman i am filled with cu...</td>\n      <td>[1, 32, 33, 34, 20, 21, 35, 36, 37, 38, 39, 40...</td>\n      <td>8</td>\n    </tr>\n    <tr>\n      <th>3</th>\n      <td>Post_Impressionism</td>\n      <td>vincent-van-gogh_portrait-of-madame-ginoux-l-a...</td>\n      <td>contentment</td>\n      <td>A woman looking at ease, peaceful, and satisfi...</td>\n      <td>10</td>\n      <td>train</td>\n      <td>['a', 'woman', 'looking', 'at', 'ease', 'peace...</td>\n      <td>15</td>\n      <td>a woman looking at ease peaceful and satisfied...</td>\n      <td>[1, 45, 21, 33, 34, 48, 49, 11, 50, 51, 28, 52...</td>\n      <td>2</td>\n    </tr>\n    <tr>\n      <th>4</th>\n      <td>Post_Impressionism</td>\n      <td>vincent-van-gogh_portrait-of-madame-ginoux-l-a...</td>\n      <td>awe</td>\n      <td>She looks like a lady from that past that migh...</td>\n      <td>10</td>\n      <td>train</td>\n      <td>['she', 'looks', 'like', 'a', 'lady', 'from', ...</td>\n      <td>33</td>\n      <td>she looks like a lady from that past that migh...</td>\n      <td>[1, 4, 56, 30, 45, 57, 58, 59, 60, 59, 61, 62,...</td>\n      <td>1</td>\n    </tr>\n    <tr>\n      <th>...</th>\n      <td>...</td>\n      <td>...</td>\n      <td>...</td>\n      <td>...</td>\n      <td>...</td>\n      <td>...</td>\n      <td>...</td>\n      <td>...</td>\n      <td>...</td>\n      <td>...</td>\n      <td>...</td>\n    </tr>\n    <tr>\n      <th>454679</th>\n      <td>Cubism</td>\n      <td>gino-severini_a-dancer-1</td>\n      <td>awe</td>\n      <td>the collection and collage of different colors...</td>\n      <td>48</td>\n      <td>train</td>\n      <td>['the', 'collection', 'and', 'collage', 'of', ...</td>\n      <td>12</td>\n      <td>the collection and collage of different colors...</td>\n      <td>[1, 9, 4867, 11, 4370, 89, 272, 78, 11, 83, 10...</td>\n      <td>1</td>\n    </tr>\n    <tr>\n      <th>454680</th>\n      <td>Romanticism</td>\n      <td>ivan-aivazovsky_sea-at-night-1861</td>\n      <td>awe</td>\n      <td>The peaceful reflections of the moonlight on t...</td>\n      <td>8</td>\n      <td>train</td>\n      <td>['the', 'peaceful', 'reflections', 'of', 'the'...</td>\n      <td>14</td>\n      <td>the peaceful reflections of the moonlight on t...</td>\n      <td>[1, 9, 49, 4037, 89, 9, 456, 43, 9, 269, 126, ...</td>\n      <td>1</td>\n    </tr>\n    <tr>\n      <th>454681</th>\n      <td>Romanticism</td>\n      <td>ivan-aivazovsky_sea-at-night-1861</td>\n      <td>excitement</td>\n      <td>I can imagine the sailors resting this peacefu...</td>\n      <td>8</td>\n      <td>train</td>\n      <td>['i', 'can', 'imagine', 'the', 'sailors', 'res...</td>\n      <td>13</td>\n      <td>i can imagine the sailors resting this peacefu...</td>\n      <td>[1, 35, 149, 760, 9, 6361, 1942, 20, 49, 222, ...</td>\n      <td>3</td>\n    </tr>\n    <tr>\n      <th>454682</th>\n      <td>Romanticism</td>\n      <td>ivan-aivazovsky_sea-at-night-1861</td>\n      <td>contentment</td>\n      <td>The steep mountains and the moonlight provide ...</td>\n      <td>8</td>\n      <td>train</td>\n      <td>['the', 'steep', 'mountains', 'and', 'the', 'm...</td>\n      <td>15</td>\n      <td>the steep mountains and the moonlight provide ...</td>\n      <td>[1, 9, 2751, 894, 11, 9, 456, 292, 474, 14, 9,...</td>\n      <td>2</td>\n    </tr>\n    <tr>\n      <th>454683</th>\n      <td>Cubism</td>\n      <td>joan-miro_not_detected_227963</td>\n      <td>fear</td>\n      <td>If you look at the colors individually they ar...</td>\n      <td>10</td>\n      <td>val</td>\n      <td>['if', 'you', 'look', 'at', 'the', 'colors', '...</td>\n      <td>38</td>\n      <td>if you look at the colors individually they ar...</td>\n      <td>[1, 264, 12, 29, 34, 9, 78, 9240, 239, 116, 20...</td>\n      <td>6</td>\n    </tr>\n  </tbody>\n</table>\n<p>454684 rows × 11 columns</p>\n</div>"
     },
     "execution_count": 2,
     "metadata": {},
     "output_type": "execute_result"
    }
   ],
   "source": [
    "artemis_csv = Path(\"../../DATA/artemis/artemis_preprocessed.csv\")\n",
    "artemis = pandas.read_csv(artemis_csv)\n",
    "artemis"
   ],
   "metadata": {
    "collapsed": false,
    "pycharm": {
     "name": "#%%\n"
    }
   }
  },
  {
   "cell_type": "code",
   "execution_count": 3,
   "outputs": [
    {
     "name": "stdout",
     "output_type": "stream",
     "text": [
      "Mean word count = 15.920571209895224\n",
      "Min word count = 1\n"
     ]
    },
    {
     "data": {
      "text/plain": "<Figure size 432x288 with 1 Axes>",
      "image/png": "[encoded data removed]"
     },
     "metadata": {
      "needs_background": "light"
     },
     "output_type": "display_data"
    }
   ],
   "source": [
    "artemis['nb_words'] = artemis['utterance_spelled'].apply(\n",
    "    lambda s: len(word_tokenize(s))\n",
    ")\n",
    "artemis['nb_words'].hist(bins=100)\n",
    "print(f\"Mean word count = {artemis['nb_words'].mean()}\")\n",
    "print(f\"Min word count = {artemis['nb_words'].min()}\")"
   ],
   "metadata": {
    "collapsed": false,
    "pycharm": {
     "name": "#%%\n"
    }
   }
  },
  {
   "cell_type": "code",
   "execution_count": 4,
   "outputs": [
    {
     "name": "stderr",
     "output_type": "stream",
     "text": [
      "Token indices sequence length is longer than the specified maximum sequence length for this model (79 > 77). Running this sequence through the model will result in indexing errors\n"
     ]
    },
    {
     "name": "stdout",
     "output_type": "stream",
     "text": [
      "Mean token count = 18.40034177582673\n",
      "Min token count = 3\n"
     ]
    },
    {
     "data": {
      "text/plain": "<AxesSubplot:>"
     },
     "execution_count": 4,
     "metadata": {},
     "output_type": "execute_result"
    },
    {
     "data": {
      "text/plain": "<Figure size 432x288 with 1 Axes>",
      "image/png": "[encoded data removed]"
     },
     "metadata": {
      "needs_background": "light"
     },
     "output_type": "display_data"
    }
   ],
   "source": [
    "tokenizer = BPETokenizer('clip')\n",
    "artemis['nb_tokens'] = artemis['utterance_spelled'].apply(\n",
    "    lambda s: len(tokenizer(s)['input_ids'])\n",
    ")\n",
    "print(f\"Mean token count = {artemis['nb_tokens'].mean()}\")\n",
    "print(f\"Min token count = {artemis['nb_tokens'].min()}\")\n",
    "artemis['nb_tokens'].hist(bins=100)"
   ],
   "metadata": {
    "collapsed": false,
    "pycharm": {
     "name": "#%%\n"
    }
   }
  },
  {
   "cell_type": "code",
   "execution_count": 5,
   "outputs": [
    {
     "name": "stdout",
     "output_type": "stream",
     "text": [
      "Sentences with tokens left out = 631/454684 = 0.00\n",
      "Mean token excess = 19.415213946117273\n"
     ]
    },
    {
     "data": {
      "text/plain": "<Figure size 432x288 with 1 Axes>",
      "image/png": "[encoded data removed]"
     },
     "metadata": {
      "needs_background": "light"
     },
     "output_type": "display_data"
    }
   ],
   "source": [
    "max_len = tokenizer.tokenizer.model_max_length\n",
    "longest = artemis[artemis['nb_tokens'] > max_len]['nb_tokens'] - max_len\n",
    "ratio = len(longest)/len(artemis)\n",
    "longest.hist(bins=100)\n",
    "print(f\"Sentences with tokens left out = {len(longest)}/{(len(artemis))} = \"\n",
    "      f\"{ratio:.2f}\")\n",
    "print(f\"Mean token excess = {longest.mean()}\")"
   ],
   "metadata": {
    "collapsed": false,
    "pycharm": {
     "name": "#%%\n"
    }
   }
  },
  {
   "cell_type": "markdown",
   "source": [
    "## Semart"
   ],
   "metadata": {
    "collapsed": false,
    "pycharm": {
     "name": "#%% md\n"
    }
   }
  },
  {
   "cell_type": "code",
   "execution_count": 8,
   "outputs": [
    {
     "data": {
      "text/plain": "               IMAGE_FILE                                        DESCRIPTION  \\\n0         42725-view2.jpg  The two Mediterranean views, \"Le Soir: A Medit...   \n1      05032-femminie.jpg  This painting is a rare, 18th-century depictio...   \n2         37941-famil.jpg  The complex, multi-figure composition probably...   \n3         42724-view1.jpg  The two Mediterranean views, \"Le Soir: A Medit...   \n4      37916-oudevrij.jpg  In this painting a comical figure is greeting ...   \n...                   ...                                                ...   \n21377   26703-lu05zer.jpg  \"Shealtiel begat Zerubbabel. Zerubbabel begat ...   \n21378    43240-zeuxis.jpg  This painting was exhibited at the Salon of 17...   \n21379  03589-06ventur.jpg  The most important of the thematic cycle is th...   \n21380   19997-5zrinyi.jpg  In 1566, in the Battle of Szigetvar a vastly o...   \n21381  23837-2manet16.jpg  Emile Zola (1840-1902), novelist, journalist, ...   \n\n                        AUTHOR  \\\n0        VERNET, Claude-Joseph   \n1             BONITO, Giuseppe   \n2                   STEEN, Jan   \n3        VERNET, Claude-Joseph   \n4                   STEEN, Jan   \n...                        ...   \n21377  MICHELANGELO Buonarroti   \n21378  VINCENT, Francois-Andre   \n21379      BECCAFUMI, Domenico   \n21380           HOLLOSY, Simon   \n21381           MANET, Edouard   \n\n                                                   TITLE  \\\n0                                        \"Clair de Lune\"   \n1                                       \"Il Femminiello\"   \n2               \"In weelde siet toe\" (In Luxury, Beware)   \n3                                              \"Le Soir\"   \n4                             \"Oude Vrijer - Jonge Meid\"   \n...                                                  ...   \n21377                       Zerubbabel - Abiud - Eliakim   \n21378  Zeuxis Choosing his Models for the Image of He...   \n21379                   Zeuxis and the Maidens of Croton   \n21380  Zrinyi's Charge on the Turks from the Fortress...   \n21381                                         Emile Zola   \n\n                          TECHNIQUE     DATE          TYPE     SCHOOL  \\\n0         Oil on canvas, 72 x 99 cm     1752     landscape     French   \n1         Oil on canvas, 77 x 63 cm        -         genre    Italian   \n2       Oil on canvas, 105 x 145 cm     1663         genre      Dutch   \n3         Oil on canvas, 72 x 99 cm     1752     landscape     French   \n4      Oil on oak panel, 41 x 36 cm  c. 1665         genre      Dutch   \n...                             ...      ...           ...        ...   \n21377          Fresco, 215 x 430 cm  1511-12     religious    Italian   \n21378   Oil on canvas, 102 x 137 cm     1789    historical     French   \n21379                        Fresco  1519-23  mythological    Italian   \n21380     Oil on wood, 23,5 x 36 cm     1896    historical  Hungarian   \n21381   Oil on canvas, 146 x 114 cm     1868      portrait     French   \n\n       TIMEFRAME                                       localpath  \n0      1751-1800     /mnt/HDD/DATA/SEMART/Images/42725-view2.jpg  \n1      1701-1750  /mnt/HDD/DATA/SEMART/Images/05032-femminie.jpg  \n2      1651-1700     /mnt/HDD/DATA/SEMART/Images/37941-famil.jpg  \n3      1751-1800     /mnt/HDD/DATA/SEMART/Images/42724-view1.jpg  \n4      1651-1700  /mnt/HDD/DATA/SEMART/Images/37916-oudevrij.jpg  \n...          ...                                             ...  \n21377  1501-1550   /mnt/HDD/DATA/SEMART/Images/26703-lu05zer.jpg  \n21378  1751-1800    /mnt/HDD/DATA/SEMART/Images/43240-zeuxis.jpg  \n21379  1501-1550  /mnt/HDD/DATA/SEMART/Images/03589-06ventur.jpg  \n21380  1851-1900   /mnt/HDD/DATA/SEMART/Images/19997-5zrinyi.jpg  \n21381  1851-1900  /mnt/HDD/DATA/SEMART/Images/23837-2manet16.jpg  \n\n[21382 rows x 10 columns]",
      "text/html": "<div>\n<style scoped>\n    .dataframe tbody tr th:only-of-type {\n        vertical-align: middle;\n    }\n\n    .dataframe tbody tr th {\n        vertical-align: top;\n    }\n\n    .dataframe thead th {\n        text-align: right;\n    }\n</style>\n<table border=\"1\" class=\"dataframe\">\n  <thead>\n    <tr style=\"text-align: right;\">\n      <th></th>\n      <th>IMAGE_FILE</th>\n      <th>DESCRIPTION</th>\n      <th>AUTHOR</th>\n      <th>TITLE</th>\n      <th>TECHNIQUE</th>\n      <th>DATE</th>\n      <th>TYPE</th>\n      <th>SCHOOL</th>\n      <th>TIMEFRAME</th>\n      <th>localpath</th>\n    </tr>\n  </thead>\n  <tbody>\n    <tr>\n      <th>0</th>\n      <td>42725-view2.jpg</td>\n      <td>The two Mediterranean views, \"Le Soir: A Medit...</td>\n      <td>VERNET, Claude-Joseph</td>\n      <td>\"Clair de Lune\"</td>\n      <td>Oil on canvas, 72 x 99 cm</td>\n      <td>1752</td>\n      <td>landscape</td>\n      <td>French</td>\n      <td>1751-1800</td>\n      <td>/mnt/HDD/DATA/SEMART/Images/42725-view2.jpg</td>\n    </tr>\n    <tr>\n      <th>1</th>\n      <td>05032-femminie.jpg</td>\n      <td>This painting is a rare, 18th-century depictio...</td>\n      <td>BONITO, Giuseppe</td>\n      <td>\"Il Femminiello\"</td>\n      <td>Oil on canvas, 77 x 63 cm</td>\n      <td>-</td>\n      <td>genre</td>\n      <td>Italian</td>\n      <td>1701-1750</td>\n      <td>/mnt/HDD/DATA/SEMART/Images/05032-femminie.jpg</td>\n    </tr>\n    <tr>\n      <th>2</th>\n      <td>37941-famil.jpg</td>\n      <td>The complex, multi-figure composition probably...</td>\n      <td>STEEN, Jan</td>\n      <td>\"In weelde siet toe\" (In Luxury, Beware)</td>\n      <td>Oil on canvas, 105 x 145 cm</td>\n      <td>1663</td>\n      <td>genre</td>\n      <td>Dutch</td>\n      <td>1651-1700</td>\n      <td>/mnt/HDD/DATA/SEMART/Images/37941-famil.jpg</td>\n    </tr>\n    <tr>\n      <th>3</th>\n      <td>42724-view1.jpg</td>\n      <td>The two Mediterranean views, \"Le Soir: A Medit...</td>\n      <td>VERNET, Claude-Joseph</td>\n      <td>\"Le Soir\"</td>\n      <td>Oil on canvas, 72 x 99 cm</td>\n      <td>1752</td>\n      <td>landscape</td>\n      <td>French</td>\n      <td>1751-1800</td>\n      <td>/mnt/HDD/DATA/SEMART/Images/42724-view1.jpg</td>\n    </tr>\n    <tr>\n      <th>4</th>\n      <td>37916-oudevrij.jpg</td>\n      <td>In this painting a comical figure is greeting ...</td>\n      <td>STEEN, Jan</td>\n      <td>\"Oude Vrijer - Jonge Meid\"</td>\n      <td>Oil on oak panel, 41 x 36 cm</td>\n      <td>c. 1665</td>\n      <td>genre</td>\n      <td>Dutch</td>\n      <td>1651-1700</td>\n      <td>/mnt/HDD/DATA/SEMART/Images/37916-oudevrij.jpg</td>\n    </tr>\n    <tr>\n      <th>...</th>\n      <td>...</td>\n      <td>...</td>\n      <td>...</td>\n      <td>...</td>\n      <td>...</td>\n      <td>...</td>\n      <td>...</td>\n      <td>...</td>\n      <td>...</td>\n      <td>...</td>\n    </tr>\n    <tr>\n      <th>21377</th>\n      <td>26703-lu05zer.jpg</td>\n      <td>\"Shealtiel begat Zerubbabel. Zerubbabel begat ...</td>\n      <td>MICHELANGELO Buonarroti</td>\n      <td>Zerubbabel - Abiud - Eliakim</td>\n      <td>Fresco, 215 x 430 cm</td>\n      <td>1511-12</td>\n      <td>religious</td>\n      <td>Italian</td>\n      <td>1501-1550</td>\n      <td>/mnt/HDD/DATA/SEMART/Images/26703-lu05zer.jpg</td>\n    </tr>\n    <tr>\n      <th>21378</th>\n      <td>43240-zeuxis.jpg</td>\n      <td>This painting was exhibited at the Salon of 17...</td>\n      <td>VINCENT, Francois-Andre</td>\n      <td>Zeuxis Choosing his Models for the Image of He...</td>\n      <td>Oil on canvas, 102 x 137 cm</td>\n      <td>1789</td>\n      <td>historical</td>\n      <td>French</td>\n      <td>1751-1800</td>\n      <td>/mnt/HDD/DATA/SEMART/Images/43240-zeuxis.jpg</td>\n    </tr>\n    <tr>\n      <th>21379</th>\n      <td>03589-06ventur.jpg</td>\n      <td>The most important of the thematic cycle is th...</td>\n      <td>BECCAFUMI, Domenico</td>\n      <td>Zeuxis and the Maidens of Croton</td>\n      <td>Fresco</td>\n      <td>1519-23</td>\n      <td>mythological</td>\n      <td>Italian</td>\n      <td>1501-1550</td>\n      <td>/mnt/HDD/DATA/SEMART/Images/03589-06ventur.jpg</td>\n    </tr>\n    <tr>\n      <th>21380</th>\n      <td>19997-5zrinyi.jpg</td>\n      <td>In 1566, in the Battle of Szigetvar a vastly o...</td>\n      <td>HOLLOSY, Simon</td>\n      <td>Zrinyi's Charge on the Turks from the Fortress...</td>\n      <td>Oil on wood, 23,5 x 36 cm</td>\n      <td>1896</td>\n      <td>historical</td>\n      <td>Hungarian</td>\n      <td>1851-1900</td>\n      <td>/mnt/HDD/DATA/SEMART/Images/19997-5zrinyi.jpg</td>\n    </tr>\n    <tr>\n      <th>21381</th>\n      <td>23837-2manet16.jpg</td>\n      <td>Emile Zola (1840-1902), novelist, journalist, ...</td>\n      <td>MANET, Edouard</td>\n      <td>Emile Zola</td>\n      <td>Oil on canvas, 146 x 114 cm</td>\n      <td>1868</td>\n      <td>portrait</td>\n      <td>French</td>\n      <td>1851-1900</td>\n      <td>/mnt/HDD/DATA/SEMART/Images/23837-2manet16.jpg</td>\n    </tr>\n  </tbody>\n</table>\n<p>21382 rows × 10 columns</p>\n</div>"
     },
     "execution_count": 8,
     "metadata": {},
     "output_type": "execute_result"
    }
   ],
   "source": [
    "semart_csv = Path(\"../semart.csv\")\n",
    "semart = pandas.read_csv(semart_csv)\n",
    "semart.dropna(subset=[\"DESCRIPTION\"], inplace=True)\n",
    "semart"
   ],
   "metadata": {
    "collapsed": false,
    "pycharm": {
     "name": "#%%\n"
    }
   }
  },
  {
   "cell_type": "code",
   "execution_count": 9,
   "outputs": [
    {
     "name": "stdout",
     "output_type": "stream",
     "text": [
      "Mean sentence count = 4.4240950332055\n",
      "Mean sentence count = 1\n"
     ]
    },
    {
     "data": {
      "text/plain": "<Figure size 432x288 with 1 Axes>",
      "image/png": "[encoded data removed]"
     },
     "metadata": {
      "needs_background": "light"
     },
     "output_type": "display_data"
    }
   ],
   "source": [
    "semart['nb_sentences'] = semart['DESCRIPTION'].apply(\n",
    "    lambda s: len(sent_tokenize(s))\n",
    ")\n",
    "semart['nb_sentences'].hist(bins=100)\n",
    "print(f\"Mean sentence count = {semart['nb_sentences'].mean()}\")\n",
    "print(f\"Mean sentence count = {semart['nb_sentences'].min()}\")"
   ],
   "metadata": {
    "collapsed": false,
    "pycharm": {
     "name": "#%%\n"
    }
   }
  },
  {
   "cell_type": "code",
   "execution_count": 10,
   "outputs": [
    {
     "name": "stdout",
     "output_type": "stream",
     "text": [
      "Mean word count = 109.85857263118511\n",
      "Mean word count = 4\n"
     ]
    },
    {
     "data": {
      "text/plain": "<Figure size 432x288 with 1 Axes>",
      "image/png": "[encoded data removed]"
     },
     "metadata": {
      "needs_background": "light"
     },
     "output_type": "display_data"
    }
   ],
   "source": [
    "semart['nb_words'] = semart['DESCRIPTION'].apply(\n",
    "    lambda s: len(word_tokenize(s))\n",
    ")\n",
    "semart['nb_words'].hist(bins=100)\n",
    "print(f\"Mean word count = {semart['nb_words'].mean()}\")\n",
    "print(f\"Min word count = {semart['nb_words'].min()}\")"
   ],
   "metadata": {
    "collapsed": false,
    "pycharm": {
     "name": "#%%\n"
    }
   }
  },
  {
   "cell_type": "code",
   "execution_count": 11,
   "outputs": [
    {
     "name": "stderr",
     "output_type": "stream",
     "text": [
      "Token indices sequence length is longer than the specified maximum sequence length for this model (119 > 77). Running this sequence through the model will result in indexing errors\n"
     ]
    },
    {
     "name": "stdout",
     "output_type": "stream",
     "text": [
      "Mean token count = 128.722850996165\n",
      "Min token count = 6\n"
     ]
    },
    {
     "data": {
      "text/plain": "<Figure size 432x288 with 1 Axes>",
      "image/png": "[encoded data removed]"
     },
     "metadata": {
      "needs_background": "light"
     },
     "output_type": "display_data"
    }
   ],
   "source": [
    "tokenizer = BPETokenizer('clip')\n",
    "semart['nb_tokens'] = semart['DESCRIPTION'].apply(\n",
    "    lambda s: len(tokenizer(s)['input_ids'])\n",
    ")\n",
    "semart['nb_tokens'].hist(bins=100)\n",
    "print(f\"Mean token count = {semart['nb_tokens'].mean()}\")\n",
    "print(f\"Min token count = {semart['nb_tokens'].min()}\")"
   ],
   "metadata": {
    "collapsed": false,
    "pycharm": {
     "name": "#%%\n"
    }
   }
  },
  {
   "cell_type": "code",
   "execution_count": 9,
   "outputs": [
    {
     "name": "stdout",
     "output_type": "stream",
     "text": [
      "Sentences with tokens left out = 930/94596 = 0.01\n",
      "Mean token excess = 14.834408602150537\n"
     ]
    },
    {
     "data": {
      "text/plain": "<Figure size 432x288 with 1 Axes>",
      "image/png": "[encoded data removed]"
     },
     "metadata": {
      "needs_background": "light"
     },
     "output_type": "display_data"
    }
   ],
   "source": [
    "max_len = tokenizer.tokenizer.model_max_length\n",
    "longest = semart[semart['nb_tokens'] > max_len]['nb_tokens'] - max_len\n",
    "ratio = len(longest)/len(semart)\n",
    "longest.hist(bins=100)\n",
    "print(f\"Sentences with tokens left out = {len(longest)}/{(len(semart))} = \"\n",
    "      f\"{ratio:.2f}\")\n",
    "print(f\"Mean token excess = {longest.mean()}\")"
   ],
   "metadata": {
    "collapsed": false,
    "pycharm": {
     "name": "#%%\n"
    }
   }
  }
 ],
 "metadata": {
  "kernelspec": {
   "display_name": "Python 3",
   "language": "python",
   "name": "python3"
  },
  "language_info": {
   "codemirror_mode": {
    "name": "ipython",
    "version": 2
   },
   "file_extension": ".py",
   "mimetype": "text/x-python",
   "name": "python",
   "nbconvert_exporter": "python",
   "pygments_lexer": "ipython2",
   "version": "2.7.6"
  }
 },
 "nbformat": 4,
 "nbformat_minor": 0
}
