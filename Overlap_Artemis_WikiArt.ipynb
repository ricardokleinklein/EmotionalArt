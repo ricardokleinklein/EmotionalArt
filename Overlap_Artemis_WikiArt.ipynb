{
 "cells": [
  {
   "cell_type": "markdown",
   "metadata": {
    "collapsed": true,
    "pycharm": {
     "name": "#%% md\n"
    }
   },
   "source": [
    "# What is the overlap between artworks in Artemis and WikiArt-Emotions?"
   ]
  },
  {
   "cell_type": "code",
   "execution_count": 45,
   "outputs": [
    {
     "data": {
      "text/plain": "PosixPath('/Users/ricardokleinlein/Desktop/Thesis/EmotionalArt')"
     },
     "execution_count": 45,
     "metadata": {},
     "output_type": "execute_result"
    }
   ],
   "source": [
    "import pandas\n",
    "import pathlib\n",
    "import seaborn as sns\n",
    "\n",
    "ROOT = pathlib.Path.cwd().parent\n",
    "ROOT"
   ],
   "metadata": {
    "collapsed": false,
    "pycharm": {
     "name": "#%%\n"
    }
   }
  },
  {
   "cell_type": "code",
   "execution_count": 36,
   "outputs": [
    {
     "name": "stdout",
     "output_type": "stream",
     "text": [
      "Artemis size: 80031\n"
     ]
    }
   ],
   "source": [
    "## Load Artemis - reference names\n",
    "artemis = pandas.read_csv(\n",
    "    ROOT / \"DATA\" / \"artemis\" / \"artemis_dataset_release_v0.csv\")\n",
    "artemis_paintings = set(sorted(list(artemis['painting'].unique())))\n",
    "print(f\"Artemis size: {len(artemis_paintings)}\")"
   ],
   "metadata": {
    "collapsed": false,
    "pycharm": {
     "name": "#%%\n"
    }
   }
  },
  {
   "cell_type": "code",
   "execution_count": 42,
   "outputs": [
    {
     "name": "stdout",
     "output_type": "stream",
     "text": [
      "Wikiart-Emotions size: 4119\n"
     ]
    }
   ],
   "source": [
    "# WikiArt-Emotions - url to be decomposed\n",
    "\n",
    "def decompose_url(url: str) -> str:\n",
    "    \"\"\" Remove domain of the url and make it agree with artemis format.\n",
    "\n",
    "    Args:\n",
    "        url: Painting url.\n",
    "\n",
    "    Returns:\n",
    "        painting's name as shown in Artemis Dataset.\n",
    "    \"\"\"\n",
    "    st = pathlib.Path(url)\n",
    "    return str(st.parent.name) + '_' + str(st.name)\n",
    "\n",
    "\n",
    "data_path = ROOT / \"DATA\" / 'WikiArt-Emotions' / 'WikiArt-info.tsv'\n",
    "wikiart = pandas.read_csv(data_path, sep='\\t', header=0)\n",
    "wikiart['name'] = wikiart['Painting Info URL'].apply(decompose_url)\n",
    "urls = set(sorted(list(wikiart['Painting Info URL'].unique())))\n",
    "print(f\"Wikiart-Emotions size: {len(urls)}\")"
   ],
   "metadata": {
    "collapsed": false,
    "pycharm": {
     "name": "#%%\n"
    }
   }
  },
  {
   "cell_type": "code",
   "execution_count": 40,
   "outputs": [
    {
     "name": "stdout",
     "output_type": "stream",
     "text": [
      "There are 2023 common artworks between Artemis and WikiArt-Emotions\n"
     ]
    }
   ],
   "source": [
    "# Artworks common to both datasets\n",
    "\n",
    "common = artemis_paintings.intersection(urls)\n",
    "print(f\"There are {len(common)} common artworks between Artemis and \"\n",
    "      f\"WikiArt-Emotions\")"
   ],
   "metadata": {
    "collapsed": false,
    "pycharm": {
     "name": "#%%\n"
    }
   }
  },
  {
   "cell_type": "markdown",
   "source": [
    "## Retrieve common samples to check how similar their annotation is\n",
    "\n",
    "TODO: Convert WikiArt-Emotions into a SQL-accessible database and compare\n",
    "the emotion annotation between those samples also present in Artemis."
   ],
   "metadata": {
    "collapsed": false,
    "pycharm": {
     "name": "#%% md\n"
    }
   }
  },
  {
   "cell_type": "code",
   "execution_count": 44,
   "outputs": [
    {
     "name": "stderr",
     "output_type": "stream",
     "text": [
      "/Users/ricardokleinlein/Desktop/Thesis/EmotionalArt/venv/lib/python3.6/site-packages/ipykernel_launcher.py:10: SettingWithCopyWarning: \n",
      "A value is trying to be set on a copy of a slice from a DataFrame.\n",
      "Try using .loc[row_indexer,col_indexer] = value instead\n",
      "\n",
      "See the caveats in the documentation: https://pandas.pydata.org/pandas-docs/stable/user_guide/indexing.html#returning-a-view-versus-a-copy\n",
      "  # Remove the CWD from sys.path while we load stuff.\n"
     ]
    },
    {
     "data": {
      "text/plain": "                   art_style  \\\n45             Impressionism   \n140                  Realism   \n257     Northern_Renaissance   \n326       Post_Impressionism   \n381       Post_Impressionism   \n...                      ...   \n454015               Pop_Art   \n454016               Pop_Art   \n454017               Pop_Art   \n454018               Pop_Art   \n454019               Pop_Art   \n\n                                                 painting         emotion  \\\n45          giuseppe-de-nittis_sarah-bernhardt-as-pierrot       amusement   \n140                         vasily-tropinin_the-lacemaker     contentment   \n257                              konrad-witz_the-synagoge         sadness   \n326     vanessa-bell_still-life-on-corner-of-a-mantelp...     contentment   \n381                               tom-thomson_sunset-1915     contentment   \n...                                                   ...             ...   \n454015          valerio-adami_hotel-chelsea-bathroom-1968  something else   \n454016          valerio-adami_hotel-chelsea-bathroom-1968       amusement   \n454017          valerio-adami_hotel-chelsea-bathroom-1968             awe   \n454018          valerio-adami_hotel-chelsea-bathroom-1968     contentment   \n454019          valerio-adami_hotel-chelsea-bathroom-1968            fear   \n\n                                                utterance  repetition  \\\n45      That outfit looks so silly, this painting made...           6   \n140     The woman making the lace here is clearly enjo...           6   \n257     The woman seems quite sick and almost like she...           6   \n326     the colors chosen are bright and has a lot of ...           6   \n381     That's a really beautiful sunset. It seems lik...           6   \n...                                                   ...         ...   \n454015  it makes me feel confused because the items in...          47   \n454016  The image of this bathroom is amusing as every...          47   \n454017  The black outlines around everything are very ...          47   \n454018  Reminds me of a house I'd use to watch on a ca...          47   \n454019  I don't like this at all. What looks like an a...          47   \n\n          binary  \n45      positive  \n140     positive  \n257     negative  \n326     positive  \n381     positive  \n...          ...  \n454015   neutral  \n454016  positive  \n454017  positive  \n454018  positive  \n454019  negative  \n\n[11692 rows x 6 columns]",
      "text/html": "<div>\n<style scoped>\n    .dataframe tbody tr th:only-of-type {\n        vertical-align: middle;\n    }\n\n    .dataframe tbody tr th {\n        vertical-align: top;\n    }\n\n    .dataframe thead th {\n        text-align: right;\n    }\n</style>\n<table border=\"1\" class=\"dataframe\">\n  <thead>\n    <tr style=\"text-align: right;\">\n      <th></th>\n      <th>art_style</th>\n      <th>painting</th>\n      <th>emotion</th>\n      <th>utterance</th>\n      <th>repetition</th>\n      <th>binary</th>\n    </tr>\n  </thead>\n  <tbody>\n    <tr>\n      <th>45</th>\n      <td>Impressionism</td>\n      <td>giuseppe-de-nittis_sarah-bernhardt-as-pierrot</td>\n      <td>amusement</td>\n      <td>That outfit looks so silly, this painting made...</td>\n      <td>6</td>\n      <td>positive</td>\n    </tr>\n    <tr>\n      <th>140</th>\n      <td>Realism</td>\n      <td>vasily-tropinin_the-lacemaker</td>\n      <td>contentment</td>\n      <td>The woman making the lace here is clearly enjo...</td>\n      <td>6</td>\n      <td>positive</td>\n    </tr>\n    <tr>\n      <th>257</th>\n      <td>Northern_Renaissance</td>\n      <td>konrad-witz_the-synagoge</td>\n      <td>sadness</td>\n      <td>The woman seems quite sick and almost like she...</td>\n      <td>6</td>\n      <td>negative</td>\n    </tr>\n    <tr>\n      <th>326</th>\n      <td>Post_Impressionism</td>\n      <td>vanessa-bell_still-life-on-corner-of-a-mantelp...</td>\n      <td>contentment</td>\n      <td>the colors chosen are bright and has a lot of ...</td>\n      <td>6</td>\n      <td>positive</td>\n    </tr>\n    <tr>\n      <th>381</th>\n      <td>Post_Impressionism</td>\n      <td>tom-thomson_sunset-1915</td>\n      <td>contentment</td>\n      <td>That's a really beautiful sunset. It seems lik...</td>\n      <td>6</td>\n      <td>positive</td>\n    </tr>\n    <tr>\n      <th>...</th>\n      <td>...</td>\n      <td>...</td>\n      <td>...</td>\n      <td>...</td>\n      <td>...</td>\n      <td>...</td>\n    </tr>\n    <tr>\n      <th>454015</th>\n      <td>Pop_Art</td>\n      <td>valerio-adami_hotel-chelsea-bathroom-1968</td>\n      <td>something else</td>\n      <td>it makes me feel confused because the items in...</td>\n      <td>47</td>\n      <td>neutral</td>\n    </tr>\n    <tr>\n      <th>454016</th>\n      <td>Pop_Art</td>\n      <td>valerio-adami_hotel-chelsea-bathroom-1968</td>\n      <td>amusement</td>\n      <td>The image of this bathroom is amusing as every...</td>\n      <td>47</td>\n      <td>positive</td>\n    </tr>\n    <tr>\n      <th>454017</th>\n      <td>Pop_Art</td>\n      <td>valerio-adami_hotel-chelsea-bathroom-1968</td>\n      <td>awe</td>\n      <td>The black outlines around everything are very ...</td>\n      <td>47</td>\n      <td>positive</td>\n    </tr>\n    <tr>\n      <th>454018</th>\n      <td>Pop_Art</td>\n      <td>valerio-adami_hotel-chelsea-bathroom-1968</td>\n      <td>contentment</td>\n      <td>Reminds me of a house I'd use to watch on a ca...</td>\n      <td>47</td>\n      <td>positive</td>\n    </tr>\n    <tr>\n      <th>454019</th>\n      <td>Pop_Art</td>\n      <td>valerio-adami_hotel-chelsea-bathroom-1968</td>\n      <td>fear</td>\n      <td>I don't like this at all. What looks like an a...</td>\n      <td>47</td>\n      <td>negative</td>\n    </tr>\n  </tbody>\n</table>\n<p>11692 rows × 6 columns</p>\n</div>"
     },
     "execution_count": 44,
     "metadata": {},
     "output_type": "execute_result"
    }
   ],
   "source": [
    "subartemis = artemis[artemis['painting'].isin(common)]\n",
    "translate = {'positive': {'amusement', 'awe', 'contentment', 'excitement'},\n",
    "             'negative': {'fear', 'disgust', 'sadness', 'anger'},\n",
    "             'neutral': {'something else'}}\n",
    "def trans(s):\n",
    "    for k in translate:\n",
    "        if s in translate[k]:\n",
    "            return k\n",
    "\n",
    "subartemis['binary'] = subartemis['emotion'].apply(trans)\n",
    "subartemis"
   ],
   "metadata": {
    "collapsed": false,
    "pycharm": {
     "name": "#%%\n"
    }
   }
  },
  {
   "cell_type": "code",
   "execution_count": 53,
   "outputs": [
    {
     "data": {
      "text/plain": "['Art (image+title) #1: ID',\n 'Art (image+title) #2: ID',\n 'Art (image+title) #3: ID',\n 'Art (image+title) #4: ID',\n 'Art (image+title) #5: ID',\n 'ImageOnly #1: ID',\n 'ImageOnly #2: ID',\n 'ImageOnly #3: ID',\n 'ImageOnly #4: ID',\n 'ImageOnly #5: ID',\n 'TitleOnly #1: ID',\n 'TitleOnly #2: ID',\n 'TitleOnly #3: ID',\n 'TitleOnly #4: ID',\n 'TitleOnly #5: ID']"
     },
     "execution_count": 53,
     "metadata": {},
     "output_type": "execute_result"
    }
   ],
   "source": [
    "subwikiart = wikiart[wikiart['name'].isin(common)]\n",
    "data_path = ROOT / \"DATA\" / 'WikiArt-Emotions' / 'WikiArt-annotations.csv'\n",
    "emotions = pandas.read_csv(data_path)\n",
    "id_cols = sorted([s for s in list(emotions) if ': ID' in s])\n",
    "id_cols"
   ],
   "metadata": {
    "collapsed": false,
    "pycharm": {
     "name": "#%%\n"
    }
   }
  }
 ],
 "metadata": {
  "kernelspec": {
   "display_name": "Python 3",
   "language": "python",
   "name": "python3"
  },
  "language_info": {
   "codemirror_mode": {
    "name": "ipython",
    "version": 2
   },
   "file_extension": ".py",
   "mimetype": "text/x-python",
   "name": "python",
   "nbconvert_exporter": "python",
   "pygments_lexer": "ipython2",
   "version": "2.7.6"
  }
 },
 "nbformat": 4,
 "nbformat_minor": 0
}